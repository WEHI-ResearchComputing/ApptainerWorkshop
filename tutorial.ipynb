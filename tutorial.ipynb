{
 "cells": [
  {
   "cell_type": "code",
   "execution_count": null,
   "metadata": {
    "slideshow": {
     "slide_type": "skip"
    }
   },
   "outputs": [],
   "source": [
    "source vars.sh"
   ]
  },
  {
   "cell_type": "markdown",
   "metadata": {
    "slideshow": {
     "slide_type": "skip"
    }
   },
   "source": [
    "<link href=\"https://cdn.jsdelivr.net/npm/bootstrap@5.2.2/dist/css/bootstrap.min.css\" rel=\"stylesheet\" integrity=\"sha384-Zenh87qX5JnK2Jl0vWa8Ck2rdkQ2Bzep5IDxbcnCeuOxjzrPF/et3URy9Bv1WTRi\" crossorigin=\"anonymous\">"
   ]
  },
  {
   "cell_type": "markdown",
   "metadata": {
    "slideshow": {
     "slide_type": "slide"
    }
   },
   "source": [
    "# Containers on Milton"
   ]
  },
  {
   "cell_type": "markdown",
   "metadata": {
    "slideshow": {
     "slide_type": "slide"
    }
   },
   "source": [
    "# Motivation"
   ]
  },
  {
   "cell_type": "markdown",
   "metadata": {
    "slideshow": {
     "slide_type": "subslide"
    }
   },
   "source": [
    "## Why Containers?\n",
    "\n",
    "* Reproducibility: ensure the analysis is insulated from changes in the outside system such as upgrades, environment variables etc.\n",
    "    * e.g. you can compile a container with the exact R version, packages and data required to reproduce your analysis!\n",
    "* Easy Usage: no need to install dependencies, use `make` etc, since they are all bundled. Sometimes users don't have permissions to install dependencies.\n",
    "    * e.g. WEHI's AlphaFold\n",
    "* Portability: the same `.cif` container can be run on any Linux machine with the same CPU architecture. No need to install using `apt`/`yum`/`conda` etc\n",
    "    e.g. deploying a web application such as Shiny\n",
    "* Maintainability: developers don't need to edit code to accommodate updates to language version etc\n",
    "* OS Support: can be used to run old or new software that isn't compatible with the OS without breaking everything else.\n",
    "\n",
    "[More information](https://apptainer.org/docs/user/main/introduction.html#use-cases)"
   ]
  },
  {
   "cell_type": "markdown",
   "metadata": {
    "slideshow": {
     "slide_type": "subslide"
    }
   },
   "source": [
    "## Why Apptainer?\n",
    "\n",
    "Linux supports various container engines:\n",
    "\n",
    "* Docker: most popular, but insecure on shared systems\n",
    "* Podman: open source re-implementation of Docker. More secure\n",
    "* Apptainer: different API from docker, designed to be HPC-first\n",
    "* Singularity: old version of Singularity"
   ]
  },
  {
   "cell_type": "markdown",
   "metadata": {
    "slideshow": {
     "slide_type": "slide"
    }
   },
   "source": [
    "# Running Containers"
   ]
  },
  {
   "cell_type": "markdown",
   "metadata": {
    "slideshow": {
     "slide_type": "subslide"
    }
   },
   "source": [
    "## Setting Up Apptainer"
   ]
  },
  {
   "cell_type": "markdown",
   "metadata": {
    "slideshow": {
     "slide_type": "subslide"
    }
   },
   "source": [
    "First we need to load apptainer. The most common way to load apptainer is as an [Environment Module](https://modules.readthedocs.io/en/latest/). On milton, the latest version we have access to is `1.1.0`."
   ]
  },
  {
   "cell_type": "code",
   "execution_count": null,
   "metadata": {
    "slideshow": {
     "slide_type": "-"
    }
   },
   "outputs": [],
   "source": [
    "module load apptainer/1.1.0"
   ]
  },
  {
   "cell_type": "code",
   "execution_count": null,
   "metadata": {
    "slideshow": {
     "slide_type": "-"
    }
   },
   "outputs": [],
   "source": [
    "apptainer version"
   ]
  },
  {
   "cell_type": "code",
   "execution_count": 18,
   "metadata": {
    "slideshow": {
     "slide_type": "subslide"
    }
   },
   "outputs": [
    {
     "name": "stdout",
     "output_type": "stream",
     "text": [
      "Usage: grep [OPTION]... PATTERN [FILE]...\n",
      "Search for PATTERN in each FILE or standard input.\n",
      "PATTERN is, by default, a basic regular expression (BRE).\n",
      "Example: grep -i 'hello world' menu.h main.c\n",
      "\n",
      "Regexp selection and interpretation:\n",
      "  -E, --extended-regexp     PATTERN is an extended regular expression (ERE)\n",
      "  -F, --fixed-strings       PATTERN is a set of newline-separated fixed strings\n",
      "  -G, --basic-regexp        PATTERN is a basic regular expression (BRE)\n",
      "  -P, --perl-regexp         PATTERN is a Perl regular expression\n",
      "  -e, --regexp=PATTERN      use PATTERN for matching\n",
      "  -f, --file=FILE           obtain PATTERN from FILE\n",
      "  -i, --ignore-case         ignore case distinctions\n",
      "  -w, --word-regexp         force PATTERN to match only whole words\n",
      "  -x, --line-regexp         force PATTERN to match only whole lines\n",
      "  -z, --null-data           a data line ends in 0 byte, not newline\n",
      "\n",
      "Miscellaneous:\n",
      "  -s, --no-messages         suppress error messages\n",
      "  -v, --invert-match        select non-matching lines\n",
      "  -V, --version             display version information and exit\n",
      "      --help                display this help text and exit\n",
      "\n",
      "Output control:\n",
      "  -m, --max-count=NUM       stop after NUM matches\n",
      "  -b, --byte-offset         print the byte offset with output lines\n",
      "  -n, --line-number         print line number with output lines\n",
      "      --line-buffered       flush output on every line\n",
      "  -H, --with-filename       print the file name for each match\n",
      "  -h, --no-filename         suppress the file name prefix on output\n",
      "      --label=LABEL         use LABEL as the standard input file name prefix\n",
      "  -o, --only-matching       show only the part of a line matching PATTERN\n",
      "  -q, --quiet, --silent     suppress all normal output\n",
      "      --binary-files=TYPE   assume that binary files are TYPE;\n",
      "                            TYPE is 'binary', 'text', or 'without-match'\n",
      "  -a, --text                equivalent to --binary-files=text\n",
      "  -I                        equivalent to --binary-files=without-match\n",
      "  -d, --directories=ACTION  how to handle directories;\n",
      "                            ACTION is 'read', 'recurse', or 'skip'\n",
      "  -D, --devices=ACTION      how to handle devices, FIFOs and sockets;\n",
      "                            ACTION is 'read' or 'skip'\n",
      "  -r, --recursive           like --directories=recurse\n",
      "  -R, --dereference-recursive\n",
      "                            likewise, but follow all symlinks\n",
      "      --include=FILE_PATTERN\n",
      "                            search only files that match FILE_PATTERN\n",
      "      --exclude=FILE_PATTERN\n",
      "                            skip files and directories matching FILE_PATTERN\n",
      "      --exclude-from=FILE   skip files matching any file pattern from FILE\n",
      "      --exclude-dir=PATTERN directories that match PATTERN will be skipped.\n",
      "  -L, --files-without-match print only names of FILEs containing no match\n",
      "  -l, --files-with-matches  print only names of FILEs containing matches\n",
      "  -c, --count               print only a count of matching lines per FILE\n",
      "  -T, --initial-tab         make tabs line up (if needed)\n",
      "  -Z, --null                print 0 byte after FILE name\n",
      "\n",
      "Context control:\n",
      "  -B, --before-context=NUM  print NUM lines of leading context\n",
      "  -A, --after-context=NUM   print NUM lines of trailing context\n",
      "  -C, --context=NUM         print NUM lines of output context\n",
      "  -NUM                      same as --context=NUM\n",
      "      --group-separator=SEP use SEP as a group separator\n",
      "      --no-group-separator  use empty string as a group separator\n",
      "      --color[=WHEN],\n",
      "      --colour[=WHEN]       use markers to highlight the matching strings;\n",
      "                            WHEN is 'always', 'never', or 'auto'\n",
      "  -U, --binary              do not strip CR characters at EOL (MSDOS/Windows)\n",
      "  -u, --unix-byte-offsets   report offsets as if CRs were not there\n",
      "                            (MSDOS/Windows)\n",
      "\n",
      "'egrep' means 'grep -E'.  'fgrep' means 'grep -F'.\n",
      "Direct invocation as either 'egrep' or 'fgrep' is deprecated.\n",
      "When FILE is -, read standard input.  With no FILE, read . if a command-line\n",
      "-r is given, - otherwise.  If fewer than two FILEs are given, assume -h.\n",
      "Exit status is 0 if any line is selected, 1 otherwise;\n",
      "if any error occurs and -q is not given, the exit status is 2.\n",
      "\n",
      "Report bugs to: bug-grep@gnu.org\n",
      "GNU Grep home page: <http://www.gnu.org/software/grep/>\n",
      "General help using GNU software: <http://www.gnu.org/gethelp/>\n"
     ]
    }
   ],
   "source": [
    "grep --help"
   ]
  },
  {
   "cell_type": "code",
   "execution_count": 15,
   "metadata": {
    "slideshow": {
     "slide_type": "subslide"
    }
   },
   "outputs": [
    {
     "name": "stdout",
     "output_type": "stream",
     "text": [
      "\n",
      "Linux container platform optimized for High Performance Computing (HPC) and\n",
      "Enterprise Performance Computing (EPC)\n",
      "\n",
      "Usage:\n",
      "  apptainer [global options...]\n",
      "\n",
      "Description:\n",
      "  Apptainer containers provide an application virtualization layer enabling\n",
      "  mobility of compute via both application and environment portability. With\n",
      "  Apptainer one is capable of building a root file system that runs on any\n",
      "  other Linux system where Apptainer is installed.\n",
      "\n",
      "Options:\n",
      "      --build-config    use configuration needed for building containers\n",
      "  -c, --config string   specify a configuration file (for root or\n",
      "                        unprivileged installation only) (default\n",
      "                        \"/stornext/System/data/tools/apptainer/apptainer-1.1.0/etc/apptainer/apptainer.conf\")\n",
      "  -d, --debug           print debugging information (highest verbosity)\n",
      "  -h, --help            help for apptainer\n",
      "      --nocolor         print without color output (default False)\n",
      "  -q, --quiet           suppress normal output\n",
      "  -s, --silent          only print errors\n",
      "  -v, --verbose         print additional information\n",
      "\n",
      "Available Commands:\n",
      "  build       Build an Apptainer image\n",
      "  cache       Manage the local cache\n",
      "  capability  Manage Linux capabilities for users and groups\n",
      "  checkpoint  Manage container checkpoint state (experimental)\n",
      "  completion  Generate the autocompletion script for the specified shell\n",
      "  config      Manage various apptainer configuration (root user only)\n",
      "  delete      Deletes requested image from the library\n",
      "  exec        Run a command within a container\n",
      "  help        Help about any command\n",
      "  inspect     Show metadata for an image\n",
      "  instance    Manage containers running as services\n",
      "  key         Manage OpenPGP keys\n",
      "  oci         Manage OCI containers\n",
      "  overlay     Manage an EXT3 writable overlay image\n",
      "  plugin      Manage Apptainer plugins\n",
      "  pull        Pull an image from a URI\n",
      "  push        Upload image to the provided URI\n",
      "  remote      Manage apptainer remote endpoints, keyservers and OCI/Docker registry credentials\n",
      "  run         Run the user-defined default command within a container\n",
      "  run-help    Show the user-defined help for an image\n",
      "  search      Search a Container Library for images\n",
      "  shell       Run a shell within a container\n",
      "  sif         Manipulate Singularity Image Format (SIF) images\n",
      "  sign        Attach digital signature(s) to an image\n",
      "  test        Run the user-defined tests within a container\n",
      "  verify      Verify cryptographic signatures attached to an image\n",
      "  version     Show the version for Apptainer\n",
      "\n",
      "Examples:\n",
      "  $ apptainer help <command> [<subcommand>]\n",
      "  $ apptainer help build\n",
      "  $ apptainer help instance start\n",
      "\n",
      "\n",
      "For additional help or support, please visit https://apptainer.org/help/\n"
     ]
    }
   ],
   "source": [
    "apptainer help"
   ]
  },
  {
   "cell_type": "markdown",
   "metadata": {
    "slideshow": {
     "slide_type": "subslide"
    }
   },
   "source": [
    "You can run Apptainer images using the `apptainer run ` command. This executes the \"runscript\" inside the container, which is the default executable:"
   ]
  },
  {
   "cell_type": "code",
   "execution_count": null,
   "metadata": {
    "slideshow": {
     "slide_type": "-"
    }
   },
   "outputs": [],
   "source": [
    "apptainer run --help"
   ]
  },
  {
   "cell_type": "markdown",
   "metadata": {
    "slideshow": {
     "slide_type": "subslide"
    }
   },
   "source": [
    "If you're working with an image you have downloaded, this will probably be a `.sif` file:"
   ]
  },
  {
   "cell_type": "code",
   "execution_count": null,
   "metadata": {
    "slideshow": {
     "slide_type": "fragment"
    }
   },
   "outputs": [],
   "source": [
    "apptainer run WelcomeImage/hello.sif"
   ]
  },
  {
   "cell_type": "code",
   "execution_count": null,
   "metadata": {
    "slideshow": {
     "slide_type": "fragment"
    }
   },
   "outputs": [],
   "source": [
    "#apptainer run oras://ghcr.io/WEHI-ResearchComputing/hello:latest"
   ]
  },
  {
   "cell_type": "markdown",
   "metadata": {
    "slideshow": {
     "slide_type": "subslide"
    }
   },
   "source": [
    "Next, we will try to run a Docker container. This is the most common type of container you will likely find in the wild, since Apptainer is mostly only used on HPC:\n",
    "\n",
    "<div class=\"alert alert-info\" role=\"alert\">\n",
    "    Try this yourself!\n",
    "</div>"
   ]
  },
  {
   "cell_type": "code",
   "execution_count": null,
   "metadata": {
    "slideshow": {
     "slide_type": "fragment"
    }
   },
   "outputs": [],
   "source": [
    "apptainer run docker://hello-world"
   ]
  },
  {
   "cell_type": "code",
   "execution_count": null,
   "metadata": {
    "slideshow": {
     "slide_type": "fragment"
    }
   },
   "outputs": [],
   "source": [
    "apptainer exec docker://docker/whalesay cowsay boo"
   ]
  },
  {
   "cell_type": "markdown",
   "metadata": {
    "slideshow": {
     "slide_type": "fragment"
    }
   },
   "source": [
    "This was originally from: https://hub.docker.com/r/docker/whalesay/"
   ]
  },
  {
   "cell_type": "code",
   "execution_count": null,
   "metadata": {
    "slideshow": {
     "slide_type": "notes"
    }
   },
   "outputs": [],
   "source": [
    "* Note that ultimately the Docker image is converted to `.sif` format"
   ]
  },
  {
   "cell_type": "code",
   "execution_count": null,
   "metadata": {
    "slideshow": {
     "slide_type": "slide"
    }
   },
   "outputs": [],
   "source": [
    "cd WelcomeImage\n",
    "apptainer build hello.sif hello.def"
   ]
  },
  {
   "cell_type": "code",
   "execution_count": null,
   "metadata": {},
   "outputs": [],
   "source": [
    "apptainer run hello.sif"
   ]
  },
  {
   "cell_type": "code",
   "execution_count": null,
   "metadata": {
    "slideshow": {
     "slide_type": "slide"
    }
   },
   "outputs": [],
   "source": [
    "ls /vast/projects/alphafold/alphafold/alphafold-2.2.0.0/"
   ]
  },
  {
   "cell_type": "code",
   "execution_count": null,
   "metadata": {
    "slideshow": {
     "slide_type": "slide"
    }
   },
   "outputs": [],
   "source": [
    "cat /vast/projects/alphafold/alphafold/alphafold-2.2.0.0/bin/alphafold"
   ]
  },
  {
   "cell_type": "code",
   "execution_count": null,
   "metadata": {
    "slideshow": {
     "slide_type": "slide"
    }
   },
   "outputs": [],
   "source": [
    "singularity run /vast/projects/alphafold/alphafold/alphafold-2.2.0.0/AlphaFold-2.2.0.0.sif \\\n",
    "    "
   ]
  },
  {
   "cell_type": "markdown",
   "metadata": {
    "slideshow": {
     "slide_type": "slide"
    }
   },
   "source": [
    "## Building Containers"
   ]
  },
  {
   "cell_type": "markdown",
   "metadata": {
    "slideshow": {
     "slide_type": "slide"
    }
   },
   "source": [
    "## Hosting Containers"
   ]
  },
  {
   "cell_type": "markdown",
   "metadata": {
    "slideshow": {
     "slide_type": "subslide"
    }
   },
   "source": [
    "### Create a Repository"
   ]
  },
  {
   "cell_type": "markdown",
   "metadata": {
    "slideshow": {
     "slide_type": "subslide"
    }
   },
   "source": [
    "### Create a Token\n",
    "\n",
    "* Visit https://github.com/settings/tokens\n",
    "* \"Generate a new token (classic)\"\n",
    "* Check `write:packages`\n",
    "* Click \"Generate token\""
   ]
  },
  {
   "cell_type": "markdown",
   "metadata": {
    "slideshow": {
     "slide_type": "subslide"
    }
   },
   "source": [
    "## Login\n",
    "\n",
    "* Run `apptainer remote login --username <YOUR GITHUB USERNAME> docker://ghcr.io`, and then paste in the access token\n",
    "* Run `apptainer push WelcomeImage/hello.cif oras://ghcr.io/<YOUR GITHUB USERNAME>/hello:latest`"
   ]
  },
  {
   "cell_type": "code",
   "execution_count": null,
   "metadata": {
    "slideshow": {
     "slide_type": "fragment"
    }
   },
   "outputs": [],
   "source": [
    "apptainer remote login --username $GITHUB_USERNAME --password $GITHUB_TOKEN docker://ghcr.io"
   ]
  },
  {
   "cell_type": "code",
   "execution_count": null,
   "metadata": {
    "slideshow": {
     "slide_type": "fragment"
    }
   },
   "outputs": [],
   "source": [
    "apptainer push WelcomeImage/hello.cif oras://ghcr.io/$GITHUB_USERNAME/hello:latest"
   ]
  }
 ],
 "metadata": {
  "celltoolbar": "Slideshow",
  "kernelspec": {
   "display_name": "Bash",
   "language": "bash",
   "name": "bash"
  },
  "language_info": {
   "codemirror_mode": "shell",
   "file_extension": ".sh",
   "mimetype": "text/x-sh",
   "name": "bash"
  }
 },
 "nbformat": 4,
 "nbformat_minor": 4
}
