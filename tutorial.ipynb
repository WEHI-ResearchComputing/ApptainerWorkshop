{
 "cells": [
  {
   "cell_type": "code",
   "execution_count": 1,
   "metadata": {
    "slideshow": {
     "slide_type": "skip"
    }
   },
   "outputs": [],
   "source": [
    "source vars.sh"
   ]
  },
  {
   "cell_type": "markdown",
   "metadata": {
    "slideshow": {
     "slide_type": "slide"
    }
   },
   "source": [
    "# Containers on Milton\n",
    "\n",
    "Presented by Michael Milton"
   ]
  },
  {
   "cell_type": "markdown",
   "metadata": {
    "slideshow": {
     "slide_type": "slide"
    }
   },
   "source": [
    "# Introduction"
   ]
  },
  {
   "cell_type": "markdown",
   "metadata": {
    "slideshow": {
     "slide_type": "subslide"
    }
   },
   "source": [
    "## Acknowledgement of Country\n",
    "\n",
    "This workshop is being held on the lands of the Wurundjeri People people and I wish to acknowledge them as Traditional Owners.\n",
    "\n",
    "I would also like to pay my respects to their Elders, past and present, and Aboriginal Elders of other communities who may be here today.\n"
   ]
  },
  {
   "cell_type": "markdown",
   "metadata": {
    "slideshow": {
     "slide_type": "subslide"
    }
   },
   "source": [
    "## Outline\n",
    "\n",
    "* Introduction\n",
    "* Running Containers\n",
    "* Break!\n",
    "* Building Containers\n",
    "* Hosting Containers"
   ]
  },
  {
   "cell_type": "markdown",
   "metadata": {
    "slideshow": {
     "slide_type": "subslide"
    }
   },
   "source": [
    "## Housekeeping\n",
    "\n",
    "* Notebook is available at https://tinyurl.com/36p67eab\n",
    "* Same content as slides\n",
    "* Can use this to copy commands\n",
    "* When you see the following, follow along:\n",
    "<div class=\"alert alert-info\" role=\"alert\">\n",
    "    ▶ Try this yourself! \n",
    "</div>\n",
    "\n",
    "* The following cells are bash commands:"
   ]
  },
  {
   "cell_type": "code",
   "execution_count": 2,
   "metadata": {
    "slideshow": {
     "slide_type": "-"
    }
   },
   "outputs": [
    {
     "name": "stdout",
     "output_type": "stream",
     "text": [
      "Hello!\n"
     ]
    }
   ],
   "source": [
    "echo 'Hello!'"
   ]
  },
  {
   "cell_type": "markdown",
   "metadata": {
    "slideshow": {
     "slide_type": "subslide"
    }
   },
   "source": [
    "## What are Containers?\n",
    "\n",
    "* Single files\n",
    "* Archives that contain other files (like `.tar` or `.zip`)\n",
    "* Can execute commands *inside*\n",
    "* Like lightweight virtual machines"
   ]
  },
  {
   "cell_type": "markdown",
   "metadata": {
    "slideshow": {
     "slide_type": "subslide"
    }
   },
   "source": [
    "## Why Containers?\n",
    "\n",
    "* Reproducibility: ensure the analysis is insulated from changes in the outside system such as upgrades, environment variables etc.\n",
    "    * e.g. you can compile a container with the exact R version, packages and data required to reproduce your analysis!\n",
    "* Easy Usage: no need to install dependencies, use `make` etc, since they are all bundled. Sometimes users don't have permissions to install dependencies.\n",
    "    * e.g. WEHI's AlphaFold\n",
    "* Portability: the same `.sif` container can be run on any Linux machine with the same CPU architecture. No need to install using `apt`/`yum`/`conda` etc\n",
    "    e.g. deploying a web application such as Shiny\n",
    "* Maintainability: developers don't need to edit code to accommodate updates to language version etc\n",
    "* OS Support: can be used to run old or new software that isn't compatible with the OS without breaking everything else.\n",
    "\n",
    "[More information](https://apptainer.org/docs/user/main/introduction.html#use-cases)"
   ]
  },
  {
   "cell_type": "markdown",
   "metadata": {
    "slideshow": {
     "slide_type": "subslide"
    }
   },
   "source": [
    "## Why Apptainer?\n",
    "\n",
    "Linux supports various container engines:\n",
    "\n",
    "* Docker: most popular, but insecure on shared systems\n",
    "* Podman: open source re-implementation of Docker. More secure\n",
    "* Apptainer: different API from docker, designed to be HPC-first\n",
    "* Singularity: old version of Apptainer"
   ]
  },
  {
   "cell_type": "markdown",
   "metadata": {
    "slideshow": {
     "slide_type": "subslide"
    }
   },
   "source": [
    "## What about Conda?\n",
    "\n",
    "* Conda solves the same problem of software installation\n",
    "* You can share conda environment files to increase reproducibility\n",
    "* Conda is even usable with Nextflow\n",
    "* However:\n",
    "    * Sharing Conda environment files is like sharing a recipe rather than sharing your cookies\n",
    "    * Installation can be quite slow due to resolving the dependencies each time\n",
    "    * Not contained: using Conda still means your analysis is influenced by your environment, your operating system, and everything else you have installed\n",
    "    * Certain platforms and engines only accept containers: Cromwell/WDL/terra.bio, AWS\n",
    "    * If a tool is not in Conda, you can often compile a tool from scratch inside a container, which might be difficult or impossible with Conda\n",
    "    * Doesn't solve legacy software issues\n",
    "    * Fakeroot: you can pretend to be the root user inside a container"
   ]
  },
  {
   "cell_type": "markdown",
   "metadata": {},
   "source": [
    "## Terminology\n",
    "\n",
    "* **Image**: an archive containing a bundle of files. Read only.\n",
    "* **Container**: an executing image. May be writeable.\n",
    "* These two are often confused!\n",
    "* **Host**: the machine running (\"hosting\") the container. "
   ]
  },
  {
   "cell_type": "markdown",
   "metadata": {
    "slideshow": {
     "slide_type": "slide"
    }
   },
   "source": [
    "# Running Containers"
   ]
  },
  {
   "cell_type": "markdown",
   "metadata": {
    "slideshow": {
     "slide_type": "subslide"
    }
   },
   "source": [
    "## Setup\n",
    "\n",
    "```\n",
    "ssh vc7-shared\n",
    "salloc --partition interactive --time 4:00:00\n",
    "git clone https://github.com/WEHI-ResearchComputing/ApptainerWorkshop.git\n",
    "```\n",
    "\n",
    "If you have access to `/vast/scratch`, you can make sure Apptainer doesn't fill up your home directory:\n",
    "```\n",
    "export APPTAINER_CACHEDIR=/vast/scratch/users/milton.m/apptainer_cache\n",
    "export TMPDIR=/vast/scratch/users/milton.m/tmp\n",
    "```"
   ]
  },
  {
   "cell_type": "markdown",
   "metadata": {
    "slideshow": {
     "slide_type": "subslide"
    }
   },
   "source": [
    "## Setting Up Apptainer\n",
    "\n",
    "First we need to load apptainer. The most common way to load apptainer is as an [Environment Module](https://modules.readthedocs.io/en/latest/). On milton, the latest version we have access to is `1.1.0`.\n",
    "\n",
    "<div class=\"alert alert-info\" role=\"alert\">\n",
    "    ▶ Try this yourself!\n",
    "</div>"
   ]
  },
  {
   "cell_type": "code",
   "execution_count": 3,
   "metadata": {
    "slideshow": {
     "slide_type": "-"
    }
   },
   "outputs": [],
   "source": [
    "module load apptainer/1.1.0"
   ]
  },
  {
   "cell_type": "code",
   "execution_count": 4,
   "metadata": {
    "slideshow": {
     "slide_type": "-"
    }
   },
   "outputs": [
    {
     "name": "stdout",
     "output_type": "stream",
     "text": [
      "1.1.0\n"
     ]
    }
   ],
   "source": [
    "apptainer version"
   ]
  },
  {
   "cell_type": "code",
   "execution_count": 5,
   "metadata": {
    "scrolled": true,
    "slideshow": {
     "slide_type": "subslide"
    }
   },
   "outputs": [
    {
     "name": "stdout",
     "output_type": "stream",
     "text": [
      "\n",
      "Linux container platform optimized for High Performance Computing (HPC) and\n",
      "Enterprise Performance Computing (EPC)\n",
      "\n",
      "Usage:\n",
      "  apptainer [global options...]\n",
      "\n",
      "Description:\n",
      "  Apptainer containers provide an application virtualization layer enabling\n",
      "  mobility of compute via both application and environment portability. With\n",
      "  Apptainer one is capable of building a root file system that runs on any\n",
      "  other Linux system where Apptainer is installed.\n",
      "\n",
      "Options:\n",
      "      --build-config    use configuration needed for building containers\n",
      "  -c, --config string   specify a configuration file (for root or\n",
      "                        unprivileged installation only) (default\n",
      "                        \"/stornext/System/data/tools/apptainer/apptainer-1.1.0/etc/apptainer/apptainer.conf\")\n",
      "  -d, --debug           print debugging information (highest verbosity)\n",
      "  -h, --help            help for apptainer\n",
      "      --nocolor         print without color output (default False)\n",
      "  -q, --quiet           suppress normal output\n",
      "  -s, --silent          only print errors\n",
      "  -v, --verbose         print additional information\n",
      "      --version         version for apptainer\n",
      "\n",
      "Available Commands:\n",
      "  build       Build an Apptainer image\n",
      "  cache       Manage the local cache\n",
      "  capability  Manage Linux capabilities for users and groups\n",
      "  checkpoint  Manage container checkpoint state (experimental)\n",
      "  completion  Generate the autocompletion script for the specified shell\n",
      "  config      Manage various apptainer configuration (root user only)\n",
      "  delete      Deletes requested image from the library\n",
      "  exec        Run a command within a container\n",
      "  help        Help about any command\n",
      "  inspect     Show metadata for an image\n",
      "  instance    Manage containers running as services\n",
      "  key         Manage OpenPGP keys\n",
      "  oci         Manage OCI containers\n",
      "  overlay     Manage an EXT3 writable overlay image\n",
      "  plugin      Manage Apptainer plugins\n",
      "  pull        Pull an image from a URI\n",
      "  push        Upload image to the provided URI\n",
      "  remote      Manage apptainer remote endpoints, keyservers and OCI/Docker registry credentials\n",
      "  run         Run the user-defined default command within a container\n",
      "  run-help    Show the user-defined help for an image\n",
      "  search      Search a Container Library for images\n",
      "  shell       Run a shell within a container\n",
      "  sif         Manipulate Singularity Image Format (SIF) images\n",
      "  sign        Attach digital signature(s) to an image\n",
      "  test        Run the user-defined tests within a container\n",
      "  verify      Verify cryptographic signatures attached to an image\n",
      "  version     Show the version for Apptainer\n",
      "\n",
      "Examples:\n",
      "  $ apptainer help <command> [<subcommand>]\n",
      "  $ apptainer help build\n",
      "  $ apptainer help instance start\n",
      "\n",
      "\n",
      "For additional help or support, please visit https://apptainer.org/help/\n"
     ]
    }
   ],
   "source": [
    "apptainer --help"
   ]
  },
  {
   "cell_type": "markdown",
   "metadata": {
    "slideshow": {
     "slide_type": "subslide"
    }
   },
   "source": [
    "## Apptainer Run\n",
    "\n",
    "You can run Apptainer images using the `apptainer run` command. This executes the \"runscript\" inside the container, which is the default executable:"
   ]
  },
  {
   "cell_type": "code",
   "execution_count": 6,
   "metadata": {
    "slideshow": {
     "slide_type": "-"
    }
   },
   "outputs": [
    {
     "name": "stdout",
     "output_type": "stream",
     "text": [
      "Run the user-defined default command within a container\n",
      "\n",
      "Usage:\n",
      "  apptainer run [run options...] <container>\n",
      "\n",
      "Description:\n",
      "  This command will launch an Apptainer container and execute a runscript\n",
      "  if one is defined for that container. The runscript is a metadata file within\n",
      "  the container that contains shell commands. If the file is present (and\n",
      "  executable) then this command will execute that file within the container\n",
      "  automatically. All arguments following the container name will be passed\n",
      "  directly to the runscript.\n",
      "\n",
      "  apptainer run accepts the following container formats:\n",
      "\n",
      "  *.sif               Singularity Image Format (SIF). Native to Singularity\n",
      "                      (3.0+) and Apptainer (v1.0.0+)\n",
      "  \n",
      "  *.sqsh              SquashFS format.  Native to Singularity 2.4+\n",
      "\n",
      "  *.img               ext3 format. Native to Singularity versions < 2.4.\n",
      "\n",
      "  directory/          sandbox format. Directory containing a valid root file \n",
      "                      system and optionally Apptainer meta-data.\n",
      "\n",
      "  instance://*        A local running instance of a container. (See the instance\n",
      "                      command group.)\n",
      "\n",
      "  library://*         A SIF container hosted on a Library (no default)\n",
      "\n",
      "  docker://*          A Docker/OCI container hosted on Docker Hub or another\n",
      "                      OCI registry.\n",
      "\n",
      "  shub://*            A container hosted on Singularity Hub.\n",
      "\n",
      "  oras://*            A SIF container hosted on an OCI registry that supports\n",
      "                      the OCI Registry As Storage (ORAS) specification.\n",
      "\n",
      "Options:\n",
      "      --add-caps string               a comma separated capability list to add\n",
      "      --allow-setuid                  allow setuid binaries in container\n",
      "                                      (root only)\n",
      "      --app string                    set an application to run inside a\n",
      "                                      container\n",
      "      --apply-cgroups string          apply cgroups from file for\n",
      "                                      container processes (root only)\n",
      "  -B, --bind stringArray              a user-bind path specification. \n",
      "                                      spec has the format\n",
      "                                      src[:dest[:opts]], where src and\n",
      "                                      dest are outside and inside paths. \n",
      "                                      If dest is not given, it is set\n",
      "                                      equal to src.  Mount options\n",
      "                                      ('opts') may be specified as 'ro'\n",
      "                                      (read-only) or 'rw' (read/write,\n",
      "                                      which is the default). Multiple bind\n",
      "                                      paths can be given by a comma\n",
      "                                      separated list.\n",
      "      --blkio-weight int              Block IO relative weight in range\n",
      "                                      10-1000, 0 to disable\n",
      "      --blkio-weight-device strings   Device specific block IO relative weight\n",
      "  -e, --cleanenv                      clean environment before running\n",
      "                                      container\n",
      "      --compat                        apply settings for increased\n",
      "                                      OCI/Docker compatibility. Infers\n",
      "                                      --containall, --no-init, --no-umask,\n",
      "                                      --no-eval, --writable-tmpfs.\n",
      "  -c, --contain                       use minimal /dev and empty other\n",
      "                                      directories (e.g. /tmp and $HOME)\n",
      "                                      instead of sharing filesystems from\n",
      "                                      your host\n",
      "  -C, --containall                    contain not only file systems, but\n",
      "                                      also PID, IPC, and environment\n",
      "      --cpu-shares int                CPU shares for container (default -1)\n",
      "      --cpus string                   Number of CPUs available to container\n",
      "      --cpuset-cpus string            List of host CPUs available to container\n",
      "      --cpuset-mems string            List of host memory nodes available\n",
      "                                      to container\n",
      "      --disable-cache                 do not use or create cache\n",
      "      --dns string                    list of DNS server separated by\n",
      "                                      commas to add in resolv.conf\n",
      "      --docker-login                  login to a Docker Repository\n",
      "                                      interactively\n",
      "      --drop-caps string              a comma separated capability list to drop\n",
      "      --env stringToString            pass environment variable to\n",
      "                                      contained process (default [])\n",
      "      --env-file string               pass environment variables from file\n",
      "                                      to contained process\n",
      "  -f, --fakeroot                      run container with the appearance of\n",
      "                                      running as root\n",
      "      --fusemount strings             A FUSE filesystem mount\n",
      "                                      specification of the form\n",
      "                                      '<type>:<fuse command> <mountpoint>'\n",
      "                                      - where <type> is 'container' or\n",
      "                                      'host', specifying where the mount\n",
      "                                      will be performed\n",
      "                                      ('container-daemon' or 'host-daemon'\n",
      "                                      will run the FUSE process detached).\n",
      "                                      <fuse command> is the path to the\n",
      "                                      FUSE executable, plus options for\n",
      "                                      the mount. <mountpoint> is the\n",
      "                                      location in the container to which\n",
      "                                      the FUSE mount will be attached.\n",
      "                                      E.g. 'container:sshfs 10.0.0.1:/\n",
      "                                      /sshfs'. Implies --pid.\n",
      "  -h, --help                          help for run\n",
      "  -H, --home string                   a home directory specification. \n",
      "                                      spec can either be a src path or\n",
      "                                      src:dest pair.  src is the source\n",
      "                                      path of the home directory outside\n",
      "                                      the container and dest overrides the\n",
      "                                      home directory within the container.\n",
      "                                      (default \"/home/users/allstaff/milton.m\")\n",
      "      --hostname string               set container hostname\n",
      "  -i, --ipc                           run container in a new IPC namespace\n",
      "      --keep-privs                    let root user keep privileges in\n",
      "                                      container (root only)\n",
      "      --memory string                 Memory limit in bytes\n",
      "      --memory-reservation string     Memory soft limit in bytes\n",
      "      --memory-swap string            Swap limit, use -1 for unlimited swap\n",
      "      --mount stringArray             a mount specification e.g.\n",
      "                                      'type=bind,source=/opt,destination=/hostopt'.\n",
      "  -n, --net                           run container in a new network\n",
      "                                      namespace (sets up a bridge network\n",
      "                                      interface by default)\n",
      "      --network string                specify desired network type\n",
      "                                      separated by commas, each network\n",
      "                                      will bring up a dedicated interface\n",
      "                                      inside container (default \"bridge\")\n",
      "      --network-args strings          specify network arguments to pass to\n",
      "                                      CNI plugins\n",
      "      --no-eval                       do not shell evaluate env vars or\n",
      "                                      OCI container CMD/ENTRYPOINT/ARGS\n",
      "      --no-home                       do NOT mount users home directory if\n",
      "                                      /home is not the current working\n",
      "                                      directory\n",
      "      --no-https                      use http instead of https for\n",
      "                                      docker:// oras:// and\n"
     ]
    },
    {
     "name": "stdout",
     "output_type": "stream",
     "text": [
      "                                      library://<hostname>/... URIs\n",
      "      --no-init                       do NOT start shim process with --pid\n",
      "      --no-mount strings              disable one or more 'mount xxx'\n",
      "                                      options set in apptainer.conf and/or\n",
      "                                      specify absolute destination path to\n",
      "                                      disable a 'bind path' entry\n",
      "      --no-privs                      drop all privileges from root user\n",
      "                                      in container)\n",
      "      --no-umask                      do not propagate umask to the\n",
      "                                      container, set default 0022 umask\n",
      "      --nv                            enable Nvidia support\n",
      "      --nvccli                        use nvidia-container-cli for GPU\n",
      "                                      setup (experimental)\n",
      "      --oom-kill-disable              Disable OOM killer\n",
      "  -o, --overlay strings               use an overlayFS image for\n",
      "                                      persistent data storage or as\n",
      "                                      read-only layer of container\n",
      "      --passphrase                    prompt for an encryption passphrase\n",
      "      --pem-path string               enter an path to a PEM formatted RSA\n",
      "                                      key for an encrypted container\n",
      "  -p, --pid                           run container in a new PID namespace\n",
      "      --pids-limit int                Limit number of container PIDs, use\n",
      "                                      -1 for unlimited\n",
      "      --pwd string                    initial working directory for\n",
      "                                      payload process inside the container\n",
      "      --rocm                          enable experimental Rocm support\n",
      "  -S, --scratch strings               include a scratch directory within\n",
      "                                      the container that is linked to a\n",
      "                                      temporary dir (use -W to force location)\n",
      "      --security strings              enable security features (SELinux,\n",
      "                                      Apparmor, Seccomp)\n",
      "      --unsquash                      Convert SIF file to temporary\n",
      "                                      sandbox before running\n",
      "  -u, --userns                        run container in a new user namespace\n",
      "      --uts                           run container in a new UTS namespace\n",
      "      --vm                            enable VM support\n",
      "      --vm-cpu string                 number of CPU cores to allocate to\n",
      "                                      Virtual Machine (implies --vm)\n",
      "                                      (default \"1\")\n",
      "      --vm-err                        enable attaching stderr from VM\n",
      "      --vm-ip string                  IP Address to assign for container\n",
      "                                      usage. Defaults to DHCP within\n",
      "                                      bridge network. (default \"dhcp\")\n",
      "      --vm-ram string                 amount of RAM in MiB to allocate to\n",
      "                                      Virtual Machine (implies --vm)\n",
      "                                      (default \"1024\")\n",
      "  -W, --workdir string                working directory to be used for\n",
      "                                      /tmp, /var/tmp and $HOME (if\n",
      "                                      -c/--contain was also used)\n",
      "  -w, --writable                      by default all Apptainer containers\n",
      "                                      are available as read only. This\n",
      "                                      option makes the file system\n",
      "                                      accessible as read/write.\n",
      "      --writable-tmpfs                makes the file system accessible as\n",
      "                                      read-write with non persistent data\n",
      "                                      (with overlay support only)\n",
      "\n",
      "\n",
      "Examples:\n",
      "  # Here we see that the runscript prints \"Hello world: \"\n",
      "  $ apptainer exec /tmp/debian.sif cat /apptainer\n",
      "  #!/bin/sh\n",
      "  echo \"Hello world: \"\n",
      "\n",
      "  # It runs with our inputs when we run the image\n",
      "  $ apptainer run /tmp/debian.sif one two three\n",
      "  Hello world: one two three\n",
      "\n",
      "  # Note that this does the same thing\n",
      "  $ ./tmp/debian.sif one two three\n",
      "\n",
      "\n",
      "For additional help or support, please visit https://apptainer.org/help/\n"
     ]
    }
   ],
   "source": [
    "apptainer run --help"
   ]
  },
  {
   "cell_type": "markdown",
   "metadata": {
    "slideshow": {
     "slide_type": "subslide"
    }
   },
   "source": [
    "If you're working with an image you have downloaded, this will probably be a `.sif` file:\n",
    "\n",
    "<div class=\"alert alert-info\" role=\"alert\">\n",
    "    ▶ Try this yourself!\n",
    "</div>"
   ]
  },
  {
   "cell_type": "code",
   "execution_count": 7,
   "metadata": {
    "scrolled": true,
    "slideshow": {
     "slide_type": "-"
    }
   },
   "outputs": [
    {
     "name": "stdout",
     "output_type": "stream",
     "text": [
      "\u001b[38;5;231m@\u001b[0;00m\u001b[38;5;231m@\u001b[0;00m\u001b[38;5;231m@\u001b[0;00m\u001b[38;5;231m@\u001b[0;00m\u001b[38;5;231m@\u001b[0;00m\u001b[38;5;231m@\u001b[0;00m\u001b[38;5;231m@\u001b[0;00m\u001b[38;5;231m@\u001b[0;00m\u001b[38;5;231m@\u001b[0;00m\u001b[38;5;231m@\u001b[0;00m\u001b[38;5;231m@\u001b[0;00m\u001b[38;5;231m@\u001b[0;00m\u001b[38;5;194m@\u001b[0;00m\u001b[38;5;194m@\u001b[0;00m\u001b[38;5;194m@\u001b[0;00m\u001b[38;5;194m@\u001b[0;00m\u001b[38;5;194m@\u001b[0;00m\u001b[38;5;188m@\u001b[0;00m\u001b[38;5;194m@\u001b[0;00m\u001b[38;5;194m@\u001b[0;00m\u001b[38;5;230m@\u001b[0;00m\u001b[38;5;224m@\u001b[0;00m\u001b[38;5;224m@\u001b[0;00m\u001b[38;5;224m@\u001b[0;00m\u001b[38;5;194m@\u001b[0;00m\u001b[38;5;188m8\u001b[0;00m\u001b[38;5;188m8\u001b[0;00m\u001b[38;5;152m0\u001b[0;00m\u001b[38;5;116mG\u001b[0;00m\u001b[38;5;110mC\u001b[0;00m\u001b[38;5;110mC\u001b[0;00m\u001b[38;5;74mL\u001b[0;00m\u001b[38;5;74mL\u001b[0;00m\u001b[38;5;110mC\u001b[0;00m\u001b[38;5;224m@\u001b[0;00m\u001b[38;5;194m@\u001b[0;00m\u001b[38;5;194m@\u001b[0;00m\u001b[38;5;231m@\u001b[0;00m\u001b[38;5;150mC\u001b[0;00m\u001b[38;5;107mf\u001b[0;00m\u001b[38;5;149mL\u001b[0;00m\u001b[38;5;150mL\u001b[0;00m\u001b[38;5;150mC\u001b[0;00m\u001b[38;5;151mG\u001b[0;00m\u001b[38;5;187mG\u001b[0;00m\u001b[38;5;188m0\u001b[0;00m\u001b[38;5;188m8\u001b[0;00m\u001b[38;5;194m@\u001b[0;00m\u001b[38;5;225m@\u001b[0;00m\u001b[38;5;225m@\u001b[0;00m\u001b[38;5;225m@\u001b[0;00m\u001b[38;5;231m@\u001b[0;00m\u001b[38;5;230m@\u001b[0;00m\u001b[38;5;194m@\u001b[0;00m\u001b[38;5;194m@\u001b[0;00m\u001b[38;5;194m@\u001b[0;00m\u001b[38;5;194m@\u001b[0;00m\u001b[38;5;194m@\u001b[0;00m\u001b[38;5;194m@\u001b[0;00m\u001b[38;5;194m@\u001b[0;00m\u001b[38;5;231m@\u001b[0;00m\u001b[38;5;231m@\u001b[0;00m\u001b[38;5;231m@\u001b[0;00m\u001b[38;5;231m@\u001b[0;00m\u001b[38;5;231m@\u001b[0;00m\u001b[38;5;231m@\u001b[0;00m\u001b[38;5;231m@\u001b[0;00m\u001b[38;5;231m@\u001b[0;00m\u001b[38;5;231m@\u001b[0;00m\u001b[38;5;231m@\u001b[0;00m\u001b[38;5;231m@\u001b[0;00m\u001b[38;5;231m@\u001b[0;00m\n",
      "\u001b[38;5;231m@\u001b[0;00m\u001b[38;5;231m@\u001b[0;00m\u001b[38;5;231m@\u001b[0;00m\u001b[38;5;231m@\u001b[0;00m\u001b[38;5;231m@\u001b[0;00m\u001b[38;5;231m@\u001b[0;00m\u001b[38;5;231m@\u001b[0;00m\u001b[38;5;231m@\u001b[0;00m\u001b[38;5;231m@\u001b[0;00m\u001b[38;5;231m@\u001b[0;00m\u001b[38;5;194m@\u001b[0;00m\u001b[38;5;194m@\u001b[0;00m\u001b[38;5;194m@\u001b[0;00m\u001b[38;5;194m@\u001b[0;00m\u001b[38;5;188m@\u001b[0;00m\u001b[38;5;194m@\u001b[0;00m\u001b[38;5;230m@\u001b[0;00m\u001b[38;5;224m@\u001b[0;00m\u001b[38;5;224m@\u001b[0;00m\u001b[38;5;230m@\u001b[0;00m\u001b[38;5;188m8\u001b[0;00m\u001b[38;5;152m0\u001b[0;00m\u001b[38;5;110mC\u001b[0;00m\u001b[38;5;74mL\u001b[0;00m\u001b[38;5;38mf\u001b[0;00m\u001b[38;5;38mt\u001b[0;00m\u001b[38;5;32mt\u001b[0;00m\u001b[38;5;32mt\u001b[0;00m\u001b[38;5;32mt\u001b[0;00m\u001b[38;5;32mt\u001b[0;00m\u001b[38;5;32mt\u001b[0;00m\u001b[38;5;32mt\u001b[0;00m\u001b[38;5;32m1\u001b[0;00m\u001b[38;5;74mf\u001b[0;00m\u001b[38;5;230m@\u001b[0;00m\u001b[38;5;188m@\u001b[0;00m\u001b[38;5;194m@\u001b[0;00m\u001b[38;5;225m@\u001b[0;00m\u001b[38;5;107mf\u001b[0;00m\u001b[38;5;70mi\u001b[0;00m\u001b[38;5;70mi\u001b[0;00m\u001b[38;5;70mi\u001b[0;00m\u001b[38;5;70mi\u001b[0;00m\u001b[38;5;70mi\u001b[0;00m\u001b[38;5;70mi\u001b[0;00m\u001b[38;5;106mi\u001b[0;00m\u001b[38;5;106m1\u001b[0;00m\u001b[38;5;107mt\u001b[0;00m\u001b[38;5;107mf\u001b[0;00m\u001b[38;5;150mC\u001b[0;00m\u001b[38;5;187mG\u001b[0;00m\u001b[38;5;188m8\u001b[0;00m\u001b[38;5;231m@\u001b[0;00m\u001b[38;5;225m@\u001b[0;00m\u001b[38;5;225m@\u001b[0;00m\u001b[38;5;231m@\u001b[0;00m\u001b[38;5;194m@\u001b[0;00m\u001b[38;5;194m@\u001b[0;00m\u001b[38;5;194m@\u001b[0;00m\u001b[38;5;188m@\u001b[0;00m\u001b[38;5;194m@\u001b[0;00m\u001b[38;5;194m@\u001b[0;00m\u001b[38;5;231m@\u001b[0;00m\u001b[38;5;231m@\u001b[0;00m\u001b[38;5;231m@\u001b[0;00m\u001b[38;5;231m@\u001b[0;00m\u001b[38;5;231m@\u001b[0;00m\u001b[38;5;231m@\u001b[0;00m\u001b[38;5;231m@\u001b[0;00m\u001b[38;5;231m@\u001b[0;00m\u001b[38;5;231m@\u001b[0;00m\u001b[38;5;231m@\u001b[0;00m\n",
      "\u001b[38;5;231m@\u001b[0;00m\u001b[38;5;231m@\u001b[0;00m\u001b[38;5;231m@\u001b[0;00m\u001b[38;5;231m@\u001b[0;00m\u001b[38;5;231m@\u001b[0;00m\u001b[38;5;231m@\u001b[0;00m\u001b[38;5;231m@\u001b[0;00m\u001b[38;5;231m@\u001b[0;00m\u001b[38;5;194m@\u001b[0;00m\u001b[38;5;194m@\u001b[0;00m\u001b[38;5;230m@\u001b[0;00m\u001b[38;5;194m@\u001b[0;00m\u001b[38;5;194m@\u001b[0;00m\u001b[38;5;230m@\u001b[0;00m\u001b[38;5;224m@\u001b[0;00m\u001b[38;5;224m@\u001b[0;00m\u001b[38;5;188m@\u001b[0;00m\u001b[38;5;152m0\u001b[0;00m\u001b[38;5;110mC\u001b[0;00m\u001b[38;5;38mf\u001b[0;00m\u001b[38;5;38mt\u001b[0;00m\u001b[38;5;32mt\u001b[0;00m\u001b[38;5;32mt\u001b[0;00m\u001b[38;5;32mt\u001b[0;00m\u001b[38;5;32mt\u001b[0;00m\u001b[38;5;32mt\u001b[0;00m\u001b[38;5;32mt\u001b[0;00m\u001b[38;5;32mt\u001b[0;00m\u001b[38;5;32mt\u001b[0;00m\u001b[38;5;32mt\u001b[0;00m\u001b[38;5;32mt\u001b[0;00m\u001b[38;5;38mt\u001b[0;00m\u001b[38;5;32mt\u001b[0;00m\u001b[38;5;74mL\u001b[0;00m\u001b[38;5;224m@\u001b[0;00m\u001b[38;5;194m@\u001b[0;00m\u001b[38;5;194m@\u001b[0;00m\u001b[38;5;189m@\u001b[0;00m\u001b[38;5;149mf\u001b[0;00m\u001b[38;5;70mi\u001b[0;00m\u001b[38;5;106m1\u001b[0;00m\u001b[38;5;106m1\u001b[0;00m\u001b[38;5;106m1\u001b[0;00m\u001b[38;5;106m1\u001b[0;00m\u001b[38;5;106m1\u001b[0;00m\u001b[38;5;106m1\u001b[0;00m\u001b[38;5;106m1\u001b[0;00m\u001b[38;5;106mi\u001b[0;00m\u001b[38;5;70mi\u001b[0;00m\u001b[38;5;70mi\u001b[0;00m\u001b[38;5;70mi\u001b[0;00m\u001b[38;5;106m1\u001b[0;00m\u001b[38;5;107mt\u001b[0;00m\u001b[38;5;150mL\u001b[0;00m\u001b[38;5;187m0\u001b[0;00m\u001b[38;5;188m@\u001b[0;00m\u001b[38;5;225m@\u001b[0;00m\u001b[38;5;225m@\u001b[0;00m\u001b[38;5;231m@\u001b[0;00m\u001b[38;5;194m@\u001b[0;00m\u001b[38;5;194m@\u001b[0;00m\u001b[38;5;231m@\u001b[0;00m\u001b[38;5;194m@\u001b[0;00m\u001b[38;5;194m@\u001b[0;00m\u001b[38;5;231m@\u001b[0;00m\u001b[38;5;231m@\u001b[0;00m\u001b[38;5;231m@\u001b[0;00m\u001b[38;5;231m@\u001b[0;00m\u001b[38;5;231m@\u001b[0;00m\u001b[38;5;231m@\u001b[0;00m\u001b[38;5;231m@\u001b[0;00m\u001b[38;5;231m@\u001b[0;00m\n",
      "\u001b[38;5;231m@\u001b[0;00m\u001b[38;5;231m@\u001b[0;00m\u001b[38;5;231m@\u001b[0;00m\u001b[38;5;231m@\u001b[0;00m\u001b[38;5;231m@\u001b[0;00m\u001b[38;5;231m@\u001b[0;00m\u001b[38;5;194m@\u001b[0;00m\u001b[38;5;194m@\u001b[0;00m\u001b[38;5;230m@\u001b[0;00m\u001b[38;5;194m@\u001b[0;00m\u001b[38;5;194m@\u001b[0;00m\u001b[38;5;230m@\u001b[0;00m\u001b[38;5;224m@\u001b[0;00m\u001b[38;5;188m@\u001b[0;00m\u001b[38;5;152m0\u001b[0;00m\u001b[38;5;74mL\u001b[0;00m\u001b[38;5;38mt\u001b[0;00m\u001b[38;5;32mt\u001b[0;00m\u001b[38;5;32mt\u001b[0;00m\u001b[38;5;32mt\u001b[0;00m\u001b[38;5;32mt\u001b[0;00m\u001b[38;5;32mt\u001b[0;00m\u001b[38;5;32mt\u001b[0;00m\u001b[38;5;32mt\u001b[0;00m\u001b[38;5;32mt\u001b[0;00m\u001b[38;5;32mt\u001b[0;00m\u001b[38;5;32mt\u001b[0;00m\u001b[38;5;32mt\u001b[0;00m\u001b[38;5;32mt\u001b[0;00m\u001b[38;5;32mt\u001b[0;00m\u001b[38;5;32mt\u001b[0;00m\u001b[38;5;32mt\u001b[0;00m\u001b[38;5;32m1\u001b[0;00m\u001b[38;5;74mf\u001b[0;00m\u001b[38;5;230m@\u001b[0;00m\u001b[38;5;188m@\u001b[0;00m\u001b[38;5;194m@\u001b[0;00m\u001b[38;5;225m@\u001b[0;00m\u001b[38;5;107mf\u001b[0;00m\u001b[38;5;70mi\u001b[0;00m\u001b[38;5;70mi\u001b[0;00m\u001b[38;5;70mi\u001b[0;00m\u001b[38;5;70mi\u001b[0;00m\u001b[38;5;106mi\u001b[0;00m\u001b[38;5;106m1\u001b[0;00m\u001b[38;5;106m1\u001b[0;00m\u001b[38;5;106m1\u001b[0;00m\u001b[38;5;106m1\u001b[0;00m\u001b[38;5;106m1\u001b[0;00m\u001b[38;5;106m1\u001b[0;00m\u001b[38;5;106m1\u001b[0;00m\u001b[38;5;106m1\u001b[0;00m\u001b[38;5;70mi\u001b[0;00m\u001b[38;5;70mi\u001b[0;00m\u001b[38;5;70mi\u001b[0;00m\u001b[38;5;106m1\u001b[0;00m\u001b[38;5;150mL\u001b[0;00m\u001b[38;5;187m0\u001b[0;00m\u001b[38;5;188m@\u001b[0;00m\u001b[38;5;225m@\u001b[0;00m\u001b[38;5;231m@\u001b[0;00m\u001b[38;5;194m@\u001b[0;00m\u001b[38;5;194m@\u001b[0;00m\u001b[38;5;231m@\u001b[0;00m\u001b[38;5;194m@\u001b[0;00m\u001b[38;5;194m@\u001b[0;00m\u001b[38;5;231m@\u001b[0;00m\u001b[38;5;231m@\u001b[0;00m\u001b[38;5;231m@\u001b[0;00m\u001b[38;5;231m@\u001b[0;00m\u001b[38;5;231m@\u001b[0;00m\u001b[38;5;231m@\u001b[0;00m\n",
      "\u001b[38;5;231m@\u001b[0;00m\u001b[38;5;231m@\u001b[0;00m\u001b[38;5;231m@\u001b[0;00m\u001b[38;5;231m@\u001b[0;00m\u001b[38;5;194m@\u001b[0;00m\u001b[38;5;194m@\u001b[0;00m\u001b[38;5;230m@\u001b[0;00m\u001b[38;5;194m@\u001b[0;00m\u001b[38;5;194m@\u001b[0;00m\u001b[38;5;230m@\u001b[0;00m\u001b[38;5;224m@\u001b[0;00m\u001b[38;5;188m8\u001b[0;00m\u001b[38;5;116mG\u001b[0;00m\u001b[38;5;38mf\u001b[0;00m\u001b[38;5;32mt\u001b[0;00m\u001b[38;5;32mt\u001b[0;00m\u001b[38;5;32mt\u001b[0;00m\u001b[38;5;32mt\u001b[0;00m\u001b[38;5;32mt\u001b[0;00m\u001b[38;5;32mt\u001b[0;00m\u001b[38;5;32mt\u001b[0;00m\u001b[38;5;32mt\u001b[0;00m\u001b[38;5;32mt\u001b[0;00m\u001b[38;5;32mt\u001b[0;00m\u001b[38;5;32mt\u001b[0;00m\u001b[38;5;32mt\u001b[0;00m\u001b[38;5;32mt\u001b[0;00m\u001b[38;5;38mt\u001b[0;00m\u001b[38;5;38mf\u001b[0;00m\u001b[38;5;74mL\u001b[0;00m\u001b[38;5;74mL\u001b[0;00m\u001b[38;5;110mC\u001b[0;00m\u001b[38;5;116mC\u001b[0;00m\u001b[38;5;152m0\u001b[0;00m\u001b[38;5;224m@\u001b[0;00m\u001b[38;5;194m@\u001b[0;00m\u001b[38;5;194m@\u001b[0;00m\u001b[38;5;189m@\u001b[0;00m\u001b[38;5;187m0\u001b[0;00m\u001b[38;5;150mC\u001b[0;00m\u001b[38;5;150mC\u001b[0;00m\u001b[38;5;150mL\u001b[0;00m\u001b[38;5;107mf\u001b[0;00m\u001b[38;5;107mt\u001b[0;00m\u001b[38;5;106m1\u001b[0;00m\u001b[38;5;106mi\u001b[0;00m\u001b[38;5;70mi\u001b[0;00m\u001b[38;5;70mi\u001b[0;00m\u001b[38;5;106mi\u001b[0;00m\u001b[38;5;106m1\u001b[0;00m\u001b[38;5;106m1\u001b[0;00m\u001b[38;5;106m1\u001b[0;00m\u001b[38;5;106m1\u001b[0;00m\u001b[38;5;106m1\u001b[0;00m\u001b[38;5;106m1\u001b[0;00m\u001b[38;5;106mi\u001b[0;00m\u001b[38;5;70mi\u001b[0;00m\u001b[38;5;70mi\u001b[0;00m\u001b[38;5;106mt\u001b[0;00m\u001b[38;5;150mC\u001b[0;00m\u001b[38;5;188m8\u001b[0;00m\u001b[38;5;225m@\u001b[0;00m\u001b[38;5;231m@\u001b[0;00m\u001b[38;5;194m@\u001b[0;00m\u001b[38;5;194m@\u001b[0;00m\u001b[38;5;231m@\u001b[0;00m\u001b[38;5;194m@\u001b[0;00m\u001b[38;5;194m@\u001b[0;00m\u001b[38;5;231m@\u001b[0;00m\u001b[38;5;231m@\u001b[0;00m\u001b[38;5;231m@\u001b[0;00m\u001b[38;5;231m@\u001b[0;00m\n",
      "\u001b[38;5;231m@\u001b[0;00m\u001b[38;5;231m@\u001b[0;00m\u001b[38;5;231m@\u001b[0;00m\u001b[38;5;194m@\u001b[0;00m\u001b[38;5;194m@\u001b[0;00m\u001b[38;5;230m@\u001b[0;00m\u001b[38;5;188m@\u001b[0;00m\u001b[38;5;194m@\u001b[0;00m\u001b[38;5;224m@\u001b[0;00m\u001b[38;5;188m8\u001b[0;00m\u001b[38;5;110mC\u001b[0;00m\u001b[38;5;38mt\u001b[0;00m\u001b[38;5;32mt\u001b[0;00m\u001b[38;5;32mt\u001b[0;00m\u001b[38;5;32mt\u001b[0;00m\u001b[38;5;32mt\u001b[0;00m\u001b[38;5;32mt\u001b[0;00m\u001b[38;5;32mt\u001b[0;00m\u001b[38;5;32mt\u001b[0;00m\u001b[38;5;32mt\u001b[0;00m\u001b[38;5;32mt\u001b[0;00m\u001b[38;5;32mt\u001b[0;00m\u001b[38;5;32mt\u001b[0;00m\u001b[38;5;38mf\u001b[0;00m\u001b[38;5;74mC\u001b[0;00m\u001b[38;5;152mG\u001b[0;00m\u001b[38;5;152m8\u001b[0;00m\u001b[38;5;188m@\u001b[0;00m\u001b[38;5;194m@\u001b[0;00m\u001b[38;5;224m@\u001b[0;00m\u001b[38;5;224m@\u001b[0;00m\u001b[38;5;224m@\u001b[0;00m\u001b[38;5;224m@\u001b[0;00m\u001b[38;5;224m@\u001b[0;00m\u001b[38;5;194m@\u001b[0;00m\u001b[38;5;230m@\u001b[0;00m\u001b[38;5;231m@\u001b[0;00m\u001b[38;5;194m@\u001b[0;00m\u001b[38;5;225m@\u001b[0;00m\u001b[38;5;225m@\u001b[0;00m\u001b[38;5;225m@\u001b[0;00m\u001b[38;5;225m@\u001b[0;00m\u001b[38;5;225m@\u001b[0;00m\u001b[38;5;194m@\u001b[0;00m\u001b[38;5;188m8\u001b[0;00m\u001b[38;5;188m0\u001b[0;00m\u001b[38;5;151mG\u001b[0;00m\u001b[38;5;150mL\u001b[0;00m\u001b[38;5;107mt\u001b[0;00m\u001b[38;5;106m1\u001b[0;00m\u001b[38;5;70mi\u001b[0;00m\u001b[38;5;70mi\u001b[0;00m\u001b[38;5;106m1\u001b[0;00m\u001b[38;5;106m1\u001b[0;00m\u001b[38;5;106m1\u001b[0;00m\u001b[38;5;106m1\u001b[0;00m\u001b[38;5;106m1\u001b[0;00m\u001b[38;5;106m1\u001b[0;00m\u001b[38;5;106mi\u001b[0;00m\u001b[38;5;70mi\u001b[0;00m\u001b[38;5;106m1\u001b[0;00m\u001b[38;5;150mL\u001b[0;00m\u001b[38;5;188m8\u001b[0;00m\u001b[38;5;225m@\u001b[0;00m\u001b[38;5;194m@\u001b[0;00m\u001b[38;5;194m@\u001b[0;00m\u001b[38;5;231m@\u001b[0;00m\u001b[38;5;188m@\u001b[0;00m\u001b[38;5;194m@\u001b[0;00m\u001b[38;5;194m@\u001b[0;00m\u001b[38;5;231m@\u001b[0;00m\u001b[38;5;231m@\u001b[0;00m\n",
      "\u001b[38;5;231m@\u001b[0;00m\u001b[38;5;231m@\u001b[0;00m\u001b[38;5;194m@\u001b[0;00m\u001b[38;5;231m@\u001b[0;00m\u001b[38;5;230m@\u001b[0;00m\u001b[38;5;188m@\u001b[0;00m\u001b[38;5;230m@\u001b[0;00m\u001b[38;5;188m@\u001b[0;00m\u001b[38;5;116mG\u001b[0;00m\u001b[38;5;38mt\u001b[0;00m\u001b[38;5;32mt\u001b[0;00m\u001b[38;5;32mt\u001b[0;00m\u001b[38;5;32mt\u001b[0;00m\u001b[38;5;32mt\u001b[0;00m\u001b[38;5;32mt\u001b[0;00m\u001b[38;5;32mt\u001b[0;00m\u001b[38;5;32mt\u001b[0;00m\u001b[38;5;32mt\u001b[0;00m\u001b[38;5;32mt\u001b[0;00m\u001b[38;5;38mt\u001b[0;00m\u001b[38;5;74mL\u001b[0;00m\u001b[38;5;116mG\u001b[0;00m\u001b[38;5;188m8\u001b[0;00m\u001b[38;5;230m@\u001b[0;00m\u001b[38;5;224m@\u001b[0;00m\u001b[38;5;224m@\u001b[0;00m\u001b[38;5;224m@\u001b[0;00m\u001b[38;5;230m@\u001b[0;00m\u001b[38;5;230m@\u001b[0;00m\u001b[38;5;188m@\u001b[0;00m\u001b[38;5;194m@\u001b[0;00m\u001b[38;5;188m@\u001b[0;00m\u001b[38;5;188m@\u001b[0;00m\u001b[38;5;188m@\u001b[0;00m\u001b[38;5;230m@\u001b[0;00m\u001b[38;5;194m@\u001b[0;00m\u001b[38;5;194m@\u001b[0;00m\u001b[38;5;231m@\u001b[0;00m\u001b[38;5;194m@\u001b[0;00m\u001b[38;5;194m@\u001b[0;00m\u001b[38;5;194m@\u001b[0;00m\u001b[38;5;194m@\u001b[0;00m\u001b[38;5;194m@\u001b[0;00m\u001b[38;5;231m@\u001b[0;00m\u001b[38;5;231m@\u001b[0;00m\u001b[38;5;231m@\u001b[0;00m\u001b[38;5;225m@\u001b[0;00m\u001b[38;5;225m@\u001b[0;00m\u001b[38;5;195m@\u001b[0;00m\u001b[38;5;188m8\u001b[0;00m\u001b[38;5;151mG\u001b[0;00m\u001b[38;5;107mf\u001b[0;00m\u001b[38;5;106m1\u001b[0;00m\u001b[38;5;70mi\u001b[0;00m\u001b[38;5;70mi\u001b[0;00m\u001b[38;5;106m1\u001b[0;00m\u001b[38;5;106m1\u001b[0;00m\u001b[38;5;106m1\u001b[0;00m\u001b[38;5;106m1\u001b[0;00m\u001b[38;5;106m1\u001b[0;00m\u001b[38;5;106m1\u001b[0;00m\u001b[38;5;70mi\u001b[0;00m\u001b[38;5;106m1\u001b[0;00m\u001b[38;5;150mC\u001b[0;00m\u001b[38;5;188m@\u001b[0;00m\u001b[38;5;231m@\u001b[0;00m\u001b[38;5;194m@\u001b[0;00m\u001b[38;5;194m@\u001b[0;00m\u001b[38;5;231m@\u001b[0;00m\u001b[38;5;194m@\u001b[0;00m\u001b[38;5;231m@\u001b[0;00m\u001b[38;5;231m@\u001b[0;00m\n"
     ]
    },
    {
     "name": "stdout",
     "output_type": "stream",
     "text": [
      "\u001b[38;5;231m@\u001b[0;00m\u001b[38;5;194m@\u001b[0;00m\u001b[38;5;230m@\u001b[0;00m\u001b[38;5;194m@\u001b[0;00m\u001b[38;5;188m@\u001b[0;00m\u001b[38;5;224m@\u001b[0;00m\u001b[38;5;188m8\u001b[0;00m\u001b[38;5;38mf\u001b[0;00m\u001b[38;5;32mt\u001b[0;00m\u001b[38;5;32mt\u001b[0;00m\u001b[38;5;32mt\u001b[0;00m\u001b[38;5;32mt\u001b[0;00m\u001b[38;5;32mt\u001b[0;00m\u001b[38;5;32mt\u001b[0;00m\u001b[38;5;32mt\u001b[0;00m\u001b[38;5;32mt\u001b[0;00m\u001b[38;5;32mt\u001b[0;00m\u001b[38;5;38mf\u001b[0;00m\u001b[38;5;116mG\u001b[0;00m\u001b[38;5;188m8\u001b[0;00m\u001b[38;5;230m@\u001b[0;00m\u001b[38;5;224m@\u001b[0;00m\u001b[38;5;230m@\u001b[0;00m\u001b[38;5;195m@\u001b[0;00m\u001b[38;5;194m@\u001b[0;00m\u001b[38;5;194m@\u001b[0;00m\u001b[38;5;188m@\u001b[0;00m\u001b[38;5;194m@\u001b[0;00m\u001b[38;5;194m@\u001b[0;00m\u001b[38;5;194m@\u001b[0;00m\u001b[38;5;194m@\u001b[0;00m\u001b[38;5;194m@\u001b[0;00m\u001b[38;5;194m@\u001b[0;00m\u001b[38;5;231m@\u001b[0;00m\u001b[38;5;231m@\u001b[0;00m\u001b[38;5;231m@\u001b[0;00m\u001b[38;5;231m@\u001b[0;00m\u001b[38;5;231m@\u001b[0;00m\u001b[38;5;231m@\u001b[0;00m\u001b[38;5;194m@\u001b[0;00m\u001b[38;5;194m@\u001b[0;00m\u001b[38;5;194m@\u001b[0;00m\u001b[38;5;194m@\u001b[0;00m\u001b[38;5;194m@\u001b[0;00m\u001b[38;5;194m@\u001b[0;00m\u001b[38;5;194m@\u001b[0;00m\u001b[38;5;194m@\u001b[0;00m\u001b[38;5;194m@\u001b[0;00m\u001b[38;5;194m@\u001b[0;00m\u001b[38;5;231m@\u001b[0;00m\u001b[38;5;225m@\u001b[0;00m\u001b[38;5;225m@\u001b[0;00m\u001b[38;5;188m8\u001b[0;00m\u001b[38;5;150mC\u001b[0;00m\u001b[38;5;107mt\u001b[0;00m\u001b[38;5;70mi\u001b[0;00m\u001b[38;5;70mi\u001b[0;00m\u001b[38;5;106m1\u001b[0;00m\u001b[38;5;106m1\u001b[0;00m\u001b[38;5;106m1\u001b[0;00m\u001b[38;5;106m1\u001b[0;00m\u001b[38;5;106m1\u001b[0;00m\u001b[38;5;106m1\u001b[0;00m\u001b[38;5;70mi\u001b[0;00m\u001b[38;5;107mt\u001b[0;00m\u001b[38;5;188m0\u001b[0;00m\u001b[38;5;225m@\u001b[0;00m\u001b[38;5;194m@\u001b[0;00m\u001b[38;5;194m@\u001b[0;00m\u001b[38;5;231m@\u001b[0;00m\u001b[38;5;194m@\u001b[0;00m\u001b[38;5;231m@\u001b[0;00m\n",
      "\u001b[38;5;231m@\u001b[0;00m\u001b[38;5;231m@\u001b[0;00m\u001b[38;5;194m@\u001b[0;00m\u001b[38;5;194m@\u001b[0;00m\u001b[38;5;224m@\u001b[0;00m\u001b[38;5;152mG\u001b[0;00m\u001b[38;5;32mt\u001b[0;00m\u001b[38;5;32mt\u001b[0;00m\u001b[38;5;32mt\u001b[0;00m\u001b[38;5;32mt\u001b[0;00m\u001b[38;5;32mt\u001b[0;00m\u001b[38;5;32mt\u001b[0;00m\u001b[38;5;32mt\u001b[0;00m\u001b[38;5;32mt\u001b[0;00m\u001b[38;5;32mt\u001b[0;00m\u001b[38;5;38mf\u001b[0;00m\u001b[38;5;152mG\u001b[0;00m\u001b[38;5;188m@\u001b[0;00m\u001b[38;5;224m@\u001b[0;00m\u001b[38;5;230m@\u001b[0;00m\u001b[38;5;188m@\u001b[0;00m\u001b[38;5;194m@\u001b[0;00m\u001b[38;5;194m@\u001b[0;00m\u001b[38;5;194m@\u001b[0;00m\u001b[38;5;194m@\u001b[0;00m\u001b[38;5;194m@\u001b[0;00m\u001b[38;5;194m@\u001b[0;00m\u001b[38;5;231m@\u001b[0;00m\u001b[38;5;231m@\u001b[0;00m\u001b[38;5;231m@\u001b[0;00m\u001b[38;5;231m@\u001b[0;00m\u001b[38;5;231m@\u001b[0;00m\u001b[38;5;231m@\u001b[0;00m\u001b[38;5;231m@\u001b[0;00m\u001b[38;5;231m@\u001b[0;00m\u001b[38;5;231m@\u001b[0;00m\u001b[38;5;231m@\u001b[0;00m\u001b[38;5;231m@\u001b[0;00m\u001b[38;5;231m@\u001b[0;00m\u001b[38;5;231m@\u001b[0;00m\u001b[38;5;231m@\u001b[0;00m\u001b[38;5;231m@\u001b[0;00m\u001b[38;5;231m@\u001b[0;00m\u001b[38;5;231m@\u001b[0;00m\u001b[38;5;231m@\u001b[0;00m\u001b[38;5;194m@\u001b[0;00m\u001b[38;5;194m@\u001b[0;00m\u001b[38;5;194m@\u001b[0;00m\u001b[38;5;194m@\u001b[0;00m\u001b[38;5;194m@\u001b[0;00m\u001b[38;5;194m@\u001b[0;00m\u001b[38;5;194m@\u001b[0;00m\u001b[38;5;231m@\u001b[0;00m\u001b[38;5;225m@\u001b[0;00m\u001b[38;5;188m@\u001b[0;00m\u001b[38;5;151mG\u001b[0;00m\u001b[38;5;107mt\u001b[0;00m\u001b[38;5;70mi\u001b[0;00m\u001b[38;5;106m1\u001b[0;00m\u001b[38;5;106m1\u001b[0;00m\u001b[38;5;106m1\u001b[0;00m\u001b[38;5;106m1\u001b[0;00m\u001b[38;5;106m1\u001b[0;00m\u001b[38;5;106m1\u001b[0;00m\u001b[38;5;70mi\u001b[0;00m\u001b[38;5;106m1\u001b[0;00m\u001b[38;5;151mG\u001b[0;00m\u001b[38;5;225m@\u001b[0;00m\u001b[38;5;194m@\u001b[0;00m\u001b[38;5;194m@\u001b[0;00m\u001b[38;5;231m@\u001b[0;00m\u001b[38;5;231m@\u001b[0;00m\n",
      "\u001b[38;5;231m@\u001b[0;00m\u001b[38;5;194m@\u001b[0;00m\u001b[38;5;194m@\u001b[0;00m\u001b[38;5;188m@\u001b[0;00m\u001b[38;5;110mC\u001b[0;00m\u001b[38;5;32m1\u001b[0;00m\u001b[38;5;32mt\u001b[0;00m\u001b[38;5;32mt\u001b[0;00m\u001b[38;5;32mt\u001b[0;00m\u001b[38;5;32mt\u001b[0;00m\u001b[38;5;32mt\u001b[0;00m\u001b[38;5;32mt\u001b[0;00m\u001b[38;5;32mt\u001b[0;00m\u001b[38;5;32mt\u001b[0;00m\u001b[38;5;110mC\u001b[0;00m\u001b[38;5;188m@\u001b[0;00m\u001b[38;5;224m@\u001b[0;00m\u001b[38;5;194m@\u001b[0;00m\u001b[38;5;194m@\u001b[0;00m\u001b[38;5;194m@\u001b[0;00m\u001b[38;5;188m@\u001b[0;00m\u001b[38;5;194m@\u001b[0;00m\u001b[38;5;194m@\u001b[0;00m\u001b[38;5;194m@\u001b[0;00m\u001b[38;5;231m@\u001b[0;00m\u001b[38;5;231m@\u001b[0;00m\u001b[38;5;231m@\u001b[0;00m\u001b[38;5;231m@\u001b[0;00m\u001b[38;5;231m@\u001b[0;00m\u001b[38;5;231m@\u001b[0;00m\u001b[38;5;231m@\u001b[0;00m\u001b[38;5;231m@\u001b[0;00m\u001b[38;5;231m@\u001b[0;00m\u001b[38;5;231m@\u001b[0;00m\u001b[38;5;231m@\u001b[0;00m\u001b[38;5;231m@\u001b[0;00m\u001b[38;5;231m@\u001b[0;00m\u001b[38;5;231m@\u001b[0;00m\u001b[38;5;231m@\u001b[0;00m\u001b[38;5;231m@\u001b[0;00m\u001b[38;5;231m@\u001b[0;00m\u001b[38;5;231m@\u001b[0;00m\u001b[38;5;231m@\u001b[0;00m\u001b[38;5;231m@\u001b[0;00m\u001b[38;5;231m@\u001b[0;00m\u001b[38;5;231m@\u001b[0;00m\u001b[38;5;231m@\u001b[0;00m\u001b[38;5;231m@\u001b[0;00m\u001b[38;5;194m@\u001b[0;00m\u001b[38;5;194m@\u001b[0;00m\u001b[38;5;194m@\u001b[0;00m\u001b[38;5;188m@\u001b[0;00m\u001b[38;5;194m@\u001b[0;00m\u001b[38;5;194m@\u001b[0;00m\u001b[38;5;194m@\u001b[0;00m\u001b[38;5;225m@\u001b[0;00m\u001b[38;5;188m@\u001b[0;00m\u001b[38;5;150mC\u001b[0;00m\u001b[38;5;106m1\u001b[0;00m\u001b[38;5;70mi\u001b[0;00m\u001b[38;5;106m1\u001b[0;00m\u001b[38;5;106m1\u001b[0;00m\u001b[38;5;106m1\u001b[0;00m\u001b[38;5;106m1\u001b[0;00m\u001b[38;5;106m1\u001b[0;00m\u001b[38;5;106mi\u001b[0;00m\u001b[38;5;70mi\u001b[0;00m\u001b[38;5;150mL\u001b[0;00m\u001b[38;5;188m@\u001b[0;00m\u001b[38;5;194m@\u001b[0;00m\u001b[38;5;194m@\u001b[0;00m\u001b[38;5;230m@\u001b[0;00m\n",
      "\u001b[38;5;231m@\u001b[0;00m\u001b[38;5;194m@\u001b[0;00m\u001b[38;5;188m@\u001b[0;00m\u001b[38;5;188m@\u001b[0;00m\u001b[38;5;110mC\u001b[0;00m\u001b[38;5;74mL\u001b[0;00m\u001b[38;5;38mf\u001b[0;00m\u001b[38;5;32mt\u001b[0;00m\u001b[38;5;32mt\u001b[0;00m\u001b[38;5;32mt\u001b[0;00m\u001b[38;5;32mt\u001b[0;00m\u001b[38;5;32mt\u001b[0;00m\u001b[38;5;38mf\u001b[0;00m\u001b[38;5;152m8\u001b[0;00m\u001b[38;5;224m@\u001b[0;00m\u001b[38;5;194m@\u001b[0;00m\u001b[38;5;188m@\u001b[0;00m\u001b[38;5;194m@\u001b[0;00m\u001b[38;5;230m@\u001b[0;00m\u001b[38;5;194m@\u001b[0;00m\u001b[38;5;194m@\u001b[0;00m\u001b[38;5;231m@\u001b[0;00m\u001b[38;5;231m@\u001b[0;00m\u001b[38;5;231m@\u001b[0;00m\u001b[38;5;231m@\u001b[0;00m\u001b[38;5;231m@\u001b[0;00m\u001b[38;5;231m@\u001b[0;00m\u001b[38;5;188m@\u001b[0;00m\u001b[38;5;231m@\u001b[0;00m\u001b[38;5;188m@\u001b[0;00m\u001b[38;5;188m@\u001b[0;00m\u001b[38;5;188m@\u001b[0;00m\u001b[38;5;188m@\u001b[0;00m\u001b[38;5;188m@\u001b[0;00m\u001b[38;5;188m@\u001b[0;00m\u001b[38;5;188m@\u001b[0;00m\u001b[38;5;188m@\u001b[0;00m\u001b[38;5;188m@\u001b[0;00m\u001b[38;5;188m@\u001b[0;00m\u001b[38;5;188m@\u001b[0;00m\u001b[38;5;188m@\u001b[0;00m\u001b[38;5;188m@\u001b[0;00m\u001b[38;5;188m@\u001b[0;00m\u001b[38;5;188m@\u001b[0;00m\u001b[38;5;188m@\u001b[0;00m\u001b[38;5;231m@\u001b[0;00m\u001b[38;5;231m@\u001b[0;00m\u001b[38;5;231m@\u001b[0;00m\u001b[38;5;231m@\u001b[0;00m\u001b[38;5;231m@\u001b[0;00m\u001b[38;5;195m@\u001b[0;00m\u001b[38;5;194m@\u001b[0;00m\u001b[38;5;194m@\u001b[0;00m\u001b[38;5;231m@\u001b[0;00m\u001b[38;5;194m@\u001b[0;00m\u001b[38;5;194m@\u001b[0;00m\u001b[38;5;194m@\u001b[0;00m\u001b[38;5;225m@\u001b[0;00m\u001b[38;5;188m8\u001b[0;00m\u001b[38;5;107mt\u001b[0;00m\u001b[38;5;70mi\u001b[0;00m\u001b[38;5;70mi\u001b[0;00m\u001b[38;5;70mi\u001b[0;00m\u001b[38;5;70mi\u001b[0;00m\u001b[38;5;106m1\u001b[0;00m\u001b[38;5;106mt\u001b[0;00m\u001b[38;5;107mf\u001b[0;00m\u001b[38;5;150mL\u001b[0;00m\u001b[38;5;188m8\u001b[0;00m\u001b[38;5;188m@\u001b[0;00m\u001b[38;5;194m@\u001b[0;00m\u001b[38;5;195m@\u001b[0;00m\n",
      "\u001b[38;5;188m@\u001b[0;00m\u001b[38;5;231m@\u001b[0;00m\u001b[38;5;195m@\u001b[0;00m\u001b[38;5;230m@\u001b[0;00m\u001b[38;5;224m@\u001b[0;00m\u001b[38;5;224m@\u001b[0;00m\u001b[38;5;188m@\u001b[0;00m\u001b[38;5;188m8\u001b[0;00m\u001b[38;5;152m0\u001b[0;00m\u001b[38;5;110mC\u001b[0;00m\u001b[38;5;74mf\u001b[0;00m\u001b[38;5;74mL\u001b[0;00m\u001b[38;5;188m@\u001b[0;00m\u001b[38;5;224m@\u001b[0;00m\u001b[38;5;194m@\u001b[0;00m\u001b[38;5;194m@\u001b[0;00m\u001b[38;5;230m@\u001b[0;00m\u001b[38;5;194m@\u001b[0;00m\u001b[38;5;194m@\u001b[0;00m\u001b[38;5;231m@\u001b[0;00m\u001b[38;5;231m@\u001b[0;00m\u001b[38;5;231m@\u001b[0;00m\u001b[38;5;231m@\u001b[0;00m\u001b[38;5;231m@\u001b[0;00m\u001b[38;5;231m@\u001b[0;00m\u001b[38;5;231m@\u001b[0;00m\u001b[38;5;231m@\u001b[0;00m\u001b[38;5;231m@\u001b[0;00m\u001b[38;5;188m@\u001b[0;00m\u001b[38;5;231m@\u001b[0;00m\u001b[38;5;231m@\u001b[0;00m\u001b[38;5;231m@\u001b[0;00m\u001b[38;5;231m@\u001b[0;00m\u001b[38;5;231m@\u001b[0;00m\u001b[38;5;231m@\u001b[0;00m\u001b[38;5;231m@\u001b[0;00m\u001b[38;5;231m@\u001b[0;00m\u001b[38;5;231m@\u001b[0;00m\u001b[38;5;231m@\u001b[0;00m\u001b[38;5;231m@\u001b[0;00m\u001b[38;5;231m@\u001b[0;00m\u001b[38;5;231m@\u001b[0;00m\u001b[38;5;231m@\u001b[0;00m\u001b[38;5;231m@\u001b[0;00m\u001b[38;5;231m@\u001b[0;00m\u001b[38;5;231m@\u001b[0;00m\u001b[38;5;231m@\u001b[0;00m\u001b[38;5;231m@\u001b[0;00m\u001b[38;5;231m@\u001b[0;00m\u001b[38;5;231m@\u001b[0;00m\u001b[38;5;231m@\u001b[0;00m\u001b[38;5;231m@\u001b[0;00m\u001b[38;5;231m@\u001b[0;00m\u001b[38;5;194m@\u001b[0;00m\u001b[38;5;194m@\u001b[0;00m\u001b[38;5;231m@\u001b[0;00m\u001b[38;5;194m@\u001b[0;00m\u001b[38;5;194m@\u001b[0;00m\u001b[38;5;231m@\u001b[0;00m\u001b[38;5;188m@\u001b[0;00m\u001b[38;5;107mf\u001b[0;00m\u001b[38;5;107mt\u001b[0;00m\u001b[38;5;150mL\u001b[0;00m\u001b[38;5;151mG\u001b[0;00m\u001b[38;5;188m8\u001b[0;00m\u001b[38;5;188m@\u001b[0;00m\u001b[38;5;225m@\u001b[0;00m\u001b[38;5;189m@\u001b[0;00m\u001b[38;5;195m@\u001b[0;00m\u001b[38;5;195m@\u001b[0;00m\u001b[38;5;195m@\u001b[0;00m\u001b[38;5;194m@\u001b[0;00m\n",
      "\u001b[38;5;188m@\u001b[0;00m\u001b[38;5;188m@\u001b[0;00m\u001b[38;5;145mG\u001b[0;00m\u001b[38;5;188m0\u001b[0;00m\u001b[38;5;188m8\u001b[0;00m\u001b[38;5;188m@\u001b[0;00m\u001b[38;5;230m@\u001b[0;00m\u001b[38;5;230m@\u001b[0;00m\u001b[38;5;224m@\u001b[0;00m\u001b[38;5;224m@\u001b[0;00m\u001b[38;5;230m@\u001b[0;00m\u001b[38;5;230m@\u001b[0;00m\u001b[38;5;230m@\u001b[0;00m\u001b[38;5;194m@\u001b[0;00m\u001b[38;5;230m@\u001b[0;00m\u001b[38;5;194m@\u001b[0;00m\u001b[38;5;194m@\u001b[0;00m\u001b[38;5;231m@\u001b[0;00m\u001b[38;5;231m@\u001b[0;00m\u001b[38;5;231m@\u001b[0;00m\u001b[38;5;231m@\u001b[0;00m\u001b[38;5;231m@\u001b[0;00m\u001b[38;5;231m@\u001b[0;00m\u001b[38;5;231m@\u001b[0;00m\u001b[38;5;231m@\u001b[0;00m\u001b[38;5;231m@\u001b[0;00m\u001b[38;5;188m@\u001b[0;00m\u001b[38;5;188m@\u001b[0;00m\u001b[38;5;231m@\u001b[0;00m\u001b[38;5;188m8\u001b[0;00m\u001b[38;5;145mL\u001b[0;00m\u001b[38;5;145mC\u001b[0;00m\u001b[38;5;145mC\u001b[0;00m\u001b[38;5;145mC\u001b[0;00m\u001b[38;5;145mC\u001b[0;00m\u001b[38;5;145mC\u001b[0;00m\u001b[38;5;145mC\u001b[0;00m\u001b[38;5;145mC\u001b[0;00m\u001b[38;5;145mC\u001b[0;00m\u001b[38;5;145mC\u001b[0;00m\u001b[38;5;145mC\u001b[0;00m\u001b[38;5;145mC\u001b[0;00m\u001b[38;5;188m@\u001b[0;00m\u001b[38;5;188m@\u001b[0;00m\u001b[38;5;188m@\u001b[0;00m\u001b[38;5;188m@\u001b[0;00m\u001b[38;5;231m@\u001b[0;00m\u001b[38;5;231m@\u001b[0;00m\u001b[38;5;231m@\u001b[0;00m\u001b[38;5;231m@\u001b[0;00m\u001b[38;5;231m@\u001b[0;00m\u001b[38;5;231m@\u001b[0;00m\u001b[38;5;231m@\u001b[0;00m\u001b[38;5;231m@\u001b[0;00m\u001b[38;5;231m@\u001b[0;00m\u001b[38;5;194m@\u001b[0;00m\u001b[38;5;231m@\u001b[0;00m\u001b[38;5;231m@\u001b[0;00m\u001b[38;5;194m@\u001b[0;00m\u001b[38;5;231m@\u001b[0;00m\u001b[38;5;231m@\u001b[0;00m\u001b[38;5;231m@\u001b[0;00m\u001b[38;5;225m@\u001b[0;00m\u001b[38;5;189m@\u001b[0;00m\u001b[38;5;195m@\u001b[0;00m\u001b[38;5;195m@\u001b[0;00m\u001b[38;5;194m@\u001b[0;00m\u001b[38;5;188m8\u001b[0;00m\u001b[38;5;187m0\u001b[0;00m\u001b[38;5;180mG\u001b[0;00m\u001b[38;5;188m8\u001b[0;00m\u001b[38;5;195m@\u001b[0;00m\n",
      "\u001b[38;5;231m@\u001b[0;00m\u001b[38;5;145mG\u001b[0;00m\u001b[38;5;102mt\u001b[0;00m\u001b[38;5;102mf\u001b[0;00m\u001b[38;5;102mf\u001b[0;00m\u001b[38;5;145mL\u001b[0;00m\u001b[38;5;145mC\u001b[0;00m\u001b[38;5;152mG\u001b[0;00m\u001b[38;5;188m8\u001b[0;00m\u001b[38;5;188m8\u001b[0;00m\u001b[38;5;194m@\u001b[0;00m\u001b[38;5;194m@\u001b[0;00m\u001b[38;5;194m@\u001b[0;00m\u001b[38;5;230m@\u001b[0;00m\u001b[38;5;194m@\u001b[0;00m\u001b[38;5;194m@\u001b[0;00m\u001b[38;5;231m@\u001b[0;00m\u001b[38;5;231m@\u001b[0;00m\u001b[38;5;231m@\u001b[0;00m\u001b[38;5;231m@\u001b[0;00m\u001b[38;5;231m@\u001b[0;00m\u001b[38;5;231m@\u001b[0;00m\u001b[38;5;231m@\u001b[0;00m\u001b[38;5;231m@\u001b[0;00m\u001b[38;5;231m@\u001b[0;00m\u001b[38;5;231m@\u001b[0;00m\u001b[38;5;188m@\u001b[0;00m\u001b[38;5;188m@\u001b[0;00m\u001b[38;5;188m@\u001b[0;00m\u001b[38;5;255m8\u001b[0;00m\u001b[38;5;59m:\u001b[0;00m\u001b[38;5;16m \u001b[0;00m\u001b[38;5;16m \u001b[0;00m\u001b[38;5;16m \u001b[0;00m\u001b[38;5;16m \u001b[0;00m\u001b[38;5;16m \u001b[0;00m\u001b[38;5;16m \u001b[0;00m\u001b[38;5;16m \u001b[0;00m\u001b[38;5;16m \u001b[0;00m\u001b[38;5;16m \u001b[0;00m\u001b[38;5;16m \u001b[0;00m\u001b[38;5;145mL\u001b[0;00m\u001b[38;5;188m@\u001b[0;00m\u001b[38;5;188m@\u001b[0;00m\u001b[38;5;188m@\u001b[0;00m\u001b[38;5;188m@\u001b[0;00m\u001b[38;5;231m@\u001b[0;00m\u001b[38;5;231m@\u001b[0;00m\u001b[38;5;231m@\u001b[0;00m\u001b[38;5;231m@\u001b[0;00m\u001b[38;5;231m@\u001b[0;00m\u001b[38;5;231m@\u001b[0;00m\u001b[38;5;231m@\u001b[0;00m\u001b[38;5;231m@\u001b[0;00m\u001b[38;5;231m@\u001b[0;00m\u001b[38;5;231m@\u001b[0;00m\u001b[38;5;194m@\u001b[0;00m\u001b[38;5;194m@\u001b[0;00m\u001b[38;5;231m@\u001b[0;00m\u001b[38;5;194m@\u001b[0;00m\u001b[38;5;194m@\u001b[0;00m\u001b[38;5;194m@\u001b[0;00m\u001b[38;5;188m8\u001b[0;00m\u001b[38;5;187m8\u001b[0;00m\u001b[38;5;186mG\u001b[0;00m\u001b[38;5;180mC\u001b[0;00m\u001b[38;5;179mL\u001b[0;00m\u001b[38;5;172mf\u001b[0;00m\u001b[38;5;172mt\u001b[0;00m\u001b[38;5;172mt\u001b[0;00m\u001b[38;5;179mC\u001b[0;00m\u001b[38;5;195m@\u001b[0;00m\n"
     ]
    },
    {
     "name": "stdout",
     "output_type": "stream",
     "text": [
      "\u001b[38;5;188m@\u001b[0;00m\u001b[38;5;145mL\u001b[0;00m\u001b[38;5;102mf\u001b[0;00m\u001b[38;5;102mf\u001b[0;00m\u001b[38;5;102mf\u001b[0;00m\u001b[38;5;102mf\u001b[0;00m\u001b[38;5;102mf\u001b[0;00m\u001b[38;5;102mf\u001b[0;00m\u001b[38;5;102mf\u001b[0;00m\u001b[38;5;145mG\u001b[0;00m\u001b[38;5;194m@\u001b[0;00m\u001b[38;5;188m@\u001b[0;00m\u001b[38;5;194m@\u001b[0;00m\u001b[38;5;194m@\u001b[0;00m\u001b[38;5;194m@\u001b[0;00m\u001b[38;5;231m@\u001b[0;00m\u001b[38;5;231m@\u001b[0;00m\u001b[38;5;231m@\u001b[0;00m\u001b[38;5;231m@\u001b[0;00m\u001b[38;5;231m@\u001b[0;00m\u001b[38;5;231m@\u001b[0;00m\u001b[38;5;231m@\u001b[0;00m\u001b[38;5;231m@\u001b[0;00m\u001b[38;5;231m@\u001b[0;00m\u001b[38;5;231m@\u001b[0;00m\u001b[38;5;188m@\u001b[0;00m\u001b[38;5;231m@\u001b[0;00m\u001b[38;5;188m@\u001b[0;00m\u001b[38;5;231m@\u001b[0;00m\u001b[38;5;188m@\u001b[0;00m\u001b[38;5;59m:\u001b[0;00m\u001b[38;5;16m \u001b[0;00m\u001b[38;5;16m \u001b[0;00m\u001b[38;5;16m \u001b[0;00m\u001b[38;5;16m \u001b[0;00m\u001b[38;5;16m \u001b[0;00m\u001b[38;5;16m \u001b[0;00m\u001b[38;5;16m \u001b[0;00m\u001b[38;5;16m \u001b[0;00m\u001b[38;5;16m \u001b[0;00m\u001b[38;5;16m \u001b[0;00m\u001b[38;5;102mf\u001b[0;00m\u001b[38;5;231m@\u001b[0;00m\u001b[38;5;188m@\u001b[0;00m\u001b[38;5;188m@\u001b[0;00m\u001b[38;5;231m@\u001b[0;00m\u001b[38;5;188m@\u001b[0;00m\u001b[38;5;231m@\u001b[0;00m\u001b[38;5;231m@\u001b[0;00m\u001b[38;5;231m@\u001b[0;00m\u001b[38;5;231m@\u001b[0;00m\u001b[38;5;231m@\u001b[0;00m\u001b[38;5;231m@\u001b[0;00m\u001b[38;5;231m@\u001b[0;00m\u001b[38;5;231m@\u001b[0;00m\u001b[38;5;231m@\u001b[0;00m\u001b[38;5;231m@\u001b[0;00m\u001b[38;5;194m@\u001b[0;00m\u001b[38;5;194m@\u001b[0;00m\u001b[38;5;194m@\u001b[0;00m\u001b[38;5;194m@\u001b[0;00m\u001b[38;5;195m@\u001b[0;00m\u001b[38;5;180mG\u001b[0;00m\u001b[38;5;172mt\u001b[0;00m\u001b[38;5;172mt\u001b[0;00m\u001b[38;5;172mt\u001b[0;00m\u001b[38;5;172mt\u001b[0;00m\u001b[38;5;172mf\u001b[0;00m\u001b[38;5;172mf\u001b[0;00m\u001b[38;5;172mf\u001b[0;00m\u001b[38;5;172mf\u001b[0;00m\u001b[38;5;188m8\u001b[0;00m\n",
      "\u001b[38;5;253m0\u001b[0;00m\u001b[38;5;102mf\u001b[0;00m\u001b[38;5;102mf\u001b[0;00m\u001b[38;5;102mf\u001b[0;00m\u001b[38;5;102mf\u001b[0;00m\u001b[38;5;102mf\u001b[0;00m\u001b[38;5;102mf\u001b[0;00m\u001b[38;5;102mf\u001b[0;00m\u001b[38;5;246mf\u001b[0;00m\u001b[38;5;188m8\u001b[0;00m\u001b[38;5;231m@\u001b[0;00m\u001b[38;5;188m@\u001b[0;00m\u001b[38;5;231m@\u001b[0;00m\u001b[38;5;231m@\u001b[0;00m\u001b[38;5;231m@\u001b[0;00m\u001b[38;5;231m@\u001b[0;00m\u001b[38;5;231m@\u001b[0;00m\u001b[38;5;231m@\u001b[0;00m\u001b[38;5;231m@\u001b[0;00m\u001b[38;5;231m@\u001b[0;00m\u001b[38;5;231m@\u001b[0;00m\u001b[38;5;231m@\u001b[0;00m\u001b[38;5;231m@\u001b[0;00m\u001b[38;5;231m@\u001b[0;00m\u001b[38;5;188m@\u001b[0;00m\u001b[38;5;231m@\u001b[0;00m\u001b[38;5;188m@\u001b[0;00m\u001b[38;5;188m@\u001b[0;00m\u001b[38;5;188m@\u001b[0;00m\u001b[38;5;59m:\u001b[0;00m\u001b[38;5;16m \u001b[0;00m\u001b[38;5;16m \u001b[0;00m\u001b[38;5;16m \u001b[0;00m\u001b[38;5;16m \u001b[0;00m\u001b[38;5;16m \u001b[0;00m\u001b[38;5;16m \u001b[0;00m\u001b[38;5;16m \u001b[0;00m\u001b[38;5;16m \u001b[0;00m\u001b[38;5;16m \u001b[0;00m\u001b[38;5;16m \u001b[0;00m\u001b[38;5;16m \u001b[0;00m\u001b[38;5;16m \u001b[0;00m\u001b[38;5;102mf\u001b[0;00m\u001b[38;5;231m@\u001b[0;00m\u001b[38;5;188m@\u001b[0;00m\u001b[38;5;188m@\u001b[0;00m\u001b[38;5;231m@\u001b[0;00m\u001b[38;5;188m@\u001b[0;00m\u001b[38;5;231m@\u001b[0;00m\u001b[38;5;231m@\u001b[0;00m\u001b[38;5;231m@\u001b[0;00m\u001b[38;5;231m@\u001b[0;00m\u001b[38;5;231m@\u001b[0;00m\u001b[38;5;231m@\u001b[0;00m\u001b[38;5;231m@\u001b[0;00m\u001b[38;5;231m@\u001b[0;00m\u001b[38;5;231m@\u001b[0;00m\u001b[38;5;231m@\u001b[0;00m\u001b[38;5;231m@\u001b[0;00m\u001b[38;5;231m@\u001b[0;00m\u001b[38;5;188m@\u001b[0;00m\u001b[38;5;195m@\u001b[0;00m\u001b[38;5;188m8\u001b[0;00m\u001b[38;5;172mf\u001b[0;00m\u001b[38;5;172mf\u001b[0;00m\u001b[38;5;172mf\u001b[0;00m\u001b[38;5;172mf\u001b[0;00m\u001b[38;5;172mf\u001b[0;00m\u001b[38;5;172mf\u001b[0;00m\u001b[38;5;172mf\u001b[0;00m\u001b[38;5;172mt\u001b[0;00m\u001b[38;5;187m0\u001b[0;00m\n",
      "\u001b[38;5;145mG\u001b[0;00m\u001b[38;5;102mf\u001b[0;00m\u001b[38;5;102mf\u001b[0;00m\u001b[38;5;102mf\u001b[0;00m\u001b[38;5;102mf\u001b[0;00m\u001b[38;5;102mf\u001b[0;00m\u001b[38;5;102mf\u001b[0;00m\u001b[38;5;102mf\u001b[0;00m\u001b[38;5;145mL\u001b[0;00m\u001b[38;5;188m@\u001b[0;00m\u001b[38;5;188m@\u001b[0;00m\u001b[38;5;188m@\u001b[0;00m\u001b[38;5;188m@\u001b[0;00m\u001b[38;5;231m@\u001b[0;00m\u001b[38;5;231m@\u001b[0;00m\u001b[38;5;231m@\u001b[0;00m\u001b[38;5;231m@\u001b[0;00m\u001b[38;5;231m@\u001b[0;00m\u001b[38;5;231m@\u001b[0;00m\u001b[38;5;231m@\u001b[0;00m\u001b[38;5;231m@\u001b[0;00m\u001b[38;5;231m@\u001b[0;00m\u001b[38;5;231m@\u001b[0;00m\u001b[38;5;188m@\u001b[0;00m\u001b[38;5;231m@\u001b[0;00m\u001b[38;5;188m@\u001b[0;00m\u001b[38;5;188m@\u001b[0;00m\u001b[38;5;188m@\u001b[0;00m\u001b[38;5;59m;\u001b[0;00m\u001b[38;5;16m \u001b[0;00m\u001b[38;5;16m \u001b[0;00m\u001b[38;5;16m \u001b[0;00m\u001b[38;5;16m \u001b[0;00m\u001b[38;5;16m \u001b[0;00m\u001b[38;5;16m \u001b[0;00m\u001b[38;5;16m \u001b[0;00m\u001b[38;5;16m \u001b[0;00m\u001b[38;5;16m \u001b[0;00m\u001b[38;5;16m \u001b[0;00m\u001b[38;5;16m \u001b[0;00m\u001b[38;5;16m \u001b[0;00m\u001b[38;5;16m \u001b[0;00m\u001b[38;5;16m \u001b[0;00m\u001b[38;5;145mL\u001b[0;00m\u001b[38;5;231m@\u001b[0;00m\u001b[38;5;188m@\u001b[0;00m\u001b[38;5;188m@\u001b[0;00m\u001b[38;5;231m@\u001b[0;00m\u001b[38;5;188m@\u001b[0;00m\u001b[38;5;231m@\u001b[0;00m\u001b[38;5;231m@\u001b[0;00m\u001b[38;5;231m@\u001b[0;00m\u001b[38;5;231m@\u001b[0;00m\u001b[38;5;231m@\u001b[0;00m\u001b[38;5;231m@\u001b[0;00m\u001b[38;5;231m@\u001b[0;00m\u001b[38;5;231m@\u001b[0;00m\u001b[38;5;231m@\u001b[0;00m\u001b[38;5;231m@\u001b[0;00m\u001b[38;5;194m@\u001b[0;00m\u001b[38;5;194m@\u001b[0;00m\u001b[38;5;194m@\u001b[0;00m\u001b[38;5;195m@\u001b[0;00m\u001b[38;5;179mL\u001b[0;00m\u001b[38;5;172mt\u001b[0;00m\u001b[38;5;172mf\u001b[0;00m\u001b[38;5;172mf\u001b[0;00m\u001b[38;5;172mf\u001b[0;00m\u001b[38;5;172mf\u001b[0;00m\u001b[38;5;172mf\u001b[0;00m\u001b[38;5;172mt\u001b[0;00m\u001b[38;5;180mC\u001b[0;00m\n",
      "\u001b[38;5;145mG\u001b[0;00m\u001b[38;5;102mf\u001b[0;00m\u001b[38;5;102mf\u001b[0;00m\u001b[38;5;102mf\u001b[0;00m\u001b[38;5;102mf\u001b[0;00m\u001b[38;5;102mf\u001b[0;00m\u001b[38;5;102mf\u001b[0;00m\u001b[38;5;102mf\u001b[0;00m\u001b[38;5;145mC\u001b[0;00m\u001b[38;5;231m@\u001b[0;00m\u001b[38;5;188m@\u001b[0;00m\u001b[38;5;188m@\u001b[0;00m\u001b[38;5;231m@\u001b[0;00m\u001b[38;5;231m@\u001b[0;00m\u001b[38;5;231m@\u001b[0;00m\u001b[38;5;231m@\u001b[0;00m\u001b[38;5;231m@\u001b[0;00m\u001b[38;5;231m@\u001b[0;00m\u001b[38;5;231m@\u001b[0;00m\u001b[38;5;231m@\u001b[0;00m\u001b[38;5;231m@\u001b[0;00m\u001b[38;5;231m@\u001b[0;00m\u001b[38;5;188m@\u001b[0;00m\u001b[38;5;231m@\u001b[0;00m\u001b[38;5;188m@\u001b[0;00m\u001b[38;5;188m@\u001b[0;00m\u001b[38;5;231m@\u001b[0;00m\u001b[38;5;59mi\u001b[0;00m\u001b[38;5;16m \u001b[0;00m\u001b[38;5;16m \u001b[0;00m\u001b[38;5;16m \u001b[0;00m\u001b[38;5;16m \u001b[0;00m\u001b[38;5;16m \u001b[0;00m\u001b[38;5;16m \u001b[0;00m\u001b[38;5;16m \u001b[0;00m\u001b[38;5;16m \u001b[0;00m\u001b[38;5;16m \u001b[0;00m\u001b[38;5;16m \u001b[0;00m\u001b[38;5;16m \u001b[0;00m\u001b[38;5;16m \u001b[0;00m\u001b[38;5;16m \u001b[0;00m\u001b[38;5;16m \u001b[0;00m\u001b[38;5;16m \u001b[0;00m\u001b[38;5;16m \u001b[0;00m\u001b[38;5;145mC\u001b[0;00m\u001b[38;5;231m@\u001b[0;00m\u001b[38;5;188m@\u001b[0;00m\u001b[38;5;188m@\u001b[0;00m\u001b[38;5;188m@\u001b[0;00m\u001b[38;5;188m@\u001b[0;00m\u001b[38;5;231m@\u001b[0;00m\u001b[38;5;231m@\u001b[0;00m\u001b[38;5;231m@\u001b[0;00m\u001b[38;5;231m@\u001b[0;00m\u001b[38;5;231m@\u001b[0;00m\u001b[38;5;231m@\u001b[0;00m\u001b[38;5;231m@\u001b[0;00m\u001b[38;5;231m@\u001b[0;00m\u001b[38;5;231m@\u001b[0;00m\u001b[38;5;231m@\u001b[0;00m\u001b[38;5;188m@\u001b[0;00m\u001b[38;5;188m@\u001b[0;00m\u001b[38;5;195m@\u001b[0;00m\u001b[38;5;179mL\u001b[0;00m\u001b[38;5;172mt\u001b[0;00m\u001b[38;5;172mf\u001b[0;00m\u001b[38;5;172mf\u001b[0;00m\u001b[38;5;172mf\u001b[0;00m\u001b[38;5;172mf\u001b[0;00m\u001b[38;5;172mf\u001b[0;00m\u001b[38;5;172mt\u001b[0;00m\u001b[38;5;180mC\u001b[0;00m\n",
      "\u001b[38;5;145mG\u001b[0;00m\u001b[38;5;102mf\u001b[0;00m\u001b[38;5;102mf\u001b[0;00m\u001b[38;5;102mf\u001b[0;00m\u001b[38;5;102mf\u001b[0;00m\u001b[38;5;102mf\u001b[0;00m\u001b[38;5;102mf\u001b[0;00m\u001b[38;5;102mf\u001b[0;00m\u001b[38;5;145mL\u001b[0;00m\u001b[38;5;188m@\u001b[0;00m\u001b[38;5;188m@\u001b[0;00m\u001b[38;5;188m@\u001b[0;00m\u001b[38;5;188m@\u001b[0;00m\u001b[38;5;231m@\u001b[0;00m\u001b[38;5;231m@\u001b[0;00m\u001b[38;5;231m@\u001b[0;00m\u001b[38;5;231m@\u001b[0;00m\u001b[38;5;231m@\u001b[0;00m\u001b[38;5;231m@\u001b[0;00m\u001b[38;5;231m@\u001b[0;00m\u001b[38;5;231m@\u001b[0;00m\u001b[38;5;188m@\u001b[0;00m\u001b[38;5;231m@\u001b[0;00m\u001b[38;5;188m@\u001b[0;00m\u001b[38;5;188m@\u001b[0;00m\u001b[38;5;231m@\u001b[0;00m\u001b[38;5;102mt\u001b[0;00m\u001b[38;5;16m \u001b[0;00m\u001b[38;5;16m \u001b[0;00m\u001b[38;5;16m \u001b[0;00m\u001b[38;5;16m \u001b[0;00m\u001b[38;5;16m \u001b[0;00m\u001b[38;5;16m \u001b[0;00m\u001b[38;5;16m \u001b[0;00m\u001b[38;5;16m \u001b[0;00m\u001b[38;5;243mt\u001b[0;00m\u001b[38;5;16m.\u001b[0;00m\u001b[38;5;16m \u001b[0;00m\u001b[38;5;16m \u001b[0;00m\u001b[38;5;16m \u001b[0;00m\u001b[38;5;16m \u001b[0;00m\u001b[38;5;16m \u001b[0;00m\u001b[38;5;16m \u001b[0;00m\u001b[38;5;16m \u001b[0;00m\u001b[38;5;232m \u001b[0;00m\u001b[38;5;145mG\u001b[0;00m\u001b[38;5;231m@\u001b[0;00m\u001b[38;5;188m@\u001b[0;00m\u001b[38;5;231m@\u001b[0;00m\u001b[38;5;188m@\u001b[0;00m\u001b[38;5;188m@\u001b[0;00m\u001b[38;5;231m@\u001b[0;00m\u001b[38;5;231m@\u001b[0;00m\u001b[38;5;231m@\u001b[0;00m\u001b[38;5;231m@\u001b[0;00m\u001b[38;5;231m@\u001b[0;00m\u001b[38;5;231m@\u001b[0;00m\u001b[38;5;231m@\u001b[0;00m\u001b[38;5;231m@\u001b[0;00m\u001b[38;5;194m@\u001b[0;00m\u001b[38;5;194m@\u001b[0;00m\u001b[38;5;194m@\u001b[0;00m\u001b[38;5;195m@\u001b[0;00m\u001b[38;5;179mL\u001b[0;00m\u001b[38;5;172mt\u001b[0;00m\u001b[38;5;172mf\u001b[0;00m\u001b[38;5;172mf\u001b[0;00m\u001b[38;5;172mf\u001b[0;00m\u001b[38;5;172mf\u001b[0;00m\u001b[38;5;172mf\u001b[0;00m\u001b[38;5;172mt\u001b[0;00m\u001b[38;5;180mC\u001b[0;00m\n",
      "\u001b[38;5;188m0\u001b[0;00m\u001b[38;5;102mf\u001b[0;00m\u001b[38;5;102mf\u001b[0;00m\u001b[38;5;102mf\u001b[0;00m\u001b[38;5;102mf\u001b[0;00m\u001b[38;5;102mf\u001b[0;00m\u001b[38;5;102mf\u001b[0;00m\u001b[38;5;246mf\u001b[0;00m\u001b[38;5;102mf\u001b[0;00m\u001b[38;5;188m8\u001b[0;00m\u001b[38;5;188m@\u001b[0;00m\u001b[38;5;188m@\u001b[0;00m\u001b[38;5;231m@\u001b[0;00m\u001b[38;5;188m@\u001b[0;00m\u001b[38;5;231m@\u001b[0;00m\u001b[38;5;231m@\u001b[0;00m\u001b[38;5;231m@\u001b[0;00m\u001b[38;5;231m@\u001b[0;00m\u001b[38;5;231m@\u001b[0;00m\u001b[38;5;231m@\u001b[0;00m\u001b[38;5;188m@\u001b[0;00m\u001b[38;5;231m@\u001b[0;00m\u001b[38;5;188m@\u001b[0;00m\u001b[38;5;188m@\u001b[0;00m\u001b[38;5;231m@\u001b[0;00m\u001b[38;5;102mf\u001b[0;00m\u001b[38;5;16m \u001b[0;00m\u001b[38;5;16m \u001b[0;00m\u001b[38;5;16m \u001b[0;00m\u001b[38;5;16m \u001b[0;00m\u001b[38;5;16m \u001b[0;00m\u001b[38;5;16m \u001b[0;00m\u001b[38;5;16m \u001b[0;00m\u001b[38;5;16m \u001b[0;00m\u001b[38;5;102mf\u001b[0;00m\u001b[38;5;231m@\u001b[0;00m\u001b[38;5;145mC\u001b[0;00m\u001b[38;5;16m \u001b[0;00m\u001b[38;5;16m \u001b[0;00m\u001b[38;5;16m \u001b[0;00m\u001b[38;5;16m \u001b[0;00m\u001b[38;5;16m \u001b[0;00m\u001b[38;5;16m \u001b[0;00m\u001b[38;5;16m \u001b[0;00m\u001b[38;5;16m \u001b[0;00m\u001b[38;5;16m.\u001b[0;00m\u001b[38;5;188m0\u001b[0;00m\u001b[38;5;231m@\u001b[0;00m\u001b[38;5;188m@\u001b[0;00m\u001b[38;5;231m@\u001b[0;00m\u001b[38;5;188m@\u001b[0;00m\u001b[38;5;188m@\u001b[0;00m\u001b[38;5;231m@\u001b[0;00m\u001b[38;5;231m@\u001b[0;00m\u001b[38;5;231m@\u001b[0;00m\u001b[38;5;231m@\u001b[0;00m\u001b[38;5;231m@\u001b[0;00m\u001b[38;5;231m@\u001b[0;00m\u001b[38;5;194m@\u001b[0;00m\u001b[38;5;231m@\u001b[0;00m\u001b[38;5;194m@\u001b[0;00m\u001b[38;5;195m@\u001b[0;00m\u001b[38;5;188m@\u001b[0;00m\u001b[38;5;172mf\u001b[0;00m\u001b[38;5;172mf\u001b[0;00m\u001b[38;5;172mf\u001b[0;00m\u001b[38;5;172mf\u001b[0;00m\u001b[38;5;172mf\u001b[0;00m\u001b[38;5;172mf\u001b[0;00m\u001b[38;5;172mf\u001b[0;00m\u001b[38;5;172mt\u001b[0;00m\u001b[38;5;187m0\u001b[0;00m\n",
      "\u001b[38;5;188m@\u001b[0;00m\u001b[38;5;145mL\u001b[0;00m\u001b[38;5;246mf\u001b[0;00m\u001b[38;5;102mf\u001b[0;00m\u001b[38;5;102mf\u001b[0;00m\u001b[38;5;102mf\u001b[0;00m\u001b[38;5;102mf\u001b[0;00m\u001b[38;5;102mf\u001b[0;00m\u001b[38;5;102mf\u001b[0;00m\u001b[38;5;145mG\u001b[0;00m\u001b[38;5;231m@\u001b[0;00m\u001b[38;5;188m@\u001b[0;00m\u001b[38;5;188m@\u001b[0;00m\u001b[38;5;188m@\u001b[0;00m\u001b[38;5;188m@\u001b[0;00m\u001b[38;5;231m@\u001b[0;00m\u001b[38;5;231m@\u001b[0;00m\u001b[38;5;231m@\u001b[0;00m\u001b[38;5;231m@\u001b[0;00m\u001b[38;5;188m@\u001b[0;00m\u001b[38;5;231m@\u001b[0;00m\u001b[38;5;188m@\u001b[0;00m\u001b[38;5;188m@\u001b[0;00m\u001b[38;5;231m@\u001b[0;00m\u001b[38;5;247mL\u001b[0;00m\u001b[38;5;16m \u001b[0;00m\u001b[38;5;16m \u001b[0;00m\u001b[38;5;16m \u001b[0;00m\u001b[38;5;16m \u001b[0;00m\u001b[38;5;16m \u001b[0;00m\u001b[38;5;16m \u001b[0;00m\u001b[38;5;16m \u001b[0;00m\u001b[38;5;16m \u001b[0;00m\u001b[38;5;102mt\u001b[0;00m\u001b[38;5;231m@\u001b[0;00m\u001b[38;5;188m@\u001b[0;00m\u001b[38;5;231m@\u001b[0;00m\u001b[38;5;145mL\u001b[0;00m\u001b[38;5;16m \u001b[0;00m\u001b[38;5;16m \u001b[0;00m\u001b[38;5;16m \u001b[0;00m\u001b[38;5;16m \u001b[0;00m\u001b[38;5;16m \u001b[0;00m\u001b[38;5;16m \u001b[0;00m\u001b[38;5;16m \u001b[0;00m\u001b[38;5;16m \u001b[0;00m\u001b[38;5;16m,\u001b[0;00m\u001b[38;5;188m0\u001b[0;00m\u001b[38;5;231m@\u001b[0;00m\u001b[38;5;188m@\u001b[0;00m\u001b[38;5;231m@\u001b[0;00m\u001b[38;5;188m@\u001b[0;00m\u001b[38;5;188m@\u001b[0;00m\u001b[38;5;231m@\u001b[0;00m\u001b[38;5;231m@\u001b[0;00m\u001b[38;5;231m@\u001b[0;00m\u001b[38;5;231m@\u001b[0;00m\u001b[38;5;194m@\u001b[0;00m\u001b[38;5;194m@\u001b[0;00m\u001b[38;5;194m@\u001b[0;00m\u001b[38;5;194m@\u001b[0;00m\u001b[38;5;195m@\u001b[0;00m\u001b[38;5;186mG\u001b[0;00m\u001b[38;5;172mt\u001b[0;00m\u001b[38;5;172mf\u001b[0;00m\u001b[38;5;172mf\u001b[0;00m\u001b[38;5;172mf\u001b[0;00m\u001b[38;5;172mf\u001b[0;00m\u001b[38;5;172mf\u001b[0;00m\u001b[38;5;172mf\u001b[0;00m\u001b[38;5;172mf\u001b[0;00m\u001b[38;5;188m8\u001b[0;00m\n"
     ]
    },
    {
     "name": "stdout",
     "output_type": "stream",
     "text": [
      "\u001b[38;5;231m@\u001b[0;00m\u001b[38;5;145mG\u001b[0;00m\u001b[38;5;102mf\u001b[0;00m\u001b[38;5;102mf\u001b[0;00m\u001b[38;5;102mf\u001b[0;00m\u001b[38;5;102mf\u001b[0;00m\u001b[38;5;102mf\u001b[0;00m\u001b[38;5;102mf\u001b[0;00m\u001b[38;5;102mf\u001b[0;00m\u001b[38;5;145mL\u001b[0;00m\u001b[38;5;188m@\u001b[0;00m\u001b[38;5;231m@\u001b[0;00m\u001b[38;5;188m@\u001b[0;00m\u001b[38;5;231m@\u001b[0;00m\u001b[38;5;188m@\u001b[0;00m\u001b[38;5;188m@\u001b[0;00m\u001b[38;5;231m@\u001b[0;00m\u001b[38;5;231m@\u001b[0;00m\u001b[38;5;188m@\u001b[0;00m\u001b[38;5;188m@\u001b[0;00m\u001b[38;5;188m@\u001b[0;00m\u001b[38;5;188m@\u001b[0;00m\u001b[38;5;231m@\u001b[0;00m\u001b[38;5;145mC\u001b[0;00m\u001b[38;5;16m \u001b[0;00m\u001b[38;5;16m \u001b[0;00m\u001b[38;5;16m \u001b[0;00m\u001b[38;5;16m \u001b[0;00m\u001b[38;5;16m \u001b[0;00m\u001b[38;5;16m \u001b[0;00m\u001b[38;5;16m \u001b[0;00m\u001b[38;5;16m \u001b[0;00m\u001b[38;5;102m1\u001b[0;00m\u001b[38;5;231m@\u001b[0;00m\u001b[38;5;188m@\u001b[0;00m\u001b[38;5;188m@\u001b[0;00m\u001b[38;5;188m@\u001b[0;00m\u001b[38;5;231m@\u001b[0;00m\u001b[38;5;102mf\u001b[0;00m\u001b[38;5;16m \u001b[0;00m\u001b[38;5;16m \u001b[0;00m\u001b[38;5;16m \u001b[0;00m\u001b[38;5;16m \u001b[0;00m\u001b[38;5;16m \u001b[0;00m\u001b[38;5;16m \u001b[0;00m\u001b[38;5;16m \u001b[0;00m\u001b[38;5;16m \u001b[0;00m\u001b[38;5;235m,\u001b[0;00m\u001b[38;5;188m8\u001b[0;00m\u001b[38;5;231m@\u001b[0;00m\u001b[38;5;188m@\u001b[0;00m\u001b[38;5;231m@\u001b[0;00m\u001b[38;5;188m@\u001b[0;00m\u001b[38;5;188m@\u001b[0;00m\u001b[38;5;231m@\u001b[0;00m\u001b[38;5;231m@\u001b[0;00m\u001b[38;5;194m@\u001b[0;00m\u001b[38;5;194m@\u001b[0;00m\u001b[38;5;195m@\u001b[0;00m\u001b[38;5;188m@\u001b[0;00m\u001b[38;5;195m@\u001b[0;00m\u001b[38;5;188m@\u001b[0;00m\u001b[38;5;178mf\u001b[0;00m\u001b[38;5;172mf\u001b[0;00m\u001b[38;5;172mf\u001b[0;00m\u001b[38;5;172mf\u001b[0;00m\u001b[38;5;172mf\u001b[0;00m\u001b[38;5;172mf\u001b[0;00m\u001b[38;5;172mf\u001b[0;00m\u001b[38;5;172mt\u001b[0;00m\u001b[38;5;179mC\u001b[0;00m\u001b[38;5;195m@\u001b[0;00m\n",
      "\u001b[38;5;188m@\u001b[0;00m\u001b[38;5;188m@\u001b[0;00m\u001b[38;5;145mL\u001b[0;00m\u001b[38;5;102mf\u001b[0;00m\u001b[38;5;102mf\u001b[0;00m\u001b[38;5;102mf\u001b[0;00m\u001b[38;5;102mf\u001b[0;00m\u001b[38;5;102mf\u001b[0;00m\u001b[38;5;102mf\u001b[0;00m\u001b[38;5;102mf\u001b[0;00m\u001b[38;5;145mC\u001b[0;00m\u001b[38;5;188m@\u001b[0;00m\u001b[38;5;188m@\u001b[0;00m\u001b[38;5;188m@\u001b[0;00m\u001b[38;5;231m@\u001b[0;00m\u001b[38;5;188m@\u001b[0;00m\u001b[38;5;188m@\u001b[0;00m\u001b[38;5;188m@\u001b[0;00m\u001b[38;5;188m@\u001b[0;00m\u001b[38;5;231m@\u001b[0;00m\u001b[38;5;188m@\u001b[0;00m\u001b[38;5;231m@\u001b[0;00m\u001b[38;5;145mG\u001b[0;00m\u001b[38;5;232m \u001b[0;00m\u001b[38;5;16m \u001b[0;00m\u001b[38;5;16m \u001b[0;00m\u001b[38;5;16m \u001b[0;00m\u001b[38;5;16m \u001b[0;00m\u001b[38;5;16m \u001b[0;00m\u001b[38;5;16m \u001b[0;00m\u001b[38;5;16m \u001b[0;00m\u001b[38;5;59mi\u001b[0;00m\u001b[38;5;231m@\u001b[0;00m\u001b[38;5;188m@\u001b[0;00m\u001b[38;5;188m@\u001b[0;00m\u001b[38;5;231m@\u001b[0;00m\u001b[38;5;188m@\u001b[0;00m\u001b[38;5;188m@\u001b[0;00m\u001b[38;5;231m@\u001b[0;00m\u001b[38;5;102mf\u001b[0;00m\u001b[38;5;16m \u001b[0;00m\u001b[38;5;16m \u001b[0;00m\u001b[38;5;16m \u001b[0;00m\u001b[38;5;16m \u001b[0;00m\u001b[38;5;16m \u001b[0;00m\u001b[38;5;16m \u001b[0;00m\u001b[38;5;16m \u001b[0;00m\u001b[38;5;16m \u001b[0;00m\u001b[38;5;59m:\u001b[0;00m\u001b[38;5;188m@\u001b[0;00m\u001b[38;5;188m@\u001b[0;00m\u001b[38;5;188m@\u001b[0;00m\u001b[38;5;231m@\u001b[0;00m\u001b[38;5;188m@\u001b[0;00m\u001b[38;5;188m@\u001b[0;00m\u001b[38;5;194m@\u001b[0;00m\u001b[38;5;230m@\u001b[0;00m\u001b[38;5;195m@\u001b[0;00m\u001b[38;5;188m@\u001b[0;00m\u001b[38;5;194m@\u001b[0;00m\u001b[38;5;195m@\u001b[0;00m\u001b[38;5;179mL\u001b[0;00m\u001b[38;5;172mt\u001b[0;00m\u001b[38;5;172mf\u001b[0;00m\u001b[38;5;172mf\u001b[0;00m\u001b[38;5;172mf\u001b[0;00m\u001b[38;5;172mf\u001b[0;00m\u001b[38;5;172mf\u001b[0;00m\u001b[38;5;172mf\u001b[0;00m\u001b[38;5;172mf\u001b[0;00m\u001b[38;5;188m8\u001b[0;00m\u001b[38;5;195m@\u001b[0;00m\n",
      "\u001b[38;5;188m@\u001b[0;00m\u001b[38;5;231m@\u001b[0;00m\u001b[38;5;188m0\u001b[0;00m\u001b[38;5;102mf\u001b[0;00m\u001b[38;5;102mf\u001b[0;00m\u001b[38;5;102mf\u001b[0;00m\u001b[38;5;102mf\u001b[0;00m\u001b[38;5;102mf\u001b[0;00m\u001b[38;5;102mf\u001b[0;00m\u001b[38;5;102mf\u001b[0;00m\u001b[38;5;102mf\u001b[0;00m\u001b[38;5;145mC\u001b[0;00m\u001b[38;5;188m@\u001b[0;00m\u001b[38;5;231m@\u001b[0;00m\u001b[38;5;188m@\u001b[0;00m\u001b[38;5;231m@\u001b[0;00m\u001b[38;5;231m@\u001b[0;00m\u001b[38;5;188m@\u001b[0;00m\u001b[38;5;231m@\u001b[0;00m\u001b[38;5;188m@\u001b[0;00m\u001b[38;5;231m@\u001b[0;00m\u001b[38;5;188m0\u001b[0;00m\u001b[38;5;16m.\u001b[0;00m\u001b[38;5;16m \u001b[0;00m\u001b[38;5;16m \u001b[0;00m\u001b[38;5;16m \u001b[0;00m\u001b[38;5;16m \u001b[0;00m\u001b[38;5;16m \u001b[0;00m\u001b[38;5;16m \u001b[0;00m\u001b[38;5;16m \u001b[0;00m\u001b[38;5;59m;\u001b[0;00m\u001b[38;5;188m@\u001b[0;00m\u001b[38;5;188m@\u001b[0;00m\u001b[38;5;188m@\u001b[0;00m\u001b[38;5;231m@\u001b[0;00m\u001b[38;5;188m@\u001b[0;00m\u001b[38;5;231m@\u001b[0;00m\u001b[38;5;188m@\u001b[0;00m\u001b[38;5;188m@\u001b[0;00m\u001b[38;5;231m@\u001b[0;00m\u001b[38;5;102mt\u001b[0;00m\u001b[38;5;16m \u001b[0;00m\u001b[38;5;16m \u001b[0;00m\u001b[38;5;16m \u001b[0;00m\u001b[38;5;16m \u001b[0;00m\u001b[38;5;16m \u001b[0;00m\u001b[38;5;16m \u001b[0;00m\u001b[38;5;16m \u001b[0;00m\u001b[38;5;16m \u001b[0;00m\u001b[38;5;238m;\u001b[0;00m\u001b[38;5;188m@\u001b[0;00m\u001b[38;5;188m@\u001b[0;00m\u001b[38;5;188m@\u001b[0;00m\u001b[38;5;231m@\u001b[0;00m\u001b[38;5;194m@\u001b[0;00m\u001b[38;5;231m@\u001b[0;00m\u001b[38;5;194m@\u001b[0;00m\u001b[38;5;188m@\u001b[0;00m\u001b[38;5;195m@\u001b[0;00m\u001b[38;5;195m@\u001b[0;00m\u001b[38;5;179mC\u001b[0;00m\u001b[38;5;172mt\u001b[0;00m\u001b[38;5;172mf\u001b[0;00m\u001b[38;5;172mf\u001b[0;00m\u001b[38;5;172mf\u001b[0;00m\u001b[38;5;172mf\u001b[0;00m\u001b[38;5;172mf\u001b[0;00m\u001b[38;5;172mf\u001b[0;00m\u001b[38;5;172mt\u001b[0;00m\u001b[38;5;187m0\u001b[0;00m\u001b[38;5;195m@\u001b[0;00m\u001b[38;5;188m@\u001b[0;00m\n",
      "\u001b[38;5;188m@\u001b[0;00m\u001b[38;5;188m@\u001b[0;00m\u001b[38;5;231m@\u001b[0;00m\u001b[38;5;188mG\u001b[0;00m\u001b[38;5;102mf\u001b[0;00m\u001b[38;5;102mf\u001b[0;00m\u001b[38;5;102mf\u001b[0;00m\u001b[38;5;102mf\u001b[0;00m\u001b[38;5;102mf\u001b[0;00m\u001b[38;5;102mf\u001b[0;00m\u001b[38;5;102mf\u001b[0;00m\u001b[38;5;102mf\u001b[0;00m\u001b[38;5;145mC\u001b[0;00m\u001b[38;5;188m8\u001b[0;00m\u001b[38;5;231m@\u001b[0;00m\u001b[38;5;188m@\u001b[0;00m\u001b[38;5;188m@\u001b[0;00m\u001b[38;5;231m@\u001b[0;00m\u001b[38;5;188m@\u001b[0;00m\u001b[38;5;231m@\u001b[0;00m\u001b[38;5;188m8\u001b[0;00m\u001b[38;5;16m,\u001b[0;00m\u001b[38;5;16m \u001b[0;00m\u001b[38;5;16m \u001b[0;00m\u001b[38;5;16m \u001b[0;00m\u001b[38;5;16m \u001b[0;00m\u001b[38;5;16m \u001b[0;00m\u001b[38;5;16m \u001b[0;00m\u001b[38;5;16m \u001b[0;00m\u001b[38;5;59m:\u001b[0;00m\u001b[38;5;188m@\u001b[0;00m\u001b[38;5;188m@\u001b[0;00m\u001b[38;5;188m@\u001b[0;00m\u001b[38;5;188m@\u001b[0;00m\u001b[38;5;188m@\u001b[0;00m\u001b[38;5;188m@\u001b[0;00m\u001b[38;5;188m@\u001b[0;00m\u001b[38;5;188m@\u001b[0;00m\u001b[38;5;188m@\u001b[0;00m\u001b[38;5;188m@\u001b[0;00m\u001b[38;5;231m@\u001b[0;00m\u001b[38;5;102m1\u001b[0;00m\u001b[38;5;16m \u001b[0;00m\u001b[38;5;16m \u001b[0;00m\u001b[38;5;16m \u001b[0;00m\u001b[38;5;16m \u001b[0;00m\u001b[38;5;16m \u001b[0;00m\u001b[38;5;16m \u001b[0;00m\u001b[38;5;16m \u001b[0;00m\u001b[38;5;16m \u001b[0;00m\u001b[38;5;59mi\u001b[0;00m\u001b[38;5;231m@\u001b[0;00m\u001b[38;5;188m@\u001b[0;00m\u001b[38;5;188m@\u001b[0;00m\u001b[38;5;231m@\u001b[0;00m\u001b[38;5;194m@\u001b[0;00m\u001b[38;5;194m@\u001b[0;00m\u001b[38;5;195m@\u001b[0;00m\u001b[38;5;188m@\u001b[0;00m\u001b[38;5;179mL\u001b[0;00m\u001b[38;5;172mt\u001b[0;00m\u001b[38;5;172mf\u001b[0;00m\u001b[38;5;172mf\u001b[0;00m\u001b[38;5;172mf\u001b[0;00m\u001b[38;5;172mf\u001b[0;00m\u001b[38;5;172mf\u001b[0;00m\u001b[38;5;172mf\u001b[0;00m\u001b[38;5;172mt\u001b[0;00m\u001b[38;5;180mG\u001b[0;00m\u001b[38;5;195m@\u001b[0;00m\u001b[38;5;188m@\u001b[0;00m\u001b[38;5;194m@\u001b[0;00m\n",
      "\u001b[38;5;231m@\u001b[0;00m\u001b[38;5;188m@\u001b[0;00m\u001b[38;5;188m@\u001b[0;00m\u001b[38;5;231m@\u001b[0;00m\u001b[38;5;188mG\u001b[0;00m\u001b[38;5;102mf\u001b[0;00m\u001b[38;5;246mf\u001b[0;00m\u001b[38;5;102mf\u001b[0;00m\u001b[38;5;102mf\u001b[0;00m\u001b[38;5;102mf\u001b[0;00m\u001b[38;5;102mf\u001b[0;00m\u001b[38;5;102mf\u001b[0;00m\u001b[38;5;102mf\u001b[0;00m\u001b[38;5;145mL\u001b[0;00m\u001b[38;5;188m0\u001b[0;00m\u001b[38;5;188m@\u001b[0;00m\u001b[38;5;188m@\u001b[0;00m\u001b[38;5;188m@\u001b[0;00m\u001b[38;5;231m@\u001b[0;00m\u001b[38;5;255m8\u001b[0;00m\u001b[38;5;16m,\u001b[0;00m\u001b[38;5;16m \u001b[0;00m\u001b[38;5;16m \u001b[0;00m\u001b[38;5;16m \u001b[0;00m\u001b[38;5;16m \u001b[0;00m\u001b[38;5;16m \u001b[0;00m\u001b[38;5;16m \u001b[0;00m\u001b[38;5;16m \u001b[0;00m\u001b[38;5;59m;\u001b[0;00m\u001b[38;5;188m@\u001b[0;00m\u001b[38;5;231m@\u001b[0;00m\u001b[38;5;231m@\u001b[0;00m\u001b[38;5;231m@\u001b[0;00m\u001b[38;5;231m@\u001b[0;00m\u001b[38;5;188m@\u001b[0;00m\u001b[38;5;188m@\u001b[0;00m\u001b[38;5;188m@\u001b[0;00m\u001b[38;5;188m@\u001b[0;00m\u001b[38;5;231m@\u001b[0;00m\u001b[38;5;231m@\u001b[0;00m\u001b[38;5;231m@\u001b[0;00m\u001b[38;5;231m@\u001b[0;00m\u001b[38;5;102m1\u001b[0;00m\u001b[38;5;16m \u001b[0;00m\u001b[38;5;16m \u001b[0;00m\u001b[38;5;16m \u001b[0;00m\u001b[38;5;16m \u001b[0;00m\u001b[38;5;16m \u001b[0;00m\u001b[38;5;16m \u001b[0;00m\u001b[38;5;16m \u001b[0;00m\u001b[38;5;16m \u001b[0;00m\u001b[38;5;102m1\u001b[0;00m\u001b[38;5;231m@\u001b[0;00m\u001b[38;5;188m@\u001b[0;00m\u001b[38;5;194m@\u001b[0;00m\u001b[38;5;194m@\u001b[0;00m\u001b[38;5;194m@\u001b[0;00m\u001b[38;5;187m0\u001b[0;00m\u001b[38;5;178mf\u001b[0;00m\u001b[38;5;172mt\u001b[0;00m\u001b[38;5;172mf\u001b[0;00m\u001b[38;5;172mf\u001b[0;00m\u001b[38;5;172mf\u001b[0;00m\u001b[38;5;172mf\u001b[0;00m\u001b[38;5;172mf\u001b[0;00m\u001b[38;5;172mf\u001b[0;00m\u001b[38;5;172mt\u001b[0;00m\u001b[38;5;180mG\u001b[0;00m\u001b[38;5;195m@\u001b[0;00m\u001b[38;5;194m@\u001b[0;00m\u001b[38;5;194m@\u001b[0;00m\u001b[38;5;231m@\u001b[0;00m\n",
      "\u001b[38;5;188m@\u001b[0;00m\u001b[38;5;231m@\u001b[0;00m\u001b[38;5;188m@\u001b[0;00m\u001b[38;5;188m@\u001b[0;00m\u001b[38;5;231m@\u001b[0;00m\u001b[38;5;188m0\u001b[0;00m\u001b[38;5;102mf\u001b[0;00m\u001b[38;5;102mf\u001b[0;00m\u001b[38;5;102mf\u001b[0;00m\u001b[38;5;102mf\u001b[0;00m\u001b[38;5;102mf\u001b[0;00m\u001b[38;5;102mf\u001b[0;00m\u001b[38;5;102mf\u001b[0;00m\u001b[38;5;245mf\u001b[0;00m\u001b[38;5;145mC\u001b[0;00m\u001b[38;5;188m@\u001b[0;00m\u001b[38;5;188m@\u001b[0;00m\u001b[38;5;188m@\u001b[0;00m\u001b[38;5;188m@\u001b[0;00m\u001b[38;5;59m:\u001b[0;00m\u001b[38;5;16m \u001b[0;00m\u001b[38;5;16m \u001b[0;00m\u001b[38;5;16m \u001b[0;00m\u001b[38;5;16m \u001b[0;00m\u001b[38;5;16m \u001b[0;00m\u001b[38;5;16m \u001b[0;00m\u001b[38;5;16m \u001b[0;00m\u001b[38;5;16m \u001b[0;00m\u001b[38;5;102mt\u001b[0;00m\u001b[38;5;145mG\u001b[0;00m\u001b[38;5;188m0\u001b[0;00m\u001b[38;5;188m8\u001b[0;00m\u001b[38;5;188m@\u001b[0;00m\u001b[38;5;231m@\u001b[0;00m\u001b[38;5;231m@\u001b[0;00m\u001b[38;5;231m@\u001b[0;00m\u001b[38;5;231m@\u001b[0;00m\u001b[38;5;231m@\u001b[0;00m\u001b[38;5;231m@\u001b[0;00m\u001b[38;5;188m@\u001b[0;00m\u001b[38;5;255m8\u001b[0;00m\u001b[38;5;188m0\u001b[0;00m\u001b[38;5;145mG\u001b[0;00m\u001b[38;5;234m,\u001b[0;00m\u001b[38;5;16m \u001b[0;00m\u001b[38;5;16m \u001b[0;00m\u001b[38;5;16m \u001b[0;00m\u001b[38;5;16m \u001b[0;00m\u001b[38;5;16m \u001b[0;00m\u001b[38;5;16m \u001b[0;00m\u001b[38;5;16m \u001b[0;00m\u001b[38;5;16m \u001b[0;00m\u001b[38;5;102mt\u001b[0;00m\u001b[38;5;231m@\u001b[0;00m\u001b[38;5;188m@\u001b[0;00m\u001b[38;5;194m@\u001b[0;00m\u001b[38;5;195m@\u001b[0;00m\u001b[38;5;179mC\u001b[0;00m\u001b[38;5;172mt\u001b[0;00m\u001b[38;5;172mf\u001b[0;00m\u001b[38;5;172mf\u001b[0;00m\u001b[38;5;172mf\u001b[0;00m\u001b[38;5;172mf\u001b[0;00m\u001b[38;5;172mf\u001b[0;00m\u001b[38;5;172mt\u001b[0;00m\u001b[38;5;172mf\u001b[0;00m\u001b[38;5;187m0\u001b[0;00m\u001b[38;5;195m@\u001b[0;00m\u001b[38;5;194m@\u001b[0;00m\u001b[38;5;194m@\u001b[0;00m\u001b[38;5;195m@\u001b[0;00m\u001b[38;5;194m@\u001b[0;00m\n",
      "\u001b[38;5;231m@\u001b[0;00m\u001b[38;5;188m@\u001b[0;00m\u001b[38;5;231m@\u001b[0;00m\u001b[38;5;188m@\u001b[0;00m\u001b[38;5;188m@\u001b[0;00m\u001b[38;5;231m@\u001b[0;00m\u001b[38;5;188m8\u001b[0;00m\u001b[38;5;145mC\u001b[0;00m\u001b[38;5;102mf\u001b[0;00m\u001b[38;5;102mf\u001b[0;00m\u001b[38;5;102mf\u001b[0;00m\u001b[38;5;102mf\u001b[0;00m\u001b[38;5;102mf\u001b[0;00m\u001b[38;5;145mC\u001b[0;00m\u001b[38;5;188m@\u001b[0;00m\u001b[38;5;188m@\u001b[0;00m\u001b[38;5;188m@\u001b[0;00m\u001b[38;5;188m@\u001b[0;00m\u001b[38;5;239m;\u001b[0;00m\u001b[38;5;16m \u001b[0;00m\u001b[38;5;16m \u001b[0;00m\u001b[38;5;16m \u001b[0;00m\u001b[38;5;16m \u001b[0;00m\u001b[38;5;16m \u001b[0;00m\u001b[38;5;16m \u001b[0;00m\u001b[38;5;16m \u001b[0;00m\u001b[38;5;16m \u001b[0;00m\u001b[38;5;16m \u001b[0;00m\u001b[38;5;16m \u001b[0;00m\u001b[38;5;16m \u001b[0;00m\u001b[38;5;16m \u001b[0;00m\u001b[38;5;16m.\u001b[0;00m\u001b[38;5;16m,\u001b[0;00m\u001b[38;5;16m:\u001b[0;00m\u001b[38;5;59m:\u001b[0;00m\u001b[38;5;59m:\u001b[0;00m\u001b[38;5;59m:\u001b[0;00m\u001b[38;5;59m:\u001b[0;00m\u001b[38;5;16m:\u001b[0;00m\u001b[38;5;16m,\u001b[0;00m\u001b[38;5;16m.\u001b[0;00m\u001b[38;5;16m \u001b[0;00m\u001b[38;5;16m \u001b[0;00m\u001b[38;5;16m \u001b[0;00m\u001b[38;5;16m \u001b[0;00m\u001b[38;5;16m \u001b[0;00m\u001b[38;5;16m \u001b[0;00m\u001b[38;5;16m \u001b[0;00m\u001b[38;5;16m \u001b[0;00m\u001b[38;5;16m \u001b[0;00m\u001b[38;5;16m \u001b[0;00m\u001b[38;5;16m \u001b[0;00m\u001b[38;5;16m \u001b[0;00m\u001b[38;5;245mf\u001b[0;00m\u001b[38;5;195m@\u001b[0;00m\u001b[38;5;188m@\u001b[0;00m\u001b[38;5;194m@\u001b[0;00m\u001b[38;5;195m@\u001b[0;00m\u001b[38;5;179mC\u001b[0;00m\u001b[38;5;172mt\u001b[0;00m\u001b[38;5;172mf\u001b[0;00m\u001b[38;5;172mf\u001b[0;00m\u001b[38;5;172mf\u001b[0;00m\u001b[38;5;172mt\u001b[0;00m\u001b[38;5;179mL\u001b[0;00m\u001b[38;5;188m8\u001b[0;00m\u001b[38;5;195m@\u001b[0;00m\u001b[38;5;188m@\u001b[0;00m\u001b[38;5;194m@\u001b[0;00m\u001b[38;5;195m@\u001b[0;00m\u001b[38;5;194m@\u001b[0;00m\u001b[38;5;231m@\u001b[0;00m\n"
     ]
    },
    {
     "name": "stdout",
     "output_type": "stream",
     "text": [
      "\u001b[38;5;231m@\u001b[0;00m\u001b[38;5;231m@\u001b[0;00m\u001b[38;5;188m@\u001b[0;00m\u001b[38;5;231m@\u001b[0;00m\u001b[38;5;231m@\u001b[0;00m\u001b[38;5;188m@\u001b[0;00m\u001b[38;5;231m@\u001b[0;00m\u001b[38;5;231m@\u001b[0;00m\u001b[38;5;188m0\u001b[0;00m\u001b[38;5;247mL\u001b[0;00m\u001b[38;5;102mf\u001b[0;00m\u001b[38;5;102mf\u001b[0;00m\u001b[38;5;145mL\u001b[0;00m\u001b[38;5;188m@\u001b[0;00m\u001b[38;5;188m@\u001b[0;00m\u001b[38;5;188m@\u001b[0;00m\u001b[38;5;231m@\u001b[0;00m\u001b[38;5;241mi\u001b[0;00m\u001b[38;5;16m \u001b[0;00m\u001b[38;5;16m \u001b[0;00m\u001b[38;5;16m \u001b[0;00m\u001b[38;5;16m \u001b[0;00m\u001b[38;5;16m \u001b[0;00m\u001b[38;5;16m \u001b[0;00m\u001b[38;5;16m \u001b[0;00m\u001b[38;5;16m \u001b[0;00m\u001b[38;5;16m \u001b[0;00m\u001b[38;5;16m \u001b[0;00m\u001b[38;5;16m \u001b[0;00m\u001b[38;5;16m \u001b[0;00m\u001b[38;5;16m \u001b[0;00m\u001b[38;5;16m \u001b[0;00m\u001b[38;5;16m \u001b[0;00m\u001b[38;5;16m \u001b[0;00m\u001b[38;5;16m \u001b[0;00m\u001b[38;5;16m \u001b[0;00m\u001b[38;5;16m \u001b[0;00m\u001b[38;5;16m \u001b[0;00m\u001b[38;5;16m \u001b[0;00m\u001b[38;5;16m \u001b[0;00m\u001b[38;5;16m \u001b[0;00m\u001b[38;5;16m \u001b[0;00m\u001b[38;5;16m \u001b[0;00m\u001b[38;5;16m \u001b[0;00m\u001b[38;5;16m \u001b[0;00m\u001b[38;5;16m \u001b[0;00m\u001b[38;5;16m \u001b[0;00m\u001b[38;5;16m \u001b[0;00m\u001b[38;5;16m \u001b[0;00m\u001b[38;5;16m \u001b[0;00m\u001b[38;5;16m \u001b[0;00m\u001b[38;5;16m \u001b[0;00m\u001b[38;5;16m \u001b[0;00m\u001b[38;5;16m \u001b[0;00m\u001b[38;5;145mL\u001b[0;00m\u001b[38;5;195m@\u001b[0;00m\u001b[38;5;188m@\u001b[0;00m\u001b[38;5;194m@\u001b[0;00m\u001b[38;5;188m@\u001b[0;00m\u001b[38;5;179mL\u001b[0;00m\u001b[38;5;172mt\u001b[0;00m\u001b[38;5;172mt\u001b[0;00m\u001b[38;5;172mf\u001b[0;00m\u001b[38;5;186mG\u001b[0;00m\u001b[38;5;194m@\u001b[0;00m\u001b[38;5;195m@\u001b[0;00m\u001b[38;5;188m@\u001b[0;00m\u001b[38;5;194m@\u001b[0;00m\u001b[38;5;195m@\u001b[0;00m\u001b[38;5;194m@\u001b[0;00m\u001b[38;5;231m@\u001b[0;00m\u001b[38;5;231m@\u001b[0;00m\n",
      "\u001b[38;5;231m@\u001b[0;00m\u001b[38;5;231m@\u001b[0;00m\u001b[38;5;231m@\u001b[0;00m\u001b[38;5;188m@\u001b[0;00m\u001b[38;5;188m@\u001b[0;00m\u001b[38;5;231m@\u001b[0;00m\u001b[38;5;188m@\u001b[0;00m\u001b[38;5;188m@\u001b[0;00m\u001b[38;5;231m@\u001b[0;00m\u001b[38;5;188m@\u001b[0;00m\u001b[38;5;145mG\u001b[0;00m\u001b[38;5;145mC\u001b[0;00m\u001b[38;5;188m@\u001b[0;00m\u001b[38;5;231m@\u001b[0;00m\u001b[38;5;188m@\u001b[0;00m\u001b[38;5;231m@\u001b[0;00m\u001b[38;5;243mt\u001b[0;00m\u001b[38;5;16m \u001b[0;00m\u001b[38;5;16m \u001b[0;00m\u001b[38;5;16m \u001b[0;00m\u001b[38;5;16m \u001b[0;00m\u001b[38;5;16m \u001b[0;00m\u001b[38;5;16m \u001b[0;00m\u001b[38;5;16m \u001b[0;00m\u001b[38;5;16m \u001b[0;00m\u001b[38;5;237m:\u001b[0;00m\u001b[38;5;16m.\u001b[0;00m\u001b[38;5;16m \u001b[0;00m\u001b[38;5;16m \u001b[0;00m\u001b[38;5;16m \u001b[0;00m\u001b[38;5;16m \u001b[0;00m\u001b[38;5;16m \u001b[0;00m\u001b[38;5;16m \u001b[0;00m\u001b[38;5;16m \u001b[0;00m\u001b[38;5;16m \u001b[0;00m\u001b[38;5;16m \u001b[0;00m\u001b[38;5;16m \u001b[0;00m\u001b[38;5;16m \u001b[0;00m\u001b[38;5;16m \u001b[0;00m\u001b[38;5;16m \u001b[0;00m\u001b[38;5;16m \u001b[0;00m\u001b[38;5;16m \u001b[0;00m\u001b[38;5;16m \u001b[0;00m\u001b[38;5;16m \u001b[0;00m\u001b[38;5;16m \u001b[0;00m\u001b[38;5;16m,\u001b[0;00m\u001b[38;5;16m.\u001b[0;00m\u001b[38;5;16m \u001b[0;00m\u001b[38;5;16m \u001b[0;00m\u001b[38;5;16m \u001b[0;00m\u001b[38;5;16m \u001b[0;00m\u001b[38;5;16m \u001b[0;00m\u001b[38;5;16m \u001b[0;00m\u001b[38;5;16m \u001b[0;00m\u001b[38;5;16m \u001b[0;00m\u001b[38;5;145mC\u001b[0;00m\u001b[38;5;195m@\u001b[0;00m\u001b[38;5;188m@\u001b[0;00m\u001b[38;5;195m@\u001b[0;00m\u001b[38;5;188m@\u001b[0;00m\u001b[38;5;179mL\u001b[0;00m\u001b[38;5;180mG\u001b[0;00m\u001b[38;5;188m@\u001b[0;00m\u001b[38;5;195m@\u001b[0;00m\u001b[38;5;194m@\u001b[0;00m\u001b[38;5;194m@\u001b[0;00m\u001b[38;5;195m@\u001b[0;00m\u001b[38;5;188m@\u001b[0;00m\u001b[38;5;194m@\u001b[0;00m\u001b[38;5;231m@\u001b[0;00m\u001b[38;5;231m@\u001b[0;00m\u001b[38;5;231m@\u001b[0;00m\n",
      "\u001b[38;5;231m@\u001b[0;00m\u001b[38;5;231m@\u001b[0;00m\u001b[38;5;231m@\u001b[0;00m\u001b[38;5;231m@\u001b[0;00m\u001b[38;5;188m@\u001b[0;00m\u001b[38;5;188m@\u001b[0;00m\u001b[38;5;231m@\u001b[0;00m\u001b[38;5;188m@\u001b[0;00m\u001b[38;5;188m@\u001b[0;00m\u001b[38;5;231m@\u001b[0;00m\u001b[38;5;231m@\u001b[0;00m\u001b[38;5;231m@\u001b[0;00m\u001b[38;5;231m@\u001b[0;00m\u001b[38;5;188m@\u001b[0;00m\u001b[38;5;231m@\u001b[0;00m\u001b[38;5;102mf\u001b[0;00m\u001b[38;5;16m \u001b[0;00m\u001b[38;5;16m \u001b[0;00m\u001b[38;5;16m \u001b[0;00m\u001b[38;5;16m \u001b[0;00m\u001b[38;5;16m \u001b[0;00m\u001b[38;5;16m \u001b[0;00m\u001b[38;5;16m \u001b[0;00m\u001b[38;5;16m \u001b[0;00m\u001b[38;5;145mC\u001b[0;00m\u001b[38;5;231m@\u001b[0;00m\u001b[38;5;188m8\u001b[0;00m\u001b[38;5;188m0\u001b[0;00m\u001b[38;5;145mG\u001b[0;00m\u001b[38;5;145mL\u001b[0;00m\u001b[38;5;102mf\u001b[0;00m\u001b[38;5;102mt\u001b[0;00m\u001b[38;5;102m1\u001b[0;00m\u001b[38;5;59mi\u001b[0;00m\u001b[38;5;59mi\u001b[0;00m\u001b[38;5;59m;\u001b[0;00m\u001b[38;5;59m;\u001b[0;00m\u001b[38;5;59mi\u001b[0;00m\u001b[38;5;59mi\u001b[0;00m\u001b[38;5;102m1\u001b[0;00m\u001b[38;5;102mt\u001b[0;00m\u001b[38;5;102mf\u001b[0;00m\u001b[38;5;145mL\u001b[0;00m\u001b[38;5;145mG\u001b[0;00m\u001b[38;5;188m0\u001b[0;00m\u001b[38;5;188m@\u001b[0;00m\u001b[38;5;188m0\u001b[0;00m\u001b[38;5;16m,\u001b[0;00m\u001b[38;5;16m \u001b[0;00m\u001b[38;5;16m \u001b[0;00m\u001b[38;5;16m \u001b[0;00m\u001b[38;5;16m \u001b[0;00m\u001b[38;5;16m \u001b[0;00m\u001b[38;5;16m \u001b[0;00m\u001b[38;5;16m \u001b[0;00m\u001b[38;5;16m \u001b[0;00m\u001b[38;5;145mG\u001b[0;00m\u001b[38;5;195m@\u001b[0;00m\u001b[38;5;188m@\u001b[0;00m\u001b[38;5;195m@\u001b[0;00m\u001b[38;5;195m@\u001b[0;00m\u001b[38;5;195m@\u001b[0;00m\u001b[38;5;195m@\u001b[0;00m\u001b[38;5;188m@\u001b[0;00m\u001b[38;5;194m@\u001b[0;00m\u001b[38;5;195m@\u001b[0;00m\u001b[38;5;194m@\u001b[0;00m\u001b[38;5;194m@\u001b[0;00m\u001b[38;5;231m@\u001b[0;00m\u001b[38;5;231m@\u001b[0;00m\u001b[38;5;231m@\u001b[0;00m\u001b[38;5;231m@\u001b[0;00m\n",
      "\u001b[38;5;231m@\u001b[0;00m\u001b[38;5;231m@\u001b[0;00m\u001b[38;5;231m@\u001b[0;00m\u001b[38;5;231m@\u001b[0;00m\u001b[38;5;231m@\u001b[0;00m\u001b[38;5;231m@\u001b[0;00m\u001b[38;5;188m@\u001b[0;00m\u001b[38;5;188m@\u001b[0;00m\u001b[38;5;231m@\u001b[0;00m\u001b[38;5;188m@\u001b[0;00m\u001b[38;5;188m@\u001b[0;00m\u001b[38;5;188m@\u001b[0;00m\u001b[38;5;231m@\u001b[0;00m\u001b[38;5;231m@\u001b[0;00m\u001b[38;5;145mL\u001b[0;00m\u001b[38;5;16m \u001b[0;00m\u001b[38;5;16m \u001b[0;00m\u001b[38;5;16m \u001b[0;00m\u001b[38;5;16m \u001b[0;00m\u001b[38;5;16m \u001b[0;00m\u001b[38;5;16m \u001b[0;00m\u001b[38;5;16m \u001b[0;00m\u001b[38;5;16m.\u001b[0;00m\u001b[38;5;145mC\u001b[0;00m\u001b[38;5;231m@\u001b[0;00m\u001b[38;5;188m@\u001b[0;00m\u001b[38;5;231m@\u001b[0;00m\u001b[38;5;231m@\u001b[0;00m\u001b[38;5;231m@\u001b[0;00m\u001b[38;5;231m@\u001b[0;00m\u001b[38;5;231m@\u001b[0;00m\u001b[38;5;231m@\u001b[0;00m\u001b[38;5;231m@\u001b[0;00m\u001b[38;5;231m@\u001b[0;00m\u001b[38;5;231m@\u001b[0;00m\u001b[38;5;231m@\u001b[0;00m\u001b[38;5;231m@\u001b[0;00m\u001b[38;5;231m@\u001b[0;00m\u001b[38;5;231m@\u001b[0;00m\u001b[38;5;231m@\u001b[0;00m\u001b[38;5;231m@\u001b[0;00m\u001b[38;5;231m@\u001b[0;00m\u001b[38;5;231m@\u001b[0;00m\u001b[38;5;231m@\u001b[0;00m\u001b[38;5;231m@\u001b[0;00m\u001b[38;5;231m@\u001b[0;00m\u001b[38;5;231m@\u001b[0;00m\u001b[38;5;188m0\u001b[0;00m\u001b[38;5;16m,\u001b[0;00m\u001b[38;5;16m \u001b[0;00m\u001b[38;5;16m \u001b[0;00m\u001b[38;5;16m \u001b[0;00m\u001b[38;5;16m \u001b[0;00m\u001b[38;5;16m \u001b[0;00m\u001b[38;5;16m \u001b[0;00m\u001b[38;5;16m \u001b[0;00m\u001b[38;5;16m.\u001b[0;00m\u001b[38;5;188mG\u001b[0;00m\u001b[38;5;195m@\u001b[0;00m\u001b[38;5;230m@\u001b[0;00m\u001b[38;5;230m@\u001b[0;00m\u001b[38;5;194m@\u001b[0;00m\u001b[38;5;194m@\u001b[0;00m\u001b[38;5;195m@\u001b[0;00m\u001b[38;5;194m@\u001b[0;00m\u001b[38;5;194m@\u001b[0;00m\u001b[38;5;231m@\u001b[0;00m\u001b[38;5;231m@\u001b[0;00m\u001b[38;5;231m@\u001b[0;00m\u001b[38;5;231m@\u001b[0;00m\u001b[38;5;231m@\u001b[0;00m\u001b[38;5;231m@\u001b[0;00m\n",
      "\u001b[38;5;231m@\u001b[0;00m\u001b[38;5;231m@\u001b[0;00m\u001b[38;5;231m@\u001b[0;00m\u001b[38;5;231m@\u001b[0;00m\u001b[38;5;231m@\u001b[0;00m\u001b[38;5;231m@\u001b[0;00m\u001b[38;5;231m@\u001b[0;00m\u001b[38;5;188m@\u001b[0;00m\u001b[38;5;188m@\u001b[0;00m\u001b[38;5;188m@\u001b[0;00m\u001b[38;5;188m@\u001b[0;00m\u001b[38;5;188m@\u001b[0;00m\u001b[38;5;188m8\u001b[0;00m\u001b[38;5;244mt\u001b[0;00m\u001b[38;5;16m \u001b[0;00m\u001b[38;5;16m \u001b[0;00m\u001b[38;5;16m \u001b[0;00m\u001b[38;5;16m \u001b[0;00m\u001b[38;5;16m \u001b[0;00m\u001b[38;5;16m \u001b[0;00m\u001b[38;5;16m \u001b[0;00m\u001b[38;5;16m \u001b[0;00m\u001b[38;5;59m;\u001b[0;00m\u001b[38;5;188m@\u001b[0;00m\u001b[38;5;188m@\u001b[0;00m\u001b[38;5;188m@\u001b[0;00m\u001b[38;5;188m@\u001b[0;00m\u001b[38;5;188m@\u001b[0;00m\u001b[38;5;188m@\u001b[0;00m\u001b[38;5;188m@\u001b[0;00m\u001b[38;5;188m@\u001b[0;00m\u001b[38;5;188m@\u001b[0;00m\u001b[38;5;188m@\u001b[0;00m\u001b[38;5;188m@\u001b[0;00m\u001b[38;5;188m@\u001b[0;00m\u001b[38;5;188m@\u001b[0;00m\u001b[38;5;188m@\u001b[0;00m\u001b[38;5;188m@\u001b[0;00m\u001b[38;5;188m@\u001b[0;00m\u001b[38;5;188m@\u001b[0;00m\u001b[38;5;188m@\u001b[0;00m\u001b[38;5;188m@\u001b[0;00m\u001b[38;5;188m@\u001b[0;00m\u001b[38;5;188m@\u001b[0;00m\u001b[38;5;188m@\u001b[0;00m\u001b[38;5;188m@\u001b[0;00m\u001b[38;5;188m@\u001b[0;00m\u001b[38;5;188m@\u001b[0;00m\u001b[38;5;59mi\u001b[0;00m\u001b[38;5;16m \u001b[0;00m\u001b[38;5;16m \u001b[0;00m\u001b[38;5;16m \u001b[0;00m\u001b[38;5;16m \u001b[0;00m\u001b[38;5;16m \u001b[0;00m\u001b[38;5;16m \u001b[0;00m\u001b[38;5;16m \u001b[0;00m\u001b[38;5;16m \u001b[0;00m\u001b[38;5;16m \u001b[0;00m\u001b[38;5;145mL\u001b[0;00m\u001b[38;5;188m0\u001b[0;00m\u001b[38;5;188m@\u001b[0;00m\u001b[38;5;194m@\u001b[0;00m\u001b[38;5;194m@\u001b[0;00m\u001b[38;5;194m@\u001b[0;00m\u001b[38;5;230m@\u001b[0;00m\u001b[38;5;231m@\u001b[0;00m\u001b[38;5;231m@\u001b[0;00m\u001b[38;5;231m@\u001b[0;00m\u001b[38;5;231m@\u001b[0;00m\u001b[38;5;231m@\u001b[0;00m\u001b[38;5;231m@\u001b[0;00m\u001b[38;5;231m@\u001b[0;00m\n",
      "\u001b[38;5;231m@\u001b[0;00m\u001b[38;5;231m@\u001b[0;00m\u001b[38;5;231m@\u001b[0;00m\u001b[38;5;231m@\u001b[0;00m\u001b[38;5;231m@\u001b[0;00m\u001b[38;5;231m@\u001b[0;00m\u001b[38;5;231m@\u001b[0;00m\u001b[38;5;231m@\u001b[0;00m\u001b[38;5;188m@\u001b[0;00m\u001b[38;5;188m@\u001b[0;00m\u001b[38;5;188m@\u001b[0;00m\u001b[38;5;245mf\u001b[0;00m\u001b[38;5;59mi\u001b[0;00m\u001b[38;5;16m,\u001b[0;00m\u001b[38;5;59m:\u001b[0;00m\u001b[38;5;59m:\u001b[0;00m\u001b[38;5;59m:\u001b[0;00m\u001b[38;5;59m:\u001b[0;00m\u001b[38;5;59m:\u001b[0;00m\u001b[38;5;59m:\u001b[0;00m\u001b[38;5;59m:\u001b[0;00m\u001b[38;5;59m:\u001b[0;00m\u001b[38;5;59m:\u001b[0;00m\u001b[38;5;59mi\u001b[0;00m\u001b[38;5;102mf\u001b[0;00m\u001b[38;5;188m@\u001b[0;00m\u001b[38;5;188m@\u001b[0;00m\u001b[38;5;188m@\u001b[0;00m\u001b[38;5;231m@\u001b[0;00m\u001b[38;5;231m@\u001b[0;00m\u001b[38;5;188m@\u001b[0;00m\u001b[38;5;188m@\u001b[0;00m\u001b[38;5;188m@\u001b[0;00m\u001b[38;5;188m@\u001b[0;00m\u001b[38;5;188m@\u001b[0;00m\u001b[38;5;188m@\u001b[0;00m\u001b[38;5;188m@\u001b[0;00m\u001b[38;5;188m@\u001b[0;00m\u001b[38;5;188m@\u001b[0;00m\u001b[38;5;188m@\u001b[0;00m\u001b[38;5;188m@\u001b[0;00m\u001b[38;5;231m@\u001b[0;00m\u001b[38;5;231m@\u001b[0;00m\u001b[38;5;231m@\u001b[0;00m\u001b[38;5;188m@\u001b[0;00m\u001b[38;5;188m@\u001b[0;00m\u001b[38;5;188m8\u001b[0;00m\u001b[38;5;102m1\u001b[0;00m\u001b[38;5;59m:\u001b[0;00m\u001b[38;5;59m:\u001b[0;00m\u001b[38;5;59m:\u001b[0;00m\u001b[38;5;59m:\u001b[0;00m\u001b[38;5;59m:\u001b[0;00m\u001b[38;5;59m:\u001b[0;00m\u001b[38;5;59m:\u001b[0;00m\u001b[38;5;59m:\u001b[0;00m\u001b[38;5;59m:\u001b[0;00m\u001b[38;5;59m:\u001b[0;00m\u001b[38;5;16m,\u001b[0;00m\u001b[38;5;59m;\u001b[0;00m\u001b[38;5;243mt\u001b[0;00m\u001b[38;5;188m@\u001b[0;00m\u001b[38;5;188m@\u001b[0;00m\u001b[38;5;188m@\u001b[0;00m\u001b[38;5;231m@\u001b[0;00m\u001b[38;5;231m@\u001b[0;00m\u001b[38;5;231m@\u001b[0;00m\u001b[38;5;231m@\u001b[0;00m\u001b[38;5;231m@\u001b[0;00m\u001b[38;5;231m@\u001b[0;00m\u001b[38;5;231m@\u001b[0;00m\u001b[38;5;231m@\u001b[0;00m\n"
     ]
    }
   ],
   "source": [
    "apptainer run WelcomeImage/hello.sif"
   ]
  },
  {
   "cell_type": "code",
   "execution_count": 8,
   "metadata": {
    "slideshow": {
     "slide_type": "skip"
    }
   },
   "outputs": [],
   "source": [
    "#apptainer run oras://ghcr.io/WEHI-ResearchComputing/hello:latest"
   ]
  },
  {
   "cell_type": "markdown",
   "metadata": {
    "slideshow": {
     "slide_type": "subslide"
    }
   },
   "source": [
    "Next, we will try to run a Docker container. This is the most common type of container you will likely find in the wild, since Apptainer is mostly only used on HPC. To run a Docker image in Apptainer, you will need to add `docker://` to the name of the image.\n",
    "\n",
    "<div class=\"alert alert-info\" role=\"alert\">\n",
    "    ▶ Try this yourself!\n",
    "</div>"
   ]
  },
  {
   "cell_type": "code",
   "execution_count": 9,
   "metadata": {
    "scrolled": true,
    "slideshow": {
     "slide_type": "-"
    }
   },
   "outputs": [
    {
     "name": "stdout",
     "output_type": "stream",
     "text": [
      "\u001b[34mINFO:   \u001b[0m Using cached SIF image\n",
      "\u001b[33mWARNING:\u001b[0m passwd file doesn't exist in container, not updating\n",
      "\u001b[33mWARNING:\u001b[0m group file doesn't exist in container, not updating\n",
      "\n",
      "Hello from Docker!\n",
      "This message shows that your installation appears to be working correctly.\n",
      "\n",
      "To generate this message, Docker took the following steps:\n",
      " 1. The Docker client contacted the Docker daemon.\n",
      " 2. The Docker daemon pulled the \"hello-world\" image from the Docker Hub.\n",
      "    (amd64)\n",
      " 3. The Docker daemon created a new container from that image which runs the\n",
      "    executable that produces the output you are currently reading.\n",
      " 4. The Docker daemon streamed that output to the Docker client, which sent it\n",
      "    to your terminal.\n",
      "\n",
      "To try something more ambitious, you can run an Ubuntu container with:\n",
      " $ docker run -it ubuntu bash\n",
      "\n",
      "Share images, automate workflows, and more with a free Docker ID:\n",
      " https://hub.docker.com/\n",
      "\n",
      "For more examples and ideas, visit:\n",
      " https://docs.docker.com/get-started/\n",
      "\n"
     ]
    }
   ],
   "source": [
    "apptainer run docker://hello-world"
   ]
  },
  {
   "cell_type": "markdown",
   "metadata": {
    "slideshow": {
     "slide_type": "-"
    }
   },
   "source": [
    "Note that the Docker image was converted to `.sif` behind the scenes!"
   ]
  },
  {
   "cell_type": "markdown",
   "metadata": {
    "slideshow": {
     "slide_type": "subslide"
    }
   },
   "source": [
    "## Docker Hub\n",
    "\n",
    "* Docker Hub is a common place to host Docker images\n",
    "* However, it's not a great source for bioinformatics images (more on that later)\n",
    "* You can search Docker Hub at: https://hub.docker.com/search?q=\n",
    "\n",
    "<div class=\"alert alert-info\" role=\"alert\">\n",
    "    ▶ Try this yourself!\n",
    "    <ul>\n",
    "        <li>See if you can find the official R Docker image. Then, <code>apptainer run</code> it.</li>\n",
    "        <li>Tip: You might have to use some keywords.</li>\n",
    "        <li>Tip 2: Remember to use the <code>docker://</code> prefix!</li>\n",
    "        <li>Don't worry about warnings!</li>\n",
    "    </ul>\n",
    "</div>"
   ]
  },
  {
   "cell_type": "code",
   "execution_count": 10,
   "metadata": {
    "slideshow": {
     "slide_type": "skip"
    }
   },
   "outputs": [
    {
     "name": "stdout",
     "output_type": "stream",
     "text": [
      "\u001b[34mINFO:   \u001b[0m Using cached SIF image\n",
      "\n",
      "R version 4.2.2 (2022-10-31) -- \"Innocent and Trusting\"\n",
      "Copyright (C) 2022 The R Foundation for Statistical Computing\n",
      "Platform: x86_64-pc-linux-gnu (64-bit)\n",
      "\n",
      "R is free software and comes with ABSOLUTELY NO WARRANTY.\n",
      "You are welcome to redistribute it under certain conditions.\n",
      "Type 'license()' or 'licence()' for distribution details.\n",
      "\n",
      "  Natural language support but running in an English locale\n",
      "\n",
      "R is a collaborative project with many contributors.\n",
      "Type 'contributors()' for more information and\n",
      "'citation()' on how to cite R or R packages in publications.\n",
      "\n",
      "Type 'demo()' for some demos, 'help()' for on-line help, or\n",
      "'help.start()' for an HTML browser interface to help.\n",
      "Type 'q()' to quit R.\n",
      "\n",
      "> 1\n",
      "[1] 1\n",
      "> \n"
     ]
    }
   ],
   "source": [
    "echo 1 | apptainer run docker://r-base R --no-save"
   ]
  },
  {
   "cell_type": "markdown",
   "metadata": {
    "slideshow": {
     "slide_type": "fragment"
    }
   },
   "source": [
    "<div class=\"alert alert-success\" role=\"alert\"><code>apptainer run docker://r-base</code></div>"
   ]
  },
  {
   "cell_type": "markdown",
   "metadata": {
    "slideshow": {
     "slide_type": "subslide"
    }
   },
   "source": [
    "## Apptainer Exec\n",
    "\n",
    "* Executes a custom command inside the container and **not** the runscript\n",
    "* More likely to use this than `apptainer run`\n",
    "* Required for many containers (such as biocontainers) that have no runscript"
   ]
  },
  {
   "cell_type": "code",
   "execution_count": 11,
   "metadata": {
    "scrolled": true,
    "slideshow": {
     "slide_type": "-"
    }
   },
   "outputs": [
    {
     "name": "stdout",
     "output_type": "stream",
     "text": [
      "Run a command within a container\n",
      "\n",
      "Usage:\n",
      "  apptainer exec [exec options...] <container> <command>\n",
      "\n",
      "Description:\n",
      "  apptainer exec supports the following formats:\n",
      "\n",
      "  *.sif               Singularity Image Format (SIF). Native to Singularity\n",
      "                      (3.0+) and Apptainer (v1.0.0+)\n",
      "  \n",
      "  *.sqsh              SquashFS format.  Native to Singularity 2.4+\n",
      "\n",
      "  *.img               ext3 format. Native to Singularity versions < 2.4.\n",
      "\n",
      "  directory/          sandbox format. Directory containing a valid root file \n",
      "                      system and optionally Apptainer meta-data.\n",
      "\n",
      "  instance://*        A local running instance of a container. (See the instance\n",
      "                      command group.)\n",
      "\n",
      "  library://*         A SIF container hosted on a Library (no default)\n",
      "\n",
      "  docker://*          A Docker/OCI container hosted on Docker Hub or another\n",
      "                      OCI registry.\n",
      "\n",
      "  shub://*            A container hosted on Singularity Hub.\n",
      "\n",
      "  oras://*            A SIF container hosted on an OCI registry that supports\n",
      "                      the OCI Registry As Storage (ORAS) specification.\n",
      "\n",
      "Options:\n",
      "      --add-caps string               a comma separated capability list to add\n",
      "      --allow-setuid                  allow setuid binaries in container\n",
      "                                      (root only)\n",
      "      --app string                    set an application to run inside a\n",
      "                                      container\n",
      "      --apply-cgroups string          apply cgroups from file for\n",
      "                                      container processes (root only)\n",
      "  -B, --bind stringArray              a user-bind path specification. \n",
      "                                      spec has the format\n",
      "                                      src[:dest[:opts]], where src and\n",
      "                                      dest are outside and inside paths. \n",
      "                                      If dest is not given, it is set\n",
      "                                      equal to src.  Mount options\n",
      "                                      ('opts') may be specified as 'ro'\n",
      "                                      (read-only) or 'rw' (read/write,\n",
      "                                      which is the default). Multiple bind\n",
      "                                      paths can be given by a comma\n",
      "                                      separated list.\n",
      "      --blkio-weight int              Block IO relative weight in range\n",
      "                                      10-1000, 0 to disable\n",
      "      --blkio-weight-device strings   Device specific block IO relative weight\n",
      "  -e, --cleanenv                      clean environment before running\n",
      "                                      container\n",
      "      --compat                        apply settings for increased\n",
      "                                      OCI/Docker compatibility. Infers\n",
      "                                      --containall, --no-init, --no-umask,\n",
      "                                      --no-eval, --writable-tmpfs.\n",
      "  -c, --contain                       use minimal /dev and empty other\n",
      "                                      directories (e.g. /tmp and $HOME)\n",
      "                                      instead of sharing filesystems from\n",
      "                                      your host\n",
      "  -C, --containall                    contain not only file systems, but\n",
      "                                      also PID, IPC, and environment\n",
      "      --cpu-shares int                CPU shares for container (default -1)\n",
      "      --cpus string                   Number of CPUs available to container\n",
      "      --cpuset-cpus string            List of host CPUs available to container\n",
      "      --cpuset-mems string            List of host memory nodes available\n",
      "                                      to container\n",
      "      --disable-cache                 do not use or create cache\n",
      "      --dns string                    list of DNS server separated by\n",
      "                                      commas to add in resolv.conf\n",
      "      --docker-login                  login to a Docker Repository\n",
      "                                      interactively\n",
      "      --drop-caps string              a comma separated capability list to drop\n",
      "      --env stringToString            pass environment variable to\n",
      "                                      contained process (default [])\n",
      "      --env-file string               pass environment variables from file\n",
      "                                      to contained process\n",
      "  -f, --fakeroot                      run container with the appearance of\n",
      "                                      running as root\n",
      "      --fusemount strings             A FUSE filesystem mount\n",
      "                                      specification of the form\n",
      "                                      '<type>:<fuse command> <mountpoint>'\n",
      "                                      - where <type> is 'container' or\n",
      "                                      'host', specifying where the mount\n",
      "                                      will be performed\n",
      "                                      ('container-daemon' or 'host-daemon'\n",
      "                                      will run the FUSE process detached).\n",
      "                                      <fuse command> is the path to the\n",
      "                                      FUSE executable, plus options for\n",
      "                                      the mount. <mountpoint> is the\n",
      "                                      location in the container to which\n",
      "                                      the FUSE mount will be attached.\n",
      "                                      E.g. 'container:sshfs 10.0.0.1:/\n",
      "                                      /sshfs'. Implies --pid.\n",
      "  -h, --help                          help for exec\n",
      "  -H, --home string                   a home directory specification. \n",
      "                                      spec can either be a src path or\n",
      "                                      src:dest pair.  src is the source\n",
      "                                      path of the home directory outside\n",
      "                                      the container and dest overrides the\n",
      "                                      home directory within the container.\n",
      "                                      (default \"/home/users/allstaff/milton.m\")\n",
      "      --hostname string               set container hostname\n",
      "  -i, --ipc                           run container in a new IPC namespace\n",
      "      --keep-privs                    let root user keep privileges in\n",
      "                                      container (root only)\n",
      "      --memory string                 Memory limit in bytes\n",
      "      --memory-reservation string     Memory soft limit in bytes\n",
      "      --memory-swap string            Swap limit, use -1 for unlimited swap\n",
      "      --mount stringArray             a mount specification e.g.\n",
      "                                      'type=bind,source=/opt,destination=/hostopt'.\n",
      "  -n, --net                           run container in a new network\n",
      "                                      namespace (sets up a bridge network\n",
      "                                      interface by default)\n",
      "      --network string                specify desired network type\n",
      "                                      separated by commas, each network\n",
      "                                      will bring up a dedicated interface\n",
      "                                      inside container (default \"bridge\")\n",
      "      --network-args strings          specify network arguments to pass to\n",
      "                                      CNI plugins\n",
      "      --no-eval                       do not shell evaluate env vars or\n",
      "                                      OCI container CMD/ENTRYPOINT/ARGS\n",
      "      --no-home                       do NOT mount users home directory if\n",
      "                                      /home is not the current working\n",
      "                                      directory\n",
      "      --no-https                      use http instead of https for\n",
      "                                      docker:// oras:// and\n",
      "                                      library://<hostname>/... URIs\n",
      "      --no-init                       do NOT start shim process with --pid\n",
      "      --no-mount strings              disable one or more 'mount xxx'\n",
      "                                      options set in apptainer.conf and/or\n",
      "                                      specify absolute destination path to\n",
      "                                      disable a 'bind path' entry\n"
     ]
    },
    {
     "name": "stdout",
     "output_type": "stream",
     "text": [
      "      --no-privs                      drop all privileges from root user\n",
      "                                      in container)\n",
      "      --no-umask                      do not propagate umask to the\n",
      "                                      container, set default 0022 umask\n",
      "      --nv                            enable Nvidia support\n",
      "      --nvccli                        use nvidia-container-cli for GPU\n",
      "                                      setup (experimental)\n",
      "      --oom-kill-disable              Disable OOM killer\n",
      "  -o, --overlay strings               use an overlayFS image for\n",
      "                                      persistent data storage or as\n",
      "                                      read-only layer of container\n",
      "      --passphrase                    prompt for an encryption passphrase\n",
      "      --pem-path string               enter an path to a PEM formatted RSA\n",
      "                                      key for an encrypted container\n",
      "  -p, --pid                           run container in a new PID namespace\n",
      "      --pids-limit int                Limit number of container PIDs, use\n",
      "                                      -1 for unlimited\n",
      "      --pwd string                    initial working directory for\n",
      "                                      payload process inside the container\n",
      "      --rocm                          enable experimental Rocm support\n",
      "  -S, --scratch strings               include a scratch directory within\n",
      "                                      the container that is linked to a\n",
      "                                      temporary dir (use -W to force location)\n",
      "      --security strings              enable security features (SELinux,\n",
      "                                      Apparmor, Seccomp)\n",
      "      --unsquash                      Convert SIF file to temporary\n",
      "                                      sandbox before running\n",
      "  -u, --userns                        run container in a new user namespace\n",
      "      --uts                           run container in a new UTS namespace\n",
      "      --vm                            enable VM support\n",
      "      --vm-cpu string                 number of CPU cores to allocate to\n",
      "                                      Virtual Machine (implies --vm)\n",
      "                                      (default \"1\")\n",
      "      --vm-err                        enable attaching stderr from VM\n",
      "      --vm-ip string                  IP Address to assign for container\n",
      "                                      usage. Defaults to DHCP within\n",
      "                                      bridge network. (default \"dhcp\")\n",
      "      --vm-ram string                 amount of RAM in MiB to allocate to\n",
      "                                      Virtual Machine (implies --vm)\n",
      "                                      (default \"1024\")\n",
      "  -W, --workdir string                working directory to be used for\n",
      "                                      /tmp, /var/tmp and $HOME (if\n",
      "                                      -c/--contain was also used)\n",
      "  -w, --writable                      by default all Apptainer containers\n",
      "                                      are available as read only. This\n",
      "                                      option makes the file system\n",
      "                                      accessible as read/write.\n",
      "      --writable-tmpfs                makes the file system accessible as\n",
      "                                      read-write with non persistent data\n",
      "                                      (with overlay support only)\n",
      "\n",
      "\n",
      "Examples:\n",
      "  $ apptainer exec /tmp/debian.sif cat /etc/debian_version\n",
      "  $ apptainer exec /tmp/debian.sif python ./hello_world.py\n",
      "  $ cat hello_world.py | apptainer exec /tmp/debian.sif python\n",
      "  $ sudo apptainer exec --writable /tmp/debian.sif apt-get update\n",
      "  $ apptainer exec instance://my_instance ps -ef\n",
      "  $ apptainer exec library://centos cat /etc/os-release\n",
      "\n",
      "\n",
      "For additional help or support, please visit https://apptainer.org/help/\n"
     ]
    }
   ],
   "source": [
    "apptainer exec --help"
   ]
  },
  {
   "cell_type": "markdown",
   "metadata": {
    "slideshow": {
     "slide_type": "subslide"
    }
   },
   "source": [
    "<div class=\"alert alert-info\" role=\"alert\">\n",
    "    ▶ Try this yourself! \n",
    "</div>"
   ]
  },
  {
   "cell_type": "code",
   "execution_count": 12,
   "metadata": {
    "slideshow": {
     "slide_type": "-"
    }
   },
   "outputs": [
    {
     "name": "stdout",
     "output_type": "stream",
     "text": [
      "message.txt\n"
     ]
    }
   ],
   "source": [
    "apptainer exec WelcomeImage/hello.sif ls /opt"
   ]
  },
  {
   "cell_type": "code",
   "execution_count": 13,
   "metadata": {
    "slideshow": {
     "slide_type": "-"
    }
   },
   "outputs": [
    {
     "name": "stdout",
     "output_type": "stream",
     "text": [
      "\u001b[0m\u001b[01;34mnvidia\u001b[0m  \u001b[01;34mquantum\u001b[0m\n"
     ]
    }
   ],
   "source": [
    " ls /opt"
   ]
  },
  {
   "cell_type": "markdown",
   "metadata": {
    "slideshow": {
     "slide_type": "subslide"
    }
   },
   "source": [
    "## Filesystems\n",
    "\n",
    "* **Unlike** Docker, and most other container engines, Apptainer automatically \"mounts\" parts of the HPC filesystem into each container by default\n",
    "* This means that you can access some of your local files inside the container, along with the tools provided by the container"
   ]
  },
  {
   "cell_type": "code",
   "execution_count": 14,
   "metadata": {},
   "outputs": [
    {
     "name": "stdout",
     "output_type": "stream",
     "text": [
      "\u001b[34mINFO:   \u001b[0m Using cached SIF image\n",
      "ApptainerTutorial      Scrooge\t\t       jobRegistry\n",
      "GASAL2\t\t       curated_annotation.rds  metadata.sqlite\n",
      "HCAquery\t       data\t\t       ondemand\n",
      "HcaBenchmarking        dials.find_spots.log    output\n",
      "HcaIntegration\t       files_for_michael.rds   scratch\n",
      "HcaPython\t       files_list.rds\t       temp\n",
      "IntegrationBenchmarks  hca.sqlite-journal      testdata\n",
      "InterProScanData       igv\t\t       wf-clone-validation\n",
      "PythonIntegration      interproscan-5.51-85.0\n",
      "R\t\t       job.sh\n"
     ]
    }
   ],
   "source": [
    "apptainer exec docker://ubuntu ls ~"
   ]
  },
  {
   "cell_type": "code",
   "execution_count": 15,
   "metadata": {
    "scrolled": true,
    "slideshow": {
     "slide_type": "-"
    }
   },
   "outputs": [
    {
     "name": "stdout",
     "output_type": "stream",
     "text": [
      "\u001b[0m\u001b[01;34mApptainerTutorial\u001b[0m       \u001b[01;34mHCAquery\u001b[0m                \u001b[01;34moutput\u001b[0m\n",
      "curated_annotation.rds  hca.sqlite-journal      \u001b[01;34mPythonIntegration\u001b[0m\n",
      "\u001b[01;34mdata\u001b[0m                    \u001b[01;34migv\u001b[0m                     \u001b[01;34mR\u001b[0m\n",
      "dials.find_spots.log    \u001b[01;34mIntegrationBenchmarks\u001b[0m   \u001b[01;36mscratch\u001b[0m\n",
      "files_for_michael.rds   \u001b[01;34minterproscan-5.51-85.0\u001b[0m  \u001b[01;34mScrooge\u001b[0m\n",
      "files_list.rds          \u001b[01;34mInterProScanData\u001b[0m        \u001b[01;34mtemp\u001b[0m\n",
      "\u001b[01;34mGASAL2\u001b[0m                  \u001b[01;34mjobRegistry\u001b[0m             \u001b[01;34mtestdata\u001b[0m\n",
      "\u001b[01;34mHcaBenchmarking\u001b[0m         job.sh                  \u001b[01;34mwf-clone-validation\u001b[0m\n",
      "\u001b[01;34mHcaIntegration\u001b[0m          metadata.sqlite\n",
      "\u001b[01;34mHcaPython\u001b[0m               \u001b[01;34mondemand\u001b[0m\n"
     ]
    }
   ],
   "source": [
    "ls ~"
   ]
  },
  {
   "cell_type": "markdown",
   "metadata": {
    "slideshow": {
     "slide_type": "subslide"
    }
   },
   "source": [
    "## Sample Data\n",
    "\n",
    "* In `./data` in the git repository is a sample fasta file\n",
    "* This is an unknown protein that we will be investigating"
   ]
  },
  {
   "cell_type": "markdown",
   "metadata": {
    "slideshow": {
     "slide_type": "-"
    }
   },
   "source": [
    "<div class=\"alert alert-info\" role=\"alert\">\n",
    "    ▶ Try this yourself! \n",
    "    <ul>\n",
    "        <li>Find the official NCBI blast image on docker hub, then execute blastp to discover the identity of the protein</li>\n",
    "        <li>Hint: I suggest using the following syntax: <code>blastp -query $INPUT_FILE -db refseq_select -remote -max_target_seqs 5</code></li>\n",
    "</div>"
   ]
  },
  {
   "cell_type": "code",
   "execution_count": 16,
   "metadata": {
    "slideshow": {
     "slide_type": "subslide"
    }
   },
   "outputs": [
    {
     "name": "stdout",
     "output_type": "stream",
     "text": [
      "\u001b[34mINFO:   \u001b[0m Using cached SIF image\n",
      "BLASTP 2.13.0+\n",
      "\n",
      "\n",
      "Reference: Stephen F. Altschul, Thomas L. Madden, Alejandro A.\n",
      "Schaffer, Jinghui Zhang, Zheng Zhang, Webb Miller, and David J.\n",
      "Lipman (1997), \"Gapped BLAST and PSI-BLAST: a new generation of\n",
      "protein database search programs\", Nucleic Acids Res. 25:3389-3402.\n",
      "\n",
      "\n",
      "Reference for composition-based statistics: Alejandro A. Schaffer,\n",
      "L. Aravind, Thomas L. Madden, Sergei Shavirin, John L. Spouge, Yuri\n",
      "I. Wolf, Eugene V. Koonin, and Stephen F. Altschul (2001),\n",
      "\"Improving the accuracy of PSI-BLAST protein database searches with\n",
      "composition-based statistics and other refinements\", Nucleic Acids\n",
      "Res. 29:2994-3005.\n",
      "\n",
      "\n",
      "\n",
      "Database: RefSeq Select proteins\n",
      "           43,770,235 sequences; 14,340,472,515 total letters\n",
      "\n",
      "Error: [blastp] Failed to fetch sequences in batch mode\n",
      "\n",
      "\n",
      "Query= sample1\n",
      "\n",
      "Length=339\n",
      "\n",
      "RID: RBHWAEXH013\n",
      "                                                                      Score     E\n",
      "Sequences producing significant alignments:                          (Bits)  Value\n",
      "\n",
      "WP_015849553.1 glyoxylate reductase [Thermococcus sibiricus] >gb|...  143     8e-37\n",
      "WP_052884274.1 glyoxylate reductase [Infirmifilum uzonense] >gb|A...  142     1e-36\n",
      "WP_088866016.1 glyoxylate reductase [Thermococcus radiotolerans] ...  142     1e-36\n",
      "WP_011752489.1 glyoxylate reductase [Thermofilum pendens] >sp|A1R...  142     2e-36\n",
      "WP_011011434.1 glyoxylate reductase [Pyrococcus furiosus] >sp|Q8U...  140     7e-36\n",
      "\n",
      "\n",
      "Warning: (1202.17) [blastp] CScope::GetSynonyms: Bioseq[ref|WP_015849553.1| | gi|506329834]: id ref|WP_015849553.1| is resolved to another Bioseq[ref|WP_015849553.1|]\n",
      ">WP_015849553.1 glyoxylate reductase [Thermococcus sibiricus]\n",
      "Length=334\n",
      "\n",
      " Score = 143 bits (360),  Expect = 8e-37, Method: Compositional matrix adjust.\n",
      " Identities = 105/342 (31%), Positives = 171/342 (50%), Gaps = 18/342 (5%)\n",
      "\n",
      "Query  3    PNVDKAEAIPEATFSFLDVLFDLCVAKDMIPERQYVMLEKDRE-DQLMELMMDEIMDADT  61\n",
      "            P V     IPE     +   +++ V KD     + V+LEK R+ D L+ L+ +++     \n",
      "Sbjct  3    PKVFITREIPENGIKMIKKFYEIEVWKDQKAPPRDVLLEKIRDFDALVTLLTEKVDKELL  62\n",
      "\n",
      "Query  62   EGANNIKIMSEKQSALCYIRQDV--TTKPGILVSNGPDTLSNALANYTESMTKVVFGEVV  119\n",
      "            + A N+KI++  Q A+ Y   DV   TK G+ V+N P  L++A A+   ++       ++\n",
      "Sbjct  63   DSAPNLKIIA--QYAVGYDNIDVEEATKRGVYVTNTPGVLTDATADLAFTLLLATARRLI  120\n",
      "\n",
      "Query  120  PSDKTYIVDLITYQWNKISFPENTLT--EYGLSNKVLGILGMGRLIGKLADRYNTFNLRI  177\n",
      "             +D+     + + +W K     + L    YGL  K LGI+G+GR+   +A R   F +++\n",
      "Sbjct  121  EADQF----VRSGEWKKSGVGWHPLMFLGYGLKGKTLGIIGLGRIGQAVAKRAKGFGMKV  176\n",
      "\n",
      "Query  178  MYFPADRKQAFECILCVSYSPFEEVLSKNEFLSIWLDLIETTPHSINEGIVERMKANAAL  237\n",
      "            +Y+   RK   E  +   Y  FE +L K++F+SI + L + T H I E  ++ MK NA L\n",
      "Sbjct  177  LYYSRTRKTEAEKEIGADYVDFETLLKKSDFISIHVPLTKKTYHMIGEKELQLMKPNAIL  236\n",
      "\n",
      "Query  238  MNLAFNVVEKRSIDISHAYQALKEGWIACRIFDVFKLDDIETLADLFMFENPAILPHFKS  297\n",
      "            +N A   +    +D     +ALKEGWIA    DVF+ ++     +LF  +N  + PH  S\n",
      "Sbjct  237  VNTARGAI----VDTKALVKALKEGWIAGAGLDVFE-EEPYYDRELFSLKNVVLAPHIGS  291\n",
      "\n",
      "Query  298  AIVGTRKAYANLTSEAFIALRNAKIYSPPTLMAHNTITDKRP  339\n",
      "            A    R+  A L +E  IA    +I  PP L+       ++P\n",
      "Sbjct  292  ATHEAREGMARLVAENLIAFARGEI--PPNLINMEVTKIRKP  331\n",
      "\n",
      "\n",
      "Warning: (1202.17) [blastp] CScope::GetSynonyms: Bioseq[ref|WP_052884274.1| | gi|919586513]: id ref|WP_052884274.1| is resolved to another Bioseq[ref|WP_052884274.1|]\n",
      ">WP_052884274.1 glyoxylate reductase [Infirmifilum uzonense]\n",
      "Length=337\n",
      "\n",
      " Score = 142 bits (359),  Expect = 1e-36, Method: Compositional matrix adjust.\n",
      " Identities = 99/331 (30%), Positives = 172/331 (52%), Gaps = 17/331 (5%)\n",
      "\n",
      "Query  3    PNVDKAEAIPEATFSFLDVLFDLCV--AKDMIPERQYVMLEKDREDQLMELMMDEIMDAD  60\n",
      "            P V     IPE   S L    D+ +  +K+  P R+ ++ +   +D L+ L+ D+I    \n",
      "Sbjct  4    PKVYVTRIIPEPGLSMLKECCDIELHNSKEWPPSREELIQKVKDKDALLCLLTDKIDAEV  63\n",
      "\n",
      "Query  61   TEGANNIKIMSEKQSALCYIRQDVTTKPGILVSNGPDTLSNALANYTESMTKVVFGEVVP  120\n",
      "             + A N++++S       +I     TK GI V++ P  L++A+A +T  +   V   +V \n",
      "Sbjct  64   MDSAPNLRVISTYSVGFDHIDIPEATKRGIYVTHTPGVLTDAVAEFTVGLILAVTRRIVE  123\n",
      "\n",
      "Query  121  SDKTYIVDLITYQWNKISFPENT--LTEYGLSNKVLGILGMGRLIGKLADRYNTFNLRIM  178\n",
      "            +DK     + T QW+K   P N   LT   L  K +G++G+GR+    A R ++F+++I+\n",
      "Sbjct  124  ADKI----IRTGQWDK---PWNPYFLTGPELKGKTIGLVGLGRIGVATAKRLSSFDVKIL  176\n",
      "\n",
      "Query  179  YFPADRKQAFECILCVSYSPFEEVLSKNEFLSIWLDLIETTPHSINEGIVERMKANAALM  238\n",
      "            Y+  +R+   E +L + Y+  + +L +++ +S+ + L + T H INE  + +MK  A L+\n",
      "Sbjct  177  YYDVERRWDVESVLNMEYADLDTLLKESDIVSVHVPLTKDTFHLINEERLRKMKKTAYLI  236\n",
      "\n",
      "Query  239  NLAFNVVEKRSIDISHAYQALKEGWIACRIFDVFKLDDIETLADLFMFENPAILPHFKSA  298\n",
      "            N A   V    +D +   +ALKEGWIA    DVF+ + +     L  F+N  + PH  SA\n",
      "Sbjct  237  NTARGPV----VDTNALVKALKEGWIAGAALDVFEQEPLPADHPLTKFDNVILAPHIASA  292\n",
      "\n",
      "Query  299  IVGTRKAYANLTSEAFIALRNAKIYSPPTLM  329\n",
      "             +  R+  A L +   IA+   ++  PP L+\n",
      "Sbjct  293  TIEARQRMAELAARNLIAVLKGEM--PPALV  321\n",
      "\n",
      "\n",
      "Warning: (1202.17) [blastp] CScope::GetSynonyms: Bioseq[ref|WP_088866016.1| | gi|1214754712]: id ref|WP_088866016.1| is resolved to another Bioseq[ref|WP_088866016.1|]\n",
      ">WP_088866016.1 glyoxylate reductase [Thermococcus radiotolerans]\n",
      "Length=333\n",
      "\n",
      " Score = 142 bits (359),  Expect = 1e-36, Method: Compositional matrix adjust.\n",
      " Identities = 101/340 (30%), Positives = 172/340 (51%), Gaps = 14/340 (4%)\n",
      "\n",
      "Query  3    PNVDKAEAIPEATFSFLDVLFDLCVAKDMIPERQYVMLEKDREDQLMELMMDEIMDADT-  61\n",
      "            P V    AIPE     L   F++ V +D     + V+LEK R+   +  M+ E ++A+  \n",
      "Sbjct  2    PKVFVTRAIPENGIKMLREHFEVEVWEDEHEIPREVLLEKVRDVDALVTMLSERINAEIF  61\n",
      "\n",
      "Query  62   EGANNIKIMSEKQSALCYIRQDVTTKPGILVSNGPDTLSNALANYTESMTKVVFGEVVPS  121\n",
      "            + A  ++I++        I  +  T+ GI V+N PD L+NA A++  ++       +V +\n",
      "Sbjct  62   DAAPRLRIVANYAVGYDNIDVEEATRRGIYVTNTPDVLTNATADFAWTLLLATARRLVEA  121\n",
      "\n",
      "Query  122  DKTYIVDLITYQWNK--ISFPENTLTEYGLSNKVLGILGMGRLIGKLADRYNTFNLRIMY  179\n",
      "            DK     + + +W K  +++       Y +  K +GI+G GR+   +A R   F ++I+Y\n",
      "Sbjct  122  DKF----VRSGEWKKRDVAWHPLMFLGYDVYGKTIGIVGFGRIGQAIARRAKGFGMKILY  177\n",
      "\n",
      "Query  180  FPADRKQAFECILCVSYSPFEEVLSKNEFLSIWLDLIETTPHSINEGIVERMKANAALMN  239\n",
      "                RK   E  L   + P EE+L +++F+ + + L + T H INE  ++ MK  A L+N\n",
      "Sbjct  178  NSRTRKPEAEKELGAEFKPLEELLRESDFVVLAVPLTKETHHLINEERLKLMKPTAILVN  237\n",
      "\n",
      "Query  240  LAFNVVEKRSIDISHAYQALKEGWIACRIFDVFKLDDIETLADLFMFENPAILPHFKSAI  299\n",
      "            +A   V    +D     +ALK+GWIA    DVF+ ++     +LF  +N  + PH  SA \n",
      "Sbjct  238  IARGKV----VDTEALVRALKDGWIAGAGLDVFE-EEPYYHEELFSLDNVVLAPHIGSAT  292\n",
      "\n",
      "Query  300  VGTRKAYANLTSEAFIALRNAKIYSPPTLMAHNTITDKRP  339\n",
      "             G R+  A L +   IA +N ++  PPTL+    +  ++P\n",
      "Sbjct  293  HGAREGMAELVARNLIAFKNGEV--PPTLVNREVLKVRKP  330\n",
      "\n",
      "\n",
      "Warning: (1202.17) [blastp] CScope::GetSynonyms: Bioseq[ref|WP_011752489.1| | gi|500076476]: id ref|WP_011752489.1| is resolved to another Bioseq[ref|WP_011752489.1|]\n",
      ">WP_011752489.1 glyoxylate reductase [Thermofilum pendens]\n",
      "Length=339\n",
      "\n",
      " Score = 142 bits (358),  Expect = 2e-36, Method: Compositional matrix adjust.\n",
      " Identities = 102/332 (31%), Positives = 170/332 (51%), Gaps = 18/332 (5%)\n",
      "\n",
      "Query  3    PNVDKAEAIPEATFSFLDVLFDLCV--AKDMIPERQYVMLEKDREDQLMELMMDEIMDAD  60\n",
      "            P V     IPE   S L    D+ V  +KD  P R+ ++     +D L+ L+ D+I    \n",
      "Sbjct  4    PKVYVTRIIPEPGLSMLKECCDVVVHESKDWPPSREELLRNIRDKDALLCLLTDKIDAEV  63\n",
      "\n",
      "Query  61   TEGANNIKIMSEKQSALCYIRQDVTTKPGILVSNGPDTLSNALANYTESMTKVVFGEVVP  120\n",
      "             + A N+K++S       +I     TK GI V++ P  L++A+A +T  +   V   +V \n",
      "Sbjct  64   MDAAPNLKVISTYSVGFDHIDIPEATKRGIYVTHTPGVLTDAVAEFTVGLILAVTRRIVE  123\n",
      "\n",
      "Query  121  SDKTYIVDLITYQWNKISFPENT--LTEYGLSNKVLGILGMGRLIGKLADRYNTFNLRIM  178\n",
      "            +DK     + T QW+K   P N   LT   L  K +G++G+GR+    A R ++F+++I+\n",
      "Sbjct  124  ADKI----IRTGQWDK---PWNPYFLTGPELKGKTIGLVGLGRIGVATAKRLSSFDVKIL  176\n",
      "\n",
      "Query  179  YFPADRKQAFECILC-VSYSPFEEVLSKNEFLSIWLDLIETTPHSINEGIVERMKANAAL  237\n",
      "            Y+  +R+   E ++  + ++  + +L K++ +SI + L + T H INE  + +MK  A L\n",
      "Sbjct  177  YYDIERRWDVETVIPNMEFTDLDTLLEKSDIVSIHVPLTKETYHLINEERLRKMKKTAYL  236\n",
      "\n",
      "Query  238  MNLAFNVVEKRSIDISHAYQALKEGWIACRIFDVFKLDDIETLADLFMFENPAILPHFKS  297\n",
      "            +N A   V    +D     +ALKEGWIA    DVF+ + +     L  F+N  + PH  S\n",
      "Sbjct  237  INTARGPV----VDTEALVKALKEGWIAGAALDVFEQEPLPPNHPLTKFDNVVLAPHIAS  292\n",
      "\n",
      "Query  298  AIVGTRKAYANLTSEAFIALRNAKIYSPPTLM  329\n",
      "            A +  R+  A L +   IA+   ++  PP L+\n"
     ]
    },
    {
     "name": "stdout",
     "output_type": "stream",
     "text": [
      "Sbjct  293  ATIEARQRMAELAARNLIAVLKGEM--PPALV  322\n",
      "\n",
      "\n",
      "Warning: (1202.17) [blastp] CScope::GetSynonyms: Bioseq[ref|WP_011011434.1| | gi|499320942]: id ref|WP_011011434.1| is resolved to another Bioseq[ref|WP_011011434.1|]\n",
      ">WP_011011434.1 glyoxylate reductase [Pyrococcus furiosus]\n",
      "Length=336\n",
      "\n",
      " Score = 140 bits (354),  Expect = 7e-36, Method: Compositional matrix adjust.\n",
      " Identities = 106/338 (31%), Positives = 169/338 (50%), Gaps = 10/338 (3%)\n",
      "\n",
      "Query  3    PNVDKAEAIPEATFSFLDVLFDLCVAKDMIPERQYVMLEKDREDQLMELMMDEIMDADT-  61\n",
      "            P V    AIPE   + L+  F++ V ++     +  +LEK ++   +  M+ E +D +  \n",
      "Sbjct  3    PKVFITRAIPENGINMLEEEFEVEVWEEEREIPREKLLEKVKDVDALVTMLSERIDQEVF  62\n",
      "\n",
      "Query  62   EGANNIKIMSEKQSALCYIRQDVTTKPGILVSNGPDTLSNALANYTESMTKVVFGEVVPS  121\n",
      "            E A  ++I++        I  +  T+ GI V+N PD L+NA A++  ++       VV  \n",
      "Sbjct  63   ENAPRLRIVANYAVGYDNIDVEEATRRGIYVTNTPDVLTNATADHAFALLLATARHVVKG  122\n",
      "\n",
      "Query  122  DKTYIVDLITYQWNKISFPENTLTEYGLSNKVLGILGMGRLIGKLADRYNTFNLRIMYFP  181\n",
      "            DK   V    ++   I++       Y L  K +GI+G GR+   +A R   FN+RI+Y+ \n",
      "Sbjct  123  DK--FVRSGEWKRKGIAWHPKWFLGYELYGKTIGIVGFGRIGQAIARRAKGFNMRILYYS  180\n",
      "\n",
      "Query  182  ADRKQAFECILCVSYSPFEEVLSKNEFLSIWLDLIETTPHSINEGIVERMKANAALMNLA  241\n",
      "              RK   E  L   Y P EEVL +++F+ + + L + T + INE  ++ MK  A L+N+A\n",
      "Sbjct  181  RTRKSQAEKELGAEYRPLEEVLKESDFVILAVPLTKETMYMINEERLKLMKPTAILVNIA  240\n",
      "\n",
      "Query  242  FNVVEKRSIDISHAYQALKEGWIACRIFDVFKLDDIETLADLFMFENPAILPHFKSAIVG  301\n",
      "               V    +D     +ALKEGWIA    DVF+ +      +LF  +N  + PH  SA   \n",
      "Sbjct  241  RGKV----VDTKALIKALKEGWIAGAGLDVFEEEPYYN-EELFSLDNVVLTPHIGSATFE  295\n",
      "\n",
      "Query  302  TRKAYANLTSEAFIALRNAKIYSPPTLMAHNTITDKRP  339\n",
      "             R+A A L +   IA +  +I  PPTL+    I  ++P\n",
      "Sbjct  296  AREAMAELVARNLIAFKRGEI--PPTLVNKEVIKIRKP  331\n",
      "\n",
      "\n",
      "\n",
      "Lambda      K        H\n",
      "   0.320    0.136    0.394 \n",
      "\n",
      "Gapped\n",
      "Lambda      K        H\n",
      "   0.267   0.0410    0.140 \n",
      "\n",
      "Effective search space used: 1534353513565\n",
      "\n",
      "\n",
      "  Database: RefSeq Select proteins\n",
      "    Posted date:  Sep 20, 2020 08:24 AM\n",
      "  Number of letters in database: 14,340,472,515\n",
      "  Number of sequences in database:  43,770,235\n",
      "\n",
      "\n",
      "\n",
      "Matrix: BLOSUM62\n",
      "Gap Penalties: Existence: 11, Extension: 1\n",
      "Neighboring words threshold: 11\n",
      "Window for multiple hits: 40\n"
     ]
    }
   ],
   "source": [
    "apptainer exec docker://ncbi/blast blastp -db refseq_select -query ~/ApptainerWorkshop/data/test.fasta -remote -max_target_seqs 5"
   ]
  },
  {
   "cell_type": "markdown",
   "metadata": {
    "slideshow": {
     "slide_type": "subslide"
    }
   },
   "source": [
    "## Interactive Sessions with Apptainer Shell\n",
    "\n",
    "* `apptainer shell`\n",
    "* Lets you run commands interactively inside a container\n",
    "* Acts like `ssh`"
   ]
  },
  {
   "cell_type": "code",
   "execution_count": 18,
   "metadata": {},
   "outputs": [
    {
     "name": "stdout",
     "output_type": "stream",
     "text": [
      "NAME=\"CentOS Linux\"\n",
      "VERSION=\"7 (Core)\"\n",
      "ID=\"centos\"\n",
      "ID_LIKE=\"rhel fedora\"\n",
      "VERSION_ID=\"7\"\n",
      "PRETTY_NAME=\"CentOS Linux 7 (Core)\"\n",
      "ANSI_COLOR=\"0;31\"\n",
      "CPE_NAME=\"cpe:/o:centos:centos:7\"\n",
      "HOME_URL=\"https://www.centos.org/\"\n",
      "BUG_REPORT_URL=\"https://bugs.centos.org/\"\n",
      "\n",
      "CENTOS_MANTISBT_PROJECT=\"CentOS-7\"\n",
      "CENTOS_MANTISBT_PROJECT_VERSION=\"7\"\n",
      "REDHAT_SUPPORT_PRODUCT=\"centos\"\n",
      "REDHAT_SUPPORT_PRODUCT_VERSION=\"7\"\n",
      "\n"
     ]
    }
   ],
   "source": [
    "cat /etc/os-release"
   ]
  },
  {
   "cell_type": "markdown",
   "metadata": {
    "slideshow": {
     "slide_type": "subslide"
    }
   },
   "source": [
    "<div class=\"alert alert-info\" role=\"alert\">\n",
    "    ▶ Try this yourself! \n",
    "</div>"
   ]
  },
  {
   "cell_type": "code",
   "execution_count": 19,
   "metadata": {},
   "outputs": [
    {
     "name": "stdout",
     "output_type": "stream",
     "text": [
      "\u001b[34mINFO:   \u001b[0m Using cached SIF image\n",
      "PRETTY_NAME=\"Ubuntu 22.04.1 LTS\"\n",
      "NAME=\"Ubuntu\"\n",
      "VERSION_ID=\"22.04\"\n",
      "VERSION=\"22.04.1 LTS (Jammy Jellyfish)\"\n",
      "VERSION_CODENAME=jammy\n",
      "ID=ubuntu\n",
      "ID_LIKE=debian\n",
      "HOME_URL=\"https://www.ubuntu.com/\"\n",
      "SUPPORT_URL=\"https://help.ubuntu.com/\"\n",
      "BUG_REPORT_URL=\"https://bugs.launchpad.net/ubuntu/\"\n",
      "PRIVACY_POLICY_URL=\"https://www.ubuntu.com/legal/terms-and-policies/privacy-policy\"\n",
      "UBUNTU_CODENAME=jammy\n"
     ]
    }
   ],
   "source": [
    "echo 'cat /etc/os-release' | apptainer shell docker://ubuntu"
   ]
  },
  {
   "cell_type": "markdown",
   "metadata": {
    "slideshow": {
     "slide_type": "subslide"
    }
   },
   "source": [
    "## Comparison of Commands\n",
    "\n",
    "* `exec`, `run`, and `shell` are all command variants that run containers\n",
    "* They all have almost the same flags, and they all require an image as the main argument\n",
    "* `apptainer run` executes the default command\n",
    "* `apptainer exec` executes a custom command\n",
    "* `apptainer shell` executes an interactive shell"
   ]
  },
  {
   "cell_type": "markdown",
   "metadata": {
    "slideshow": {
     "slide_type": "skip"
    }
   },
   "source": [
    "## Filesystems - Writeable\n",
    "\n",
    "* Outside of the mounted directories, containers are read-only by default. You need either the `--writable` or `--writable-tmpfs` flags to edit files\n",
    "* Also, if you want to act as the root (administrator) user, you need `--fakeroot`"
   ]
  },
  {
   "cell_type": "markdown",
   "metadata": {
    "slideshow": {
     "slide_type": "subslide"
    }
   },
   "source": [
    "## Filesystems - Custom Mounts\n",
    "\n",
    "* You can mount additional directories into the container using `--bind`\n",
    "* You can use this flag with any apptainer command such as `exec`, `shell` etc\n",
    "* `apptainer run docker://ubuntu --bind /vast/scratch/users/milton.m/` would make `/vast/scratch/users/milton.m/` accessible inside the container\n",
    "*  `apptainer run docker://ubuntu --bind /vast/scratch/users/milton.m:/scratch` would make `/scratch` inside the container link to `/vast/scratch/users/milton.m` on milton\n",
    "* This is equivalent to `-v` in docker (you will often see this in readmes)"
   ]
  },
  {
   "cell_type": "code",
   "execution_count": 20,
   "metadata": {
    "slideshow": {
     "slide_type": "subslide"
    }
   },
   "outputs": [
    {
     "name": "stdout",
     "output_type": "stream",
     "text": [
      "\u001b[34mINFO:   \u001b[0m Using cached SIF image\n",
      "/usr/bin/ls: cannot access '/scratch': No such file or directory\n"
     ]
    },
    {
     "ename": "",
     "evalue": "2",
     "output_type": "error",
     "traceback": []
    }
   ],
   "source": [
    "apptainer exec docker://ubuntu ls /scratch"
   ]
  },
  {
   "cell_type": "markdown",
   "metadata": {
    "slideshow": {
     "slide_type": "subslide"
    }
   },
   "source": [
    "## Aside: Order of Flags\n",
    "\n",
    "* Apptainer *has* to be run with the following syntax: `apptainer exec --apptainer-flags image.sif command --command-flags`\n",
    "* `apptainer exec image.sif --bind /vast/scratch` *will not work* because the bind command is after the image name"
   ]
  },
  {
   "cell_type": "code",
   "execution_count": 21,
   "metadata": {
    "slideshow": {
     "slide_type": "-"
    }
   },
   "outputs": [
    {
     "name": "stdout",
     "output_type": "stream",
     "text": [
      "\u001b[34mINFO:   \u001b[0m Using cached SIF image\n",
      "alphafold_singularity  apptainer  cache  singularity  tmp\n"
     ]
    }
   ],
   "source": [
    "apptainer exec --bind /vast/scratch/users/milton.m:/scratch docker://ubuntu ls /scratch"
   ]
  },
  {
   "cell_type": "markdown",
   "metadata": {
    "slideshow": {
     "slide_type": "subslide"
    }
   },
   "source": [
    "<div class=\"alert alert-info\" role=\"alert\">\n",
    "    ▶ Try this yourself!\n",
    "    <ul>\n",
    "        <li>We want to run <a href=\"https://hub.docker.com/r/interpro/interproscan\"><code>interproscan</code></a> on our fasta file.</li>\n",
    "        <li>Interproscan expects certain reference data to be located in <code>/opt/interproscan</code> inside the container\n",
    "        <li>This data is located in <code>/stornext/System/data/apps/sample-scripts/interproscan/interproscan-5.51-85.0/data</code> on milton</li>\n",
    "        <li>You can run the tool as <code>interproscan.sh --input ~/ApptainerWorkshop/data/test.fasta --disable-precalc</code>.</li>\n",
    "        <li>Results will be output to <code>test.fasta.tsv</code> in the current directory.</li>\n",
    "    </ul>\n",
    "</div>"
   ]
  },
  {
   "cell_type": "code",
   "execution_count": 22,
   "metadata": {
    "slideshow": {
     "slide_type": "subslide"
    }
   },
   "outputs": [
    {
     "name": "stdout",
     "output_type": "stream",
     "text": [
      "\u001b[34mINFO:   \u001b[0m Using cached SIF image\n",
      "17/11/2022 15:35:25:967 Welcome to InterProScan-5.51-85.0\n",
      "17/11/2022 15:35:25:970 Running InterProScan v5 in STANDALONE mode... on Linux\n",
      "log4j:WARN No appenders could be found for logger (org.apache.activemq.broker.BrokerService).\n",
      "log4j:WARN Please initialize the log4j system properly.\n",
      "log4j:WARN See http://logging.apache.org/log4j/1.2/faq.html#noconfig for more info.\n",
      "17/11/2022 15:35:46:142 RunID: slurm-login02.hpc.wehi.edu.au_20221117_153545658_566l\n",
      "17/11/2022 15:36:01:833 Loading file /home/users/allstaff/milton.m/ApptainerTutorial/data/test.fasta\n",
      "17/11/2022 15:36:01:836 Running the following analyses:\n",
      "[Pfam-33.1]\n",
      "Pre-calculated match lookup service DISABLED.  Please wait for match calculations to complete...\n",
      "17/11/2022 15:36:03:940 30% completed\n",
      "17/11/2022 15:36:25:469 70% completed\n",
      "17/11/2022 15:36:32:074 80% completed\n",
      "17/11/2022 15:36:37:866 100% done:  InterProScan analyses completed \n",
      "\n"
     ]
    }
   ],
   "source": [
    "apptainer exec \\\n",
    "    --bind /stornext/System/data/apps/sample-scripts/interproscan/interproscan-5.51-85.0/data:/opt/interproscan/data \\\n",
    "    --workdir $HOME \\\n",
    "    docker://interpro/interproscan \\\n",
    "    interproscan.sh \\\n",
    "    --applications Pfam \\\n",
    "    --input ~/ApptainerWorkshop/data/test.fasta \\\n",
    "    --disable-precalc"
   ]
  },
  {
   "cell_type": "code",
   "execution_count": 23,
   "metadata": {
    "scrolled": true,
    "slideshow": {
     "slide_type": "-"
    }
   },
   "outputs": [
    {
     "name": "stdout",
     "output_type": "stream",
     "text": [
      "sample1\tb20fd131a682ede28053e1c9b627f90a\t339\tPfam\tPF02826\tD-isomer specific 2-hydroxyacid dehydrogenase, NAD binding domain\t140\t294\t1.3E-18\tT\t17-11-2022\tIPR006140\tD-isomer specific 2-hydroxyacid dehydrogenase, NAD-binding domain\n"
     ]
    }
   ],
   "source": [
    "cat test.fasta.tsv"
   ]
  },
  {
   "cell_type": "markdown",
   "metadata": {
    "slideshow": {
     "slide_type": "subslide"
    }
   },
   "source": [
    "## Biocontainers\n",
    "\n",
    "* Docker images automatically built from bioconda\n",
    "* Most bioinformatics tools are available\n",
    "* Can search at https://bioconda.github.io/search.html?q=\n",
    "\n",
    "![](media/biocontainers.png)"
   ]
  },
  {
   "cell_type": "markdown",
   "metadata": {
    "slideshow": {
     "slide_type": "subslide"
    }
   },
   "source": [
    "<div class=\"alert alert-info\" role=\"alert\">\n",
    "    ▶ Try this yourself!\n",
    "    <br/>\n",
    "    <ul>\n",
    "        <li>Try to find the latest biocontainer of the Diamond local aligner</li>\n",
    "        <li>Make sure you include the tag!</li>\n",
    "    </ul>\n",
    "</div>"
   ]
  },
  {
   "cell_type": "markdown",
   "metadata": {
    "slideshow": {
     "slide_type": "fragment"
    }
   },
   "source": [
    "<div class=\"alert alert-success\" role=\"alert\"><code>apptainer shell docker://quay.io/biocontainers/diamond:2.0.15--hb97b32f_1</code></div>"
   ]
  },
  {
   "cell_type": "markdown",
   "metadata": {
    "slideshow": {
     "slide_type": "slide"
    }
   },
   "source": [
    "# Break"
   ]
  },
  {
   "cell_type": "markdown",
   "metadata": {
    "slideshow": {
     "slide_type": "slide"
    }
   },
   "source": [
    "## Building Containers"
   ]
  },
  {
   "cell_type": "markdown",
   "metadata": {
    "slideshow": {
     "slide_type": "-"
    }
   },
   "source": [
    "* You can build a container using `apptainer build image.sif recipe.def`\n",
    "* `recipe.def` is a container definition file that contains instructions for building"
   ]
  },
  {
   "cell_type": "code",
   "execution_count": 24,
   "metadata": {
    "scrolled": true,
    "slideshow": {
     "slide_type": "subslide"
    }
   },
   "outputs": [
    {
     "name": "stdout",
     "output_type": "stream",
     "text": [
      "Build an Apptainer image\n",
      "\n",
      "Usage:\n",
      "  apptainer build [local options...] <IMAGE PATH> <BUILD SPEC>\n",
      "\n",
      "Description:\n",
      "\n",
      "  IMAGE PATH:\n",
      "\n",
      "  When Apptainer builds the container, output can be one of a few formats:\n",
      "\n",
      "      default:    The compressed Apptainer read only image format (default)\n",
      "      sandbox:    This is a read-write container within a directory structure\n",
      "\n",
      "  note: It is a common workflow to use the \"sandbox\" mode for development of the\n",
      "  container, and then build it as a default Apptainer image for production\n",
      "  use. The default format is immutable.\n",
      "\n",
      "  BUILD SPEC:\n",
      "\n",
      "  The build spec target is a definition (def) file, local image, or URI that can \n",
      "  be used to create an Apptainer container. Several different local target\n",
      "  formats exist:\n",
      "\n",
      "      def file  : This is a recipe for building a container (examples below)\n",
      "      directory:  A directory structure containing a (ch)root file system\n",
      "      image:      A local image on your machine (will convert to sif if\n",
      "                  it is legacy format)\n",
      "\n",
      "  Targets can also be remote and defined by a URI of the following formats:\n",
      "\n",
      "      library://  an image library (no default)\n",
      "      docker://   a Docker/OCI registry (default Docker Hub)\n",
      "      shub://     an Apptainer registry (default Singularity Hub)\n",
      "      oras://     an OCI registry that holds SIF files using ORAS\n",
      "\n",
      "Options:\n",
      "  -B, --bind stringArray    a user-bind path specification. spec has the\n",
      "                            format src[:dest[:opts]],where src and dest\n",
      "                            are outside and inside paths. If dest is not\n",
      "                            given,it is set equal to src. Mount options\n",
      "                            ('opts') may be specified as 'ro'(read-only)\n",
      "                            or 'rw' (read/write, which is the\n",
      "                            default).Multiple bind paths can be given by a\n",
      "                            comma separated list.\n",
      "      --disable-cache       do not use cache or create cache\n",
      "      --docker-login        login to a Docker Repository interactively\n",
      "  -e, --encrypt             build an image with an encrypted file system\n",
      "  -f, --fakeroot            build with the appearance of running as root\n",
      "                            (default when building from a definition file\n",
      "                            unprivileged)\n",
      "      --fix-perms           ensure owner has rwX permissions on all\n",
      "                            container content for oci/docker sources\n",
      "  -F, --force               overwrite an image file if it exists\n",
      "  -h, --help                help for build\n",
      "      --json                interpret build definition as JSON\n",
      "      --library string      container Library URL\n",
      "      --mount stringArray   a mount specification e.g.\n",
      "                            'type=bind,source=/opt,destination=/hostopt'.\n",
      "      --no-cleanup          do NOT clean up bundle after failed build, can\n",
      "                            be helpful for debugging\n",
      "      --no-https            use http instead of https for docker://\n",
      "                            oras:// and library://<hostname>/... URIs\n",
      "  -T, --notest              build without running tests in %test section\n",
      "      --nv                  inject host Nvidia libraries during build for\n",
      "                            post and test sections\n",
      "      --nvccli              use nvidia-container-cli for GPU setup\n",
      "                            (experimental)\n",
      "      --passphrase          prompt for an encryption passphrase\n",
      "      --pem-path string     enter an path to a PEM formatted RSA key for\n",
      "                            an encrypted container\n",
      "      --rocm                inject host Rocm libraries during build for\n",
      "                            post and test sections\n",
      "  -s, --sandbox             build image as sandbox format (chroot\n",
      "                            directory structure)\n",
      "      --section strings     only run specific section(s) of deffile\n",
      "                            (setup, post, files, environment, test,\n",
      "                            labels, none) (default [all])\n",
      "  -u, --update              run definition over existing container (skips\n",
      "                            header)\n",
      "      --userns              build without using setuid even if available\n",
      "      --writable-tmpfs      during the %test section, makes the file\n",
      "                            system accessible as read-write with non\n",
      "                            persistent data (with overlay support only)\n",
      "\n",
      "\n",
      "Examples:\n",
      "\n",
      "  DEF FILE BASE OS:\n",
      "\n",
      "      Library:\n",
      "          Bootstrap: library\n",
      "          From: debian:9\n",
      "\n",
      "      Docker:\n",
      "          Bootstrap: docker\n",
      "          From: tensorflow/tensorflow:latest\n",
      "          IncludeCmd: yes # Use the CMD as runscript instead of ENTRYPOINT\n",
      "\n",
      "      Singularity Hub:\n",
      "          Bootstrap: shub\n",
      "          From: singularityhub/centos\n",
      "\n",
      "      YUM/RHEL:\n",
      "          Bootstrap: yum\n",
      "          OSVersion: 7\n",
      "          MirrorURL: http://mirror.centos.org/centos-%{OSVERSION}/%{OSVERSION}/os/x86_64/\n",
      "          Include: yum\n",
      "\n",
      "      Debian/Ubuntu:\n",
      "          Bootstrap: debootstrap\n",
      "          OSVersion: trusty\n",
      "          MirrorURL: http://us.archive.ubuntu.com/ubuntu/\n",
      "\n",
      "      Local Image:\n",
      "          Bootstrap: localimage\n",
      "          From: /home/dave/starter.img\n",
      "\n",
      "      Scratch:\n",
      "          Bootstrap: scratch # Populate the container with a minimal rootfs in %setup\n",
      "\n",
      "  DEFFILE SECTIONS:\n",
      "\n",
      "  The following sections are presented in the order of processing, with the exception\n",
      "  that labels and environment can also be manipulated in %post.\n",
      "\n",
      "      %pre\n",
      "          echo \"This is a scriptlet that will be executed on the host, as root before\"\n",
      "          echo \"the container has been bootstrapped. This section is not commonly used.\"\n",
      "\n",
      "      %setup\n",
      "          echo \"This is a scriptlet that will be executed on the host, as root, after\"\n",
      "          echo \"the container has been bootstrapped. To install things into the container\"\n",
      "          echo \"reference the file system location with $APPTAINER_ROOTFS.\"\n",
      "\n",
      "      %files\n",
      "          /path/on/host/file.txt /path/on/container/file.txt\n",
      "          relative_file.txt /path/on/container/relative_file.txt\n",
      "\n",
      "      %post\n",
      "          echo \"This scriptlet section will be executed from within the container after\"\n",
      "          echo \"the bootstrap/base has been created and setup.\"\n",
      "\n",
      "      %environment\n",
      "          LUKE=goodguy\n",
      "          VADER=badguy\n",
      "          HAN=someguy\n",
      "          export HAN VADER LUKE\n",
      "\n",
      "      %test\n",
      "          echo \"Define any test commands that should be executed after container has been\"\n",
      "          echo \"built. This scriptlet will be executed from within the running container\"\n",
      "          echo \"as the root user. Pay attention to the exit/return value of this scriptlet\"\n",
      "          echo \"as any non-zero exit code will be assumed as failure.\"\n",
      "          exit 0\n",
      "\n",
      "      %runscript\n",
      "          echo \"Define actions for the container to be executed with the run command or\"\n",
      "          echo \"when container is executed.\"\n",
      "\n",
      "      %startscript\n",
      "          echo \"Define actions for container to perform when started as an instance.\"\n",
      "\n",
      "      %labels\n",
      "          HELLO MOTO\n",
      "          KEY VALUE\n",
      "\n",
      "      %help\n",
      "          This is a text file to be displayed with the run-help command.\n",
      "\n",
      "  COMMANDS:\n",
      "\n",
      "      Build a sif file from an Apptainer recipe file:\n",
      "          $ apptainer build /tmp/debian0.sif /path/to/debian.def\n",
      "\n",
      "      Build a sif image from the Library:\n",
      "          $ apptainer build /tmp/debian1.sif library://debian:latest\n",
      "\n",
      "      Build a base sandbox from DockerHub, make changes to it, then build sif\n",
      "          $ apptainer build --sandbox /tmp/debian docker://debian:latest\n",
      "          $ apptainer exec --writable /tmp/debian apt-get install python\n",
      "          $ apptainer build /tmp/debian2.sif /tmp/debian\n",
      "\n",
      "\n",
      "For additional help or support, please visit https://apptainer.org/help/\n"
     ]
    }
   ],
   "source": [
    "apptainer build --help"
   ]
  },
  {
   "cell_type": "markdown",
   "metadata": {
    "slideshow": {
     "slide_type": "subslide"
    }
   },
   "source": [
    "<div class=\"alert alert-info\" role=\"alert\">\n",
    "    ▶ Try this yourself!\n",
    "</div>"
   ]
  },
  {
   "cell_type": "code",
   "execution_count": 25,
   "metadata": {
    "slideshow": {
     "slide_type": "-"
    }
   },
   "outputs": [
    {
     "name": "stdout",
     "output_type": "stream",
     "text": [
      "\u001b[34mINFO:   \u001b[0m User not listed in /etc/subuid, trying root-mapped namespace\n",
      "\u001b[34mINFO:   \u001b[0m The %post section will be run under fakeroot\n",
      "\u001b[34mINFO:   \u001b[0m Starting build...\n",
      "Getting image source signatures\n",
      "Copying blob e96e057aae67 skipped: already exists  \n",
      "Copying config 134185395f done  \n",
      "Writing manifest to image destination\n",
      "Storing signatures\n",
      "2022/11/17 16:36:45  info unpack layer: sha256:e96e057aae67380a4ddb16c337c5c3669d97fdff69ec537f02aa2cc30d814281\n",
      "\u001b[34mINFO:   \u001b[0m Copying logo.txt to /opt/message.txt\n",
      "\u001b[34mINFO:   \u001b[0m Adding runscript\n",
      "\u001b[34mINFO:   \u001b[0m Creating SIF file...\n",
      "\u001b[34mINFO:   \u001b[0m Build complete: image.sif\n",
      "\u001b[38;5;231m@\u001b[0;00m\u001b[38;5;231m@\u001b[0;00m\u001b[38;5;231m@\u001b[0;00m\u001b[38;5;231m@\u001b[0;00m\u001b[38;5;231m@\u001b[0;00m\u001b[38;5;231m@\u001b[0;00m\u001b[38;5;231m@\u001b[0;00m\u001b[38;5;231m@\u001b[0;00m\u001b[38;5;231m@\u001b[0;00m\u001b[38;5;231m@\u001b[0;00m\u001b[38;5;231m@\u001b[0;00m\u001b[38;5;231m@\u001b[0;00m\u001b[38;5;194m@\u001b[0;00m\u001b[38;5;194m@\u001b[0;00m\u001b[38;5;194m@\u001b[0;00m\u001b[38;5;194m@\u001b[0;00m\u001b[38;5;194m@\u001b[0;00m\u001b[38;5;188m@\u001b[0;00m\u001b[38;5;194m@\u001b[0;00m\u001b[38;5;194m@\u001b[0;00m\u001b[38;5;230m@\u001b[0;00m\u001b[38;5;224m@\u001b[0;00m\u001b[38;5;224m@\u001b[0;00m\u001b[38;5;224m@\u001b[0;00m\u001b[38;5;194m@\u001b[0;00m\u001b[38;5;188m8\u001b[0;00m\u001b[38;5;188m8\u001b[0;00m\u001b[38;5;152m0\u001b[0;00m\u001b[38;5;116mG\u001b[0;00m\u001b[38;5;110mC\u001b[0;00m\u001b[38;5;110mC\u001b[0;00m\u001b[38;5;74mL\u001b[0;00m\u001b[38;5;74mL\u001b[0;00m\u001b[38;5;110mC\u001b[0;00m\u001b[38;5;224m@\u001b[0;00m\u001b[38;5;194m@\u001b[0;00m\u001b[38;5;194m@\u001b[0;00m\u001b[38;5;231m@\u001b[0;00m\u001b[38;5;150mC\u001b[0;00m\u001b[38;5;107mf\u001b[0;00m\u001b[38;5;149mL\u001b[0;00m\u001b[38;5;150mL\u001b[0;00m\u001b[38;5;150mC\u001b[0;00m\u001b[38;5;151mG\u001b[0;00m\u001b[38;5;187mG\u001b[0;00m\u001b[38;5;188m0\u001b[0;00m\u001b[38;5;188m8\u001b[0;00m\u001b[38;5;194m@\u001b[0;00m\u001b[38;5;225m@\u001b[0;00m\u001b[38;5;225m@\u001b[0;00m\u001b[38;5;225m@\u001b[0;00m\u001b[38;5;231m@\u001b[0;00m\u001b[38;5;230m@\u001b[0;00m\u001b[38;5;194m@\u001b[0;00m\u001b[38;5;194m@\u001b[0;00m\u001b[38;5;194m@\u001b[0;00m\u001b[38;5;194m@\u001b[0;00m\u001b[38;5;194m@\u001b[0;00m\u001b[38;5;194m@\u001b[0;00m\u001b[38;5;194m@\u001b[0;00m\u001b[38;5;231m@\u001b[0;00m\u001b[38;5;231m@\u001b[0;00m\u001b[38;5;231m@\u001b[0;00m\u001b[38;5;231m@\u001b[0;00m\u001b[38;5;231m@\u001b[0;00m\u001b[38;5;231m@\u001b[0;00m\u001b[38;5;231m@\u001b[0;00m\u001b[38;5;231m@\u001b[0;00m\u001b[38;5;231m@\u001b[0;00m\u001b[38;5;231m@\u001b[0;00m\u001b[38;5;231m@\u001b[0;00m\u001b[38;5;231m@\u001b[0;00m\n",
      "\u001b[38;5;231m@\u001b[0;00m\u001b[38;5;231m@\u001b[0;00m\u001b[38;5;231m@\u001b[0;00m\u001b[38;5;231m@\u001b[0;00m\u001b[38;5;231m@\u001b[0;00m\u001b[38;5;231m@\u001b[0;00m\u001b[38;5;231m@\u001b[0;00m\u001b[38;5;231m@\u001b[0;00m\u001b[38;5;231m@\u001b[0;00m\u001b[38;5;231m@\u001b[0;00m\u001b[38;5;194m@\u001b[0;00m\u001b[38;5;194m@\u001b[0;00m\u001b[38;5;194m@\u001b[0;00m\u001b[38;5;194m@\u001b[0;00m\u001b[38;5;188m@\u001b[0;00m\u001b[38;5;194m@\u001b[0;00m\u001b[38;5;230m@\u001b[0;00m\u001b[38;5;224m@\u001b[0;00m\u001b[38;5;224m@\u001b[0;00m\u001b[38;5;230m@\u001b[0;00m\u001b[38;5;188m8\u001b[0;00m\u001b[38;5;152m0\u001b[0;00m\u001b[38;5;110mC\u001b[0;00m\u001b[38;5;74mL\u001b[0;00m\u001b[38;5;38mf\u001b[0;00m\u001b[38;5;38mt\u001b[0;00m\u001b[38;5;32mt\u001b[0;00m\u001b[38;5;32mt\u001b[0;00m\u001b[38;5;32mt\u001b[0;00m\u001b[38;5;32mt\u001b[0;00m\u001b[38;5;32mt\u001b[0;00m\u001b[38;5;32mt\u001b[0;00m\u001b[38;5;32m1\u001b[0;00m\u001b[38;5;74mf\u001b[0;00m\u001b[38;5;230m@\u001b[0;00m\u001b[38;5;188m@\u001b[0;00m\u001b[38;5;194m@\u001b[0;00m\u001b[38;5;225m@\u001b[0;00m\u001b[38;5;107mf\u001b[0;00m\u001b[38;5;70mi\u001b[0;00m\u001b[38;5;70mi\u001b[0;00m\u001b[38;5;70mi\u001b[0;00m\u001b[38;5;70mi\u001b[0;00m\u001b[38;5;70mi\u001b[0;00m\u001b[38;5;70mi\u001b[0;00m\u001b[38;5;106mi\u001b[0;00m\u001b[38;5;106m1\u001b[0;00m\u001b[38;5;107mt\u001b[0;00m\u001b[38;5;107mf\u001b[0;00m\u001b[38;5;150mC\u001b[0;00m\u001b[38;5;187mG\u001b[0;00m\u001b[38;5;188m8\u001b[0;00m\u001b[38;5;231m@\u001b[0;00m\u001b[38;5;225m@\u001b[0;00m\u001b[38;5;225m@\u001b[0;00m\u001b[38;5;231m@\u001b[0;00m\u001b[38;5;194m@\u001b[0;00m\u001b[38;5;194m@\u001b[0;00m\u001b[38;5;194m@\u001b[0;00m\u001b[38;5;188m@\u001b[0;00m\u001b[38;5;194m@\u001b[0;00m\u001b[38;5;194m@\u001b[0;00m\u001b[38;5;231m@\u001b[0;00m\u001b[38;5;231m@\u001b[0;00m\u001b[38;5;231m@\u001b[0;00m\u001b[38;5;231m@\u001b[0;00m\u001b[38;5;231m@\u001b[0;00m\u001b[38;5;231m@\u001b[0;00m\u001b[38;5;231m@\u001b[0;00m\u001b[38;5;231m@\u001b[0;00m\u001b[38;5;231m@\u001b[0;00m\u001b[38;5;231m@\u001b[0;00m\n",
      "\u001b[38;5;231m@\u001b[0;00m\u001b[38;5;231m@\u001b[0;00m\u001b[38;5;231m@\u001b[0;00m\u001b[38;5;231m@\u001b[0;00m\u001b[38;5;231m@\u001b[0;00m\u001b[38;5;231m@\u001b[0;00m\u001b[38;5;231m@\u001b[0;00m\u001b[38;5;231m@\u001b[0;00m\u001b[38;5;194m@\u001b[0;00m\u001b[38;5;194m@\u001b[0;00m\u001b[38;5;230m@\u001b[0;00m\u001b[38;5;194m@\u001b[0;00m\u001b[38;5;194m@\u001b[0;00m\u001b[38;5;230m@\u001b[0;00m\u001b[38;5;224m@\u001b[0;00m\u001b[38;5;224m@\u001b[0;00m\u001b[38;5;188m@\u001b[0;00m\u001b[38;5;152m0\u001b[0;00m\u001b[38;5;110mC\u001b[0;00m\u001b[38;5;38mf\u001b[0;00m\u001b[38;5;38mt\u001b[0;00m\u001b[38;5;32mt\u001b[0;00m\u001b[38;5;32mt\u001b[0;00m\u001b[38;5;32mt\u001b[0;00m\u001b[38;5;32mt\u001b[0;00m\u001b[38;5;32mt\u001b[0;00m\u001b[38;5;32mt\u001b[0;00m\u001b[38;5;32mt\u001b[0;00m\u001b[38;5;32mt\u001b[0;00m\u001b[38;5;32mt\u001b[0;00m\u001b[38;5;32mt\u001b[0;00m\u001b[38;5;38mt\u001b[0;00m\u001b[38;5;32mt\u001b[0;00m\u001b[38;5;74mL\u001b[0;00m\u001b[38;5;224m@\u001b[0;00m\u001b[38;5;194m@\u001b[0;00m\u001b[38;5;194m@\u001b[0;00m\u001b[38;5;189m@\u001b[0;00m\u001b[38;5;149mf\u001b[0;00m\u001b[38;5;70mi\u001b[0;00m\u001b[38;5;106m1\u001b[0;00m\u001b[38;5;106m1\u001b[0;00m\u001b[38;5;106m1\u001b[0;00m\u001b[38;5;106m1\u001b[0;00m\u001b[38;5;106m1\u001b[0;00m\u001b[38;5;106m1\u001b[0;00m\u001b[38;5;106m1\u001b[0;00m\u001b[38;5;106mi\u001b[0;00m\u001b[38;5;70mi\u001b[0;00m\u001b[38;5;70mi\u001b[0;00m\u001b[38;5;70mi\u001b[0;00m\u001b[38;5;106m1\u001b[0;00m\u001b[38;5;107mt\u001b[0;00m\u001b[38;5;150mL\u001b[0;00m\u001b[38;5;187m0\u001b[0;00m\u001b[38;5;188m@\u001b[0;00m\u001b[38;5;225m@\u001b[0;00m\u001b[38;5;225m@\u001b[0;00m\u001b[38;5;231m@\u001b[0;00m\u001b[38;5;194m@\u001b[0;00m\u001b[38;5;194m@\u001b[0;00m\u001b[38;5;231m@\u001b[0;00m\u001b[38;5;194m@\u001b[0;00m\u001b[38;5;194m@\u001b[0;00m\u001b[38;5;231m@\u001b[0;00m\u001b[38;5;231m@\u001b[0;00m\u001b[38;5;231m@\u001b[0;00m\u001b[38;5;231m@\u001b[0;00m\u001b[38;5;231m@\u001b[0;00m\u001b[38;5;231m@\u001b[0;00m\u001b[38;5;231m@\u001b[0;00m\u001b[38;5;231m@\u001b[0;00m\n",
      "\u001b[38;5;231m@\u001b[0;00m\u001b[38;5;231m@\u001b[0;00m\u001b[38;5;231m@\u001b[0;00m\u001b[38;5;231m@\u001b[0;00m\u001b[38;5;231m@\u001b[0;00m\u001b[38;5;231m@\u001b[0;00m\u001b[38;5;194m@\u001b[0;00m\u001b[38;5;194m@\u001b[0;00m\u001b[38;5;230m@\u001b[0;00m\u001b[38;5;194m@\u001b[0;00m\u001b[38;5;194m@\u001b[0;00m\u001b[38;5;230m@\u001b[0;00m\u001b[38;5;224m@\u001b[0;00m\u001b[38;5;188m@\u001b[0;00m\u001b[38;5;152m0\u001b[0;00m\u001b[38;5;74mL\u001b[0;00m\u001b[38;5;38mt\u001b[0;00m\u001b[38;5;32mt\u001b[0;00m\u001b[38;5;32mt\u001b[0;00m\u001b[38;5;32mt\u001b[0;00m\u001b[38;5;32mt\u001b[0;00m\u001b[38;5;32mt\u001b[0;00m\u001b[38;5;32mt\u001b[0;00m\u001b[38;5;32mt\u001b[0;00m\u001b[38;5;32mt\u001b[0;00m\u001b[38;5;32mt\u001b[0;00m\u001b[38;5;32mt\u001b[0;00m\u001b[38;5;32mt\u001b[0;00m\u001b[38;5;32mt\u001b[0;00m\u001b[38;5;32mt\u001b[0;00m\u001b[38;5;32mt\u001b[0;00m\u001b[38;5;32mt\u001b[0;00m\u001b[38;5;32m1\u001b[0;00m\u001b[38;5;74mf\u001b[0;00m\u001b[38;5;230m@\u001b[0;00m\u001b[38;5;188m@\u001b[0;00m\u001b[38;5;194m@\u001b[0;00m\u001b[38;5;225m@\u001b[0;00m\u001b[38;5;107mf\u001b[0;00m\u001b[38;5;70mi\u001b[0;00m\u001b[38;5;70mi\u001b[0;00m\u001b[38;5;70mi\u001b[0;00m\u001b[38;5;70mi\u001b[0;00m\u001b[38;5;106mi\u001b[0;00m\u001b[38;5;106m1\u001b[0;00m\u001b[38;5;106m1\u001b[0;00m\u001b[38;5;106m1\u001b[0;00m\u001b[38;5;106m1\u001b[0;00m\u001b[38;5;106m1\u001b[0;00m\u001b[38;5;106m1\u001b[0;00m\u001b[38;5;106m1\u001b[0;00m\u001b[38;5;106m1\u001b[0;00m\u001b[38;5;70mi\u001b[0;00m\u001b[38;5;70mi\u001b[0;00m\u001b[38;5;70mi\u001b[0;00m\u001b[38;5;106m1\u001b[0;00m\u001b[38;5;150mL\u001b[0;00m\u001b[38;5;187m0\u001b[0;00m\u001b[38;5;188m@\u001b[0;00m\u001b[38;5;225m@\u001b[0;00m\u001b[38;5;231m@\u001b[0;00m\u001b[38;5;194m@\u001b[0;00m\u001b[38;5;194m@\u001b[0;00m\u001b[38;5;231m@\u001b[0;00m\u001b[38;5;194m@\u001b[0;00m\u001b[38;5;194m@\u001b[0;00m\u001b[38;5;231m@\u001b[0;00m\u001b[38;5;231m@\u001b[0;00m\u001b[38;5;231m@\u001b[0;00m\u001b[38;5;231m@\u001b[0;00m\u001b[38;5;231m@\u001b[0;00m\u001b[38;5;231m@\u001b[0;00m\n",
      "\u001b[38;5;231m@\u001b[0;00m\u001b[38;5;231m@\u001b[0;00m\u001b[38;5;231m@\u001b[0;00m\u001b[38;5;231m@\u001b[0;00m\u001b[38;5;194m@\u001b[0;00m\u001b[38;5;194m@\u001b[0;00m\u001b[38;5;230m@\u001b[0;00m\u001b[38;5;194m@\u001b[0;00m\u001b[38;5;194m@\u001b[0;00m\u001b[38;5;230m@\u001b[0;00m\u001b[38;5;224m@\u001b[0;00m\u001b[38;5;188m8\u001b[0;00m\u001b[38;5;116mG\u001b[0;00m\u001b[38;5;38mf\u001b[0;00m\u001b[38;5;32mt\u001b[0;00m\u001b[38;5;32mt\u001b[0;00m\u001b[38;5;32mt\u001b[0;00m\u001b[38;5;32mt\u001b[0;00m\u001b[38;5;32mt\u001b[0;00m\u001b[38;5;32mt\u001b[0;00m\u001b[38;5;32mt\u001b[0;00m\u001b[38;5;32mt\u001b[0;00m\u001b[38;5;32mt\u001b[0;00m\u001b[38;5;32mt\u001b[0;00m\u001b[38;5;32mt\u001b[0;00m\u001b[38;5;32mt\u001b[0;00m\u001b[38;5;32mt\u001b[0;00m\u001b[38;5;38mt\u001b[0;00m\u001b[38;5;38mf\u001b[0;00m\u001b[38;5;74mL\u001b[0;00m\u001b[38;5;74mL\u001b[0;00m\u001b[38;5;110mC\u001b[0;00m\u001b[38;5;116mC\u001b[0;00m\u001b[38;5;152m0\u001b[0;00m\u001b[38;5;224m@\u001b[0;00m\u001b[38;5;194m@\u001b[0;00m\u001b[38;5;194m@\u001b[0;00m\u001b[38;5;189m@\u001b[0;00m\u001b[38;5;187m0\u001b[0;00m\u001b[38;5;150mC\u001b[0;00m\u001b[38;5;150mC\u001b[0;00m\u001b[38;5;150mL\u001b[0;00m\u001b[38;5;107mf\u001b[0;00m\u001b[38;5;107mt\u001b[0;00m\u001b[38;5;106m1\u001b[0;00m\u001b[38;5;106mi\u001b[0;00m\u001b[38;5;70mi\u001b[0;00m\u001b[38;5;70mi\u001b[0;00m\u001b[38;5;106mi\u001b[0;00m\u001b[38;5;106m1\u001b[0;00m\u001b[38;5;106m1\u001b[0;00m\u001b[38;5;106m1\u001b[0;00m\u001b[38;5;106m1\u001b[0;00m\u001b[38;5;106m1\u001b[0;00m\u001b[38;5;106m1\u001b[0;00m\u001b[38;5;106mi\u001b[0;00m\u001b[38;5;70mi\u001b[0;00m\u001b[38;5;70mi\u001b[0;00m\u001b[38;5;106mt\u001b[0;00m\u001b[38;5;150mC\u001b[0;00m\u001b[38;5;188m8\u001b[0;00m\u001b[38;5;225m@\u001b[0;00m\u001b[38;5;231m@\u001b[0;00m\u001b[38;5;194m@\u001b[0;00m\u001b[38;5;194m@\u001b[0;00m\u001b[38;5;231m@\u001b[0;00m\u001b[38;5;194m@\u001b[0;00m\u001b[38;5;194m@\u001b[0;00m\u001b[38;5;231m@\u001b[0;00m\u001b[38;5;231m@\u001b[0;00m\u001b[38;5;231m@\u001b[0;00m\u001b[38;5;231m@\u001b[0;00m\n",
      "\u001b[38;5;231m@\u001b[0;00m\u001b[38;5;231m@\u001b[0;00m\u001b[38;5;231m@\u001b[0;00m\u001b[38;5;194m@\u001b[0;00m\u001b[38;5;194m@\u001b[0;00m\u001b[38;5;230m@\u001b[0;00m\u001b[38;5;188m@\u001b[0;00m\u001b[38;5;194m@\u001b[0;00m\u001b[38;5;224m@\u001b[0;00m\u001b[38;5;188m8\u001b[0;00m\u001b[38;5;110mC\u001b[0;00m\u001b[38;5;38mt\u001b[0;00m\u001b[38;5;32mt\u001b[0;00m\u001b[38;5;32mt\u001b[0;00m\u001b[38;5;32mt\u001b[0;00m\u001b[38;5;32mt\u001b[0;00m\u001b[38;5;32mt\u001b[0;00m\u001b[38;5;32mt\u001b[0;00m\u001b[38;5;32mt\u001b[0;00m\u001b[38;5;32mt\u001b[0;00m\u001b[38;5;32mt\u001b[0;00m\u001b[38;5;32mt\u001b[0;00m\u001b[38;5;32mt\u001b[0;00m\u001b[38;5;38mf\u001b[0;00m\u001b[38;5;74mC\u001b[0;00m\u001b[38;5;152mG\u001b[0;00m\u001b[38;5;152m8\u001b[0;00m\u001b[38;5;188m@\u001b[0;00m\u001b[38;5;194m@\u001b[0;00m\u001b[38;5;224m@\u001b[0;00m\u001b[38;5;224m@\u001b[0;00m\u001b[38;5;224m@\u001b[0;00m\u001b[38;5;224m@\u001b[0;00m\u001b[38;5;224m@\u001b[0;00m\u001b[38;5;194m@\u001b[0;00m\u001b[38;5;230m@\u001b[0;00m\u001b[38;5;231m@\u001b[0;00m\u001b[38;5;194m@\u001b[0;00m\u001b[38;5;225m@\u001b[0;00m\u001b[38;5;225m@\u001b[0;00m\u001b[38;5;225m@\u001b[0;00m\u001b[38;5;225m@\u001b[0;00m\u001b[38;5;225m@\u001b[0;00m\u001b[38;5;194m@\u001b[0;00m\u001b[38;5;188m8\u001b[0;00m\u001b[38;5;188m0\u001b[0;00m\u001b[38;5;151mG\u001b[0;00m\u001b[38;5;150mL\u001b[0;00m\u001b[38;5;107mt\u001b[0;00m\u001b[38;5;106m1\u001b[0;00m\u001b[38;5;70mi\u001b[0;00m\u001b[38;5;70mi\u001b[0;00m\u001b[38;5;106m1\u001b[0;00m\u001b[38;5;106m1\u001b[0;00m\u001b[38;5;106m1\u001b[0;00m\u001b[38;5;106m1\u001b[0;00m\u001b[38;5;106m1\u001b[0;00m\u001b[38;5;106m1\u001b[0;00m\u001b[38;5;106mi\u001b[0;00m\u001b[38;5;70mi\u001b[0;00m\u001b[38;5;106m1\u001b[0;00m\u001b[38;5;150mL\u001b[0;00m\u001b[38;5;188m8\u001b[0;00m\u001b[38;5;225m@\u001b[0;00m\u001b[38;5;194m@\u001b[0;00m\u001b[38;5;194m@\u001b[0;00m\u001b[38;5;231m@\u001b[0;00m\u001b[38;5;188m@\u001b[0;00m\u001b[38;5;194m@\u001b[0;00m\u001b[38;5;194m@\u001b[0;00m\u001b[38;5;231m@\u001b[0;00m\u001b[38;5;231m@\u001b[0;00m\n"
     ]
    },
    {
     "name": "stdout",
     "output_type": "stream",
     "text": [
      "\u001b[38;5;231m@\u001b[0;00m\u001b[38;5;231m@\u001b[0;00m\u001b[38;5;194m@\u001b[0;00m\u001b[38;5;231m@\u001b[0;00m\u001b[38;5;230m@\u001b[0;00m\u001b[38;5;188m@\u001b[0;00m\u001b[38;5;230m@\u001b[0;00m\u001b[38;5;188m@\u001b[0;00m\u001b[38;5;116mG\u001b[0;00m\u001b[38;5;38mt\u001b[0;00m\u001b[38;5;32mt\u001b[0;00m\u001b[38;5;32mt\u001b[0;00m\u001b[38;5;32mt\u001b[0;00m\u001b[38;5;32mt\u001b[0;00m\u001b[38;5;32mt\u001b[0;00m\u001b[38;5;32mt\u001b[0;00m\u001b[38;5;32mt\u001b[0;00m\u001b[38;5;32mt\u001b[0;00m\u001b[38;5;32mt\u001b[0;00m\u001b[38;5;38mt\u001b[0;00m\u001b[38;5;74mL\u001b[0;00m\u001b[38;5;116mG\u001b[0;00m\u001b[38;5;188m8\u001b[0;00m\u001b[38;5;230m@\u001b[0;00m\u001b[38;5;224m@\u001b[0;00m\u001b[38;5;224m@\u001b[0;00m\u001b[38;5;224m@\u001b[0;00m\u001b[38;5;230m@\u001b[0;00m\u001b[38;5;230m@\u001b[0;00m\u001b[38;5;188m@\u001b[0;00m\u001b[38;5;194m@\u001b[0;00m\u001b[38;5;188m@\u001b[0;00m\u001b[38;5;188m@\u001b[0;00m\u001b[38;5;188m@\u001b[0;00m\u001b[38;5;230m@\u001b[0;00m\u001b[38;5;194m@\u001b[0;00m\u001b[38;5;194m@\u001b[0;00m\u001b[38;5;231m@\u001b[0;00m\u001b[38;5;194m@\u001b[0;00m\u001b[38;5;194m@\u001b[0;00m\u001b[38;5;194m@\u001b[0;00m\u001b[38;5;194m@\u001b[0;00m\u001b[38;5;194m@\u001b[0;00m\u001b[38;5;231m@\u001b[0;00m\u001b[38;5;231m@\u001b[0;00m\u001b[38;5;231m@\u001b[0;00m\u001b[38;5;225m@\u001b[0;00m\u001b[38;5;225m@\u001b[0;00m\u001b[38;5;195m@\u001b[0;00m\u001b[38;5;188m8\u001b[0;00m\u001b[38;5;151mG\u001b[0;00m\u001b[38;5;107mf\u001b[0;00m\u001b[38;5;106m1\u001b[0;00m\u001b[38;5;70mi\u001b[0;00m\u001b[38;5;70mi\u001b[0;00m\u001b[38;5;106m1\u001b[0;00m\u001b[38;5;106m1\u001b[0;00m\u001b[38;5;106m1\u001b[0;00m\u001b[38;5;106m1\u001b[0;00m\u001b[38;5;106m1\u001b[0;00m\u001b[38;5;106m1\u001b[0;00m\u001b[38;5;70mi\u001b[0;00m\u001b[38;5;106m1\u001b[0;00m\u001b[38;5;150mC\u001b[0;00m\u001b[38;5;188m@\u001b[0;00m\u001b[38;5;231m@\u001b[0;00m\u001b[38;5;194m@\u001b[0;00m\u001b[38;5;194m@\u001b[0;00m\u001b[38;5;231m@\u001b[0;00m\u001b[38;5;194m@\u001b[0;00m\u001b[38;5;231m@\u001b[0;00m\u001b[38;5;231m@\u001b[0;00m\n",
      "\u001b[38;5;231m@\u001b[0;00m\u001b[38;5;194m@\u001b[0;00m\u001b[38;5;230m@\u001b[0;00m\u001b[38;5;194m@\u001b[0;00m\u001b[38;5;188m@\u001b[0;00m\u001b[38;5;224m@\u001b[0;00m\u001b[38;5;188m8\u001b[0;00m\u001b[38;5;38mf\u001b[0;00m\u001b[38;5;32mt\u001b[0;00m\u001b[38;5;32mt\u001b[0;00m\u001b[38;5;32mt\u001b[0;00m\u001b[38;5;32mt\u001b[0;00m\u001b[38;5;32mt\u001b[0;00m\u001b[38;5;32mt\u001b[0;00m\u001b[38;5;32mt\u001b[0;00m\u001b[38;5;32mt\u001b[0;00m\u001b[38;5;32mt\u001b[0;00m\u001b[38;5;38mf\u001b[0;00m\u001b[38;5;116mG\u001b[0;00m\u001b[38;5;188m8\u001b[0;00m\u001b[38;5;230m@\u001b[0;00m\u001b[38;5;224m@\u001b[0;00m\u001b[38;5;230m@\u001b[0;00m\u001b[38;5;195m@\u001b[0;00m\u001b[38;5;194m@\u001b[0;00m\u001b[38;5;194m@\u001b[0;00m\u001b[38;5;188m@\u001b[0;00m\u001b[38;5;194m@\u001b[0;00m\u001b[38;5;194m@\u001b[0;00m\u001b[38;5;194m@\u001b[0;00m\u001b[38;5;194m@\u001b[0;00m\u001b[38;5;194m@\u001b[0;00m\u001b[38;5;194m@\u001b[0;00m\u001b[38;5;231m@\u001b[0;00m\u001b[38;5;231m@\u001b[0;00m\u001b[38;5;231m@\u001b[0;00m\u001b[38;5;231m@\u001b[0;00m\u001b[38;5;231m@\u001b[0;00m\u001b[38;5;231m@\u001b[0;00m\u001b[38;5;194m@\u001b[0;00m\u001b[38;5;194m@\u001b[0;00m\u001b[38;5;194m@\u001b[0;00m\u001b[38;5;194m@\u001b[0;00m\u001b[38;5;194m@\u001b[0;00m\u001b[38;5;194m@\u001b[0;00m\u001b[38;5;194m@\u001b[0;00m\u001b[38;5;194m@\u001b[0;00m\u001b[38;5;194m@\u001b[0;00m\u001b[38;5;194m@\u001b[0;00m\u001b[38;5;231m@\u001b[0;00m\u001b[38;5;225m@\u001b[0;00m\u001b[38;5;225m@\u001b[0;00m\u001b[38;5;188m8\u001b[0;00m\u001b[38;5;150mC\u001b[0;00m\u001b[38;5;107mt\u001b[0;00m\u001b[38;5;70mi\u001b[0;00m\u001b[38;5;70mi\u001b[0;00m\u001b[38;5;106m1\u001b[0;00m\u001b[38;5;106m1\u001b[0;00m\u001b[38;5;106m1\u001b[0;00m\u001b[38;5;106m1\u001b[0;00m\u001b[38;5;106m1\u001b[0;00m\u001b[38;5;106m1\u001b[0;00m\u001b[38;5;70mi\u001b[0;00m\u001b[38;5;107mt\u001b[0;00m\u001b[38;5;188m0\u001b[0;00m\u001b[38;5;225m@\u001b[0;00m\u001b[38;5;194m@\u001b[0;00m\u001b[38;5;194m@\u001b[0;00m\u001b[38;5;231m@\u001b[0;00m\u001b[38;5;194m@\u001b[0;00m\u001b[38;5;231m@\u001b[0;00m\n",
      "\u001b[38;5;231m@\u001b[0;00m\u001b[38;5;231m@\u001b[0;00m\u001b[38;5;194m@\u001b[0;00m\u001b[38;5;194m@\u001b[0;00m\u001b[38;5;224m@\u001b[0;00m\u001b[38;5;152mG\u001b[0;00m\u001b[38;5;32mt\u001b[0;00m\u001b[38;5;32mt\u001b[0;00m\u001b[38;5;32mt\u001b[0;00m\u001b[38;5;32mt\u001b[0;00m\u001b[38;5;32mt\u001b[0;00m\u001b[38;5;32mt\u001b[0;00m\u001b[38;5;32mt\u001b[0;00m\u001b[38;5;32mt\u001b[0;00m\u001b[38;5;32mt\u001b[0;00m\u001b[38;5;38mf\u001b[0;00m\u001b[38;5;152mG\u001b[0;00m\u001b[38;5;188m@\u001b[0;00m\u001b[38;5;224m@\u001b[0;00m\u001b[38;5;230m@\u001b[0;00m\u001b[38;5;188m@\u001b[0;00m\u001b[38;5;194m@\u001b[0;00m\u001b[38;5;194m@\u001b[0;00m\u001b[38;5;194m@\u001b[0;00m\u001b[38;5;194m@\u001b[0;00m\u001b[38;5;194m@\u001b[0;00m\u001b[38;5;194m@\u001b[0;00m\u001b[38;5;231m@\u001b[0;00m\u001b[38;5;231m@\u001b[0;00m\u001b[38;5;231m@\u001b[0;00m\u001b[38;5;231m@\u001b[0;00m\u001b[38;5;231m@\u001b[0;00m\u001b[38;5;231m@\u001b[0;00m\u001b[38;5;231m@\u001b[0;00m\u001b[38;5;231m@\u001b[0;00m\u001b[38;5;231m@\u001b[0;00m\u001b[38;5;231m@\u001b[0;00m\u001b[38;5;231m@\u001b[0;00m\u001b[38;5;231m@\u001b[0;00m\u001b[38;5;231m@\u001b[0;00m\u001b[38;5;231m@\u001b[0;00m\u001b[38;5;231m@\u001b[0;00m\u001b[38;5;231m@\u001b[0;00m\u001b[38;5;231m@\u001b[0;00m\u001b[38;5;231m@\u001b[0;00m\u001b[38;5;194m@\u001b[0;00m\u001b[38;5;194m@\u001b[0;00m\u001b[38;5;194m@\u001b[0;00m\u001b[38;5;194m@\u001b[0;00m\u001b[38;5;194m@\u001b[0;00m\u001b[38;5;194m@\u001b[0;00m\u001b[38;5;194m@\u001b[0;00m\u001b[38;5;231m@\u001b[0;00m\u001b[38;5;225m@\u001b[0;00m\u001b[38;5;188m@\u001b[0;00m\u001b[38;5;151mG\u001b[0;00m\u001b[38;5;107mt\u001b[0;00m\u001b[38;5;70mi\u001b[0;00m\u001b[38;5;106m1\u001b[0;00m\u001b[38;5;106m1\u001b[0;00m\u001b[38;5;106m1\u001b[0;00m\u001b[38;5;106m1\u001b[0;00m\u001b[38;5;106m1\u001b[0;00m\u001b[38;5;106m1\u001b[0;00m\u001b[38;5;70mi\u001b[0;00m\u001b[38;5;106m1\u001b[0;00m\u001b[38;5;151mG\u001b[0;00m\u001b[38;5;225m@\u001b[0;00m\u001b[38;5;194m@\u001b[0;00m\u001b[38;5;194m@\u001b[0;00m\u001b[38;5;231m@\u001b[0;00m\u001b[38;5;231m@\u001b[0;00m\n",
      "\u001b[38;5;231m@\u001b[0;00m\u001b[38;5;194m@\u001b[0;00m\u001b[38;5;194m@\u001b[0;00m\u001b[38;5;188m@\u001b[0;00m\u001b[38;5;110mC\u001b[0;00m\u001b[38;5;32m1\u001b[0;00m\u001b[38;5;32mt\u001b[0;00m\u001b[38;5;32mt\u001b[0;00m\u001b[38;5;32mt\u001b[0;00m\u001b[38;5;32mt\u001b[0;00m\u001b[38;5;32mt\u001b[0;00m\u001b[38;5;32mt\u001b[0;00m\u001b[38;5;32mt\u001b[0;00m\u001b[38;5;32mt\u001b[0;00m\u001b[38;5;110mC\u001b[0;00m\u001b[38;5;188m@\u001b[0;00m\u001b[38;5;224m@\u001b[0;00m\u001b[38;5;194m@\u001b[0;00m\u001b[38;5;194m@\u001b[0;00m\u001b[38;5;194m@\u001b[0;00m\u001b[38;5;188m@\u001b[0;00m\u001b[38;5;194m@\u001b[0;00m\u001b[38;5;194m@\u001b[0;00m\u001b[38;5;194m@\u001b[0;00m\u001b[38;5;231m@\u001b[0;00m\u001b[38;5;231m@\u001b[0;00m\u001b[38;5;231m@\u001b[0;00m\u001b[38;5;231m@\u001b[0;00m\u001b[38;5;231m@\u001b[0;00m\u001b[38;5;231m@\u001b[0;00m\u001b[38;5;231m@\u001b[0;00m\u001b[38;5;231m@\u001b[0;00m\u001b[38;5;231m@\u001b[0;00m\u001b[38;5;231m@\u001b[0;00m\u001b[38;5;231m@\u001b[0;00m\u001b[38;5;231m@\u001b[0;00m\u001b[38;5;231m@\u001b[0;00m\u001b[38;5;231m@\u001b[0;00m\u001b[38;5;231m@\u001b[0;00m\u001b[38;5;231m@\u001b[0;00m\u001b[38;5;231m@\u001b[0;00m\u001b[38;5;231m@\u001b[0;00m\u001b[38;5;231m@\u001b[0;00m\u001b[38;5;231m@\u001b[0;00m\u001b[38;5;231m@\u001b[0;00m\u001b[38;5;231m@\u001b[0;00m\u001b[38;5;231m@\u001b[0;00m\u001b[38;5;231m@\u001b[0;00m\u001b[38;5;194m@\u001b[0;00m\u001b[38;5;194m@\u001b[0;00m\u001b[38;5;194m@\u001b[0;00m\u001b[38;5;188m@\u001b[0;00m\u001b[38;5;194m@\u001b[0;00m\u001b[38;5;194m@\u001b[0;00m\u001b[38;5;194m@\u001b[0;00m\u001b[38;5;225m@\u001b[0;00m\u001b[38;5;188m@\u001b[0;00m\u001b[38;5;150mC\u001b[0;00m\u001b[38;5;106m1\u001b[0;00m\u001b[38;5;70mi\u001b[0;00m\u001b[38;5;106m1\u001b[0;00m\u001b[38;5;106m1\u001b[0;00m\u001b[38;5;106m1\u001b[0;00m\u001b[38;5;106m1\u001b[0;00m\u001b[38;5;106m1\u001b[0;00m\u001b[38;5;106mi\u001b[0;00m\u001b[38;5;70mi\u001b[0;00m\u001b[38;5;150mL\u001b[0;00m\u001b[38;5;188m@\u001b[0;00m\u001b[38;5;194m@\u001b[0;00m\u001b[38;5;194m@\u001b[0;00m\u001b[38;5;230m@\u001b[0;00m\n",
      "\u001b[38;5;231m@\u001b[0;00m\u001b[38;5;194m@\u001b[0;00m\u001b[38;5;188m@\u001b[0;00m\u001b[38;5;188m@\u001b[0;00m\u001b[38;5;110mC\u001b[0;00m\u001b[38;5;74mL\u001b[0;00m\u001b[38;5;38mf\u001b[0;00m\u001b[38;5;32mt\u001b[0;00m\u001b[38;5;32mt\u001b[0;00m\u001b[38;5;32mt\u001b[0;00m\u001b[38;5;32mt\u001b[0;00m\u001b[38;5;32mt\u001b[0;00m\u001b[38;5;38mf\u001b[0;00m\u001b[38;5;152m8\u001b[0;00m\u001b[38;5;224m@\u001b[0;00m\u001b[38;5;194m@\u001b[0;00m\u001b[38;5;188m@\u001b[0;00m\u001b[38;5;194m@\u001b[0;00m\u001b[38;5;230m@\u001b[0;00m\u001b[38;5;194m@\u001b[0;00m\u001b[38;5;194m@\u001b[0;00m\u001b[38;5;231m@\u001b[0;00m\u001b[38;5;231m@\u001b[0;00m\u001b[38;5;231m@\u001b[0;00m\u001b[38;5;231m@\u001b[0;00m\u001b[38;5;231m@\u001b[0;00m\u001b[38;5;231m@\u001b[0;00m\u001b[38;5;188m@\u001b[0;00m\u001b[38;5;231m@\u001b[0;00m\u001b[38;5;188m@\u001b[0;00m\u001b[38;5;188m@\u001b[0;00m\u001b[38;5;188m@\u001b[0;00m\u001b[38;5;188m@\u001b[0;00m\u001b[38;5;188m@\u001b[0;00m\u001b[38;5;188m@\u001b[0;00m\u001b[38;5;188m@\u001b[0;00m\u001b[38;5;188m@\u001b[0;00m\u001b[38;5;188m@\u001b[0;00m\u001b[38;5;188m@\u001b[0;00m\u001b[38;5;188m@\u001b[0;00m\u001b[38;5;188m@\u001b[0;00m\u001b[38;5;188m@\u001b[0;00m\u001b[38;5;188m@\u001b[0;00m\u001b[38;5;188m@\u001b[0;00m\u001b[38;5;188m@\u001b[0;00m\u001b[38;5;231m@\u001b[0;00m\u001b[38;5;231m@\u001b[0;00m\u001b[38;5;231m@\u001b[0;00m\u001b[38;5;231m@\u001b[0;00m\u001b[38;5;231m@\u001b[0;00m\u001b[38;5;195m@\u001b[0;00m\u001b[38;5;194m@\u001b[0;00m\u001b[38;5;194m@\u001b[0;00m\u001b[38;5;231m@\u001b[0;00m\u001b[38;5;194m@\u001b[0;00m\u001b[38;5;194m@\u001b[0;00m\u001b[38;5;194m@\u001b[0;00m\u001b[38;5;225m@\u001b[0;00m\u001b[38;5;188m8\u001b[0;00m\u001b[38;5;107mt\u001b[0;00m\u001b[38;5;70mi\u001b[0;00m\u001b[38;5;70mi\u001b[0;00m\u001b[38;5;70mi\u001b[0;00m\u001b[38;5;70mi\u001b[0;00m\u001b[38;5;106m1\u001b[0;00m\u001b[38;5;106mt\u001b[0;00m\u001b[38;5;107mf\u001b[0;00m\u001b[38;5;150mL\u001b[0;00m\u001b[38;5;188m8\u001b[0;00m\u001b[38;5;188m@\u001b[0;00m\u001b[38;5;194m@\u001b[0;00m\u001b[38;5;195m@\u001b[0;00m\n",
      "\u001b[38;5;188m@\u001b[0;00m\u001b[38;5;231m@\u001b[0;00m\u001b[38;5;195m@\u001b[0;00m\u001b[38;5;230m@\u001b[0;00m\u001b[38;5;224m@\u001b[0;00m\u001b[38;5;224m@\u001b[0;00m\u001b[38;5;188m@\u001b[0;00m\u001b[38;5;188m8\u001b[0;00m\u001b[38;5;152m0\u001b[0;00m\u001b[38;5;110mC\u001b[0;00m\u001b[38;5;74mf\u001b[0;00m\u001b[38;5;74mL\u001b[0;00m\u001b[38;5;188m@\u001b[0;00m\u001b[38;5;224m@\u001b[0;00m\u001b[38;5;194m@\u001b[0;00m\u001b[38;5;194m@\u001b[0;00m\u001b[38;5;230m@\u001b[0;00m\u001b[38;5;194m@\u001b[0;00m\u001b[38;5;194m@\u001b[0;00m\u001b[38;5;231m@\u001b[0;00m\u001b[38;5;231m@\u001b[0;00m\u001b[38;5;231m@\u001b[0;00m\u001b[38;5;231m@\u001b[0;00m\u001b[38;5;231m@\u001b[0;00m\u001b[38;5;231m@\u001b[0;00m\u001b[38;5;231m@\u001b[0;00m\u001b[38;5;231m@\u001b[0;00m\u001b[38;5;231m@\u001b[0;00m\u001b[38;5;188m@\u001b[0;00m\u001b[38;5;231m@\u001b[0;00m\u001b[38;5;231m@\u001b[0;00m\u001b[38;5;231m@\u001b[0;00m\u001b[38;5;231m@\u001b[0;00m\u001b[38;5;231m@\u001b[0;00m\u001b[38;5;231m@\u001b[0;00m\u001b[38;5;231m@\u001b[0;00m\u001b[38;5;231m@\u001b[0;00m\u001b[38;5;231m@\u001b[0;00m\u001b[38;5;231m@\u001b[0;00m\u001b[38;5;231m@\u001b[0;00m\u001b[38;5;231m@\u001b[0;00m\u001b[38;5;231m@\u001b[0;00m\u001b[38;5;231m@\u001b[0;00m\u001b[38;5;231m@\u001b[0;00m\u001b[38;5;231m@\u001b[0;00m\u001b[38;5;231m@\u001b[0;00m\u001b[38;5;231m@\u001b[0;00m\u001b[38;5;231m@\u001b[0;00m\u001b[38;5;231m@\u001b[0;00m\u001b[38;5;231m@\u001b[0;00m\u001b[38;5;231m@\u001b[0;00m\u001b[38;5;231m@\u001b[0;00m\u001b[38;5;231m@\u001b[0;00m\u001b[38;5;194m@\u001b[0;00m\u001b[38;5;194m@\u001b[0;00m\u001b[38;5;231m@\u001b[0;00m\u001b[38;5;194m@\u001b[0;00m\u001b[38;5;194m@\u001b[0;00m\u001b[38;5;231m@\u001b[0;00m\u001b[38;5;188m@\u001b[0;00m\u001b[38;5;107mf\u001b[0;00m\u001b[38;5;107mt\u001b[0;00m\u001b[38;5;150mL\u001b[0;00m\u001b[38;5;151mG\u001b[0;00m\u001b[38;5;188m8\u001b[0;00m\u001b[38;5;188m@\u001b[0;00m\u001b[38;5;225m@\u001b[0;00m\u001b[38;5;189m@\u001b[0;00m\u001b[38;5;195m@\u001b[0;00m\u001b[38;5;195m@\u001b[0;00m\u001b[38;5;195m@\u001b[0;00m\u001b[38;5;194m@\u001b[0;00m\n",
      "\u001b[38;5;188m@\u001b[0;00m\u001b[38;5;188m@\u001b[0;00m\u001b[38;5;145mG\u001b[0;00m\u001b[38;5;188m0\u001b[0;00m\u001b[38;5;188m8\u001b[0;00m\u001b[38;5;188m@\u001b[0;00m\u001b[38;5;230m@\u001b[0;00m\u001b[38;5;230m@\u001b[0;00m\u001b[38;5;224m@\u001b[0;00m\u001b[38;5;224m@\u001b[0;00m\u001b[38;5;230m@\u001b[0;00m\u001b[38;5;230m@\u001b[0;00m\u001b[38;5;230m@\u001b[0;00m\u001b[38;5;194m@\u001b[0;00m\u001b[38;5;230m@\u001b[0;00m\u001b[38;5;194m@\u001b[0;00m\u001b[38;5;194m@\u001b[0;00m\u001b[38;5;231m@\u001b[0;00m\u001b[38;5;231m@\u001b[0;00m\u001b[38;5;231m@\u001b[0;00m\u001b[38;5;231m@\u001b[0;00m\u001b[38;5;231m@\u001b[0;00m\u001b[38;5;231m@\u001b[0;00m\u001b[38;5;231m@\u001b[0;00m\u001b[38;5;231m@\u001b[0;00m\u001b[38;5;231m@\u001b[0;00m\u001b[38;5;188m@\u001b[0;00m\u001b[38;5;188m@\u001b[0;00m\u001b[38;5;231m@\u001b[0;00m\u001b[38;5;188m8\u001b[0;00m\u001b[38;5;145mL\u001b[0;00m\u001b[38;5;145mC\u001b[0;00m\u001b[38;5;145mC\u001b[0;00m\u001b[38;5;145mC\u001b[0;00m\u001b[38;5;145mC\u001b[0;00m\u001b[38;5;145mC\u001b[0;00m\u001b[38;5;145mC\u001b[0;00m\u001b[38;5;145mC\u001b[0;00m\u001b[38;5;145mC\u001b[0;00m\u001b[38;5;145mC\u001b[0;00m\u001b[38;5;145mC\u001b[0;00m\u001b[38;5;145mC\u001b[0;00m\u001b[38;5;188m@\u001b[0;00m\u001b[38;5;188m@\u001b[0;00m\u001b[38;5;188m@\u001b[0;00m\u001b[38;5;188m@\u001b[0;00m\u001b[38;5;231m@\u001b[0;00m\u001b[38;5;231m@\u001b[0;00m\u001b[38;5;231m@\u001b[0;00m\u001b[38;5;231m@\u001b[0;00m\u001b[38;5;231m@\u001b[0;00m\u001b[38;5;231m@\u001b[0;00m\u001b[38;5;231m@\u001b[0;00m\u001b[38;5;231m@\u001b[0;00m\u001b[38;5;231m@\u001b[0;00m\u001b[38;5;194m@\u001b[0;00m\u001b[38;5;231m@\u001b[0;00m\u001b[38;5;231m@\u001b[0;00m\u001b[38;5;194m@\u001b[0;00m\u001b[38;5;231m@\u001b[0;00m\u001b[38;5;231m@\u001b[0;00m\u001b[38;5;231m@\u001b[0;00m\u001b[38;5;225m@\u001b[0;00m\u001b[38;5;189m@\u001b[0;00m\u001b[38;5;195m@\u001b[0;00m\u001b[38;5;195m@\u001b[0;00m\u001b[38;5;194m@\u001b[0;00m\u001b[38;5;188m8\u001b[0;00m\u001b[38;5;187m0\u001b[0;00m\u001b[38;5;180mG\u001b[0;00m\u001b[38;5;188m8\u001b[0;00m\u001b[38;5;195m@\u001b[0;00m\n"
     ]
    },
    {
     "name": "stdout",
     "output_type": "stream",
     "text": [
      "\u001b[38;5;231m@\u001b[0;00m\u001b[38;5;145mG\u001b[0;00m\u001b[38;5;102mt\u001b[0;00m\u001b[38;5;102mf\u001b[0;00m\u001b[38;5;102mf\u001b[0;00m\u001b[38;5;145mL\u001b[0;00m\u001b[38;5;145mC\u001b[0;00m\u001b[38;5;152mG\u001b[0;00m\u001b[38;5;188m8\u001b[0;00m\u001b[38;5;188m8\u001b[0;00m\u001b[38;5;194m@\u001b[0;00m\u001b[38;5;194m@\u001b[0;00m\u001b[38;5;194m@\u001b[0;00m\u001b[38;5;230m@\u001b[0;00m\u001b[38;5;194m@\u001b[0;00m\u001b[38;5;194m@\u001b[0;00m\u001b[38;5;231m@\u001b[0;00m\u001b[38;5;231m@\u001b[0;00m\u001b[38;5;231m@\u001b[0;00m\u001b[38;5;231m@\u001b[0;00m\u001b[38;5;231m@\u001b[0;00m\u001b[38;5;231m@\u001b[0;00m\u001b[38;5;231m@\u001b[0;00m\u001b[38;5;231m@\u001b[0;00m\u001b[38;5;231m@\u001b[0;00m\u001b[38;5;231m@\u001b[0;00m\u001b[38;5;188m@\u001b[0;00m\u001b[38;5;188m@\u001b[0;00m\u001b[38;5;188m@\u001b[0;00m\u001b[38;5;255m8\u001b[0;00m\u001b[38;5;59m:\u001b[0;00m\u001b[38;5;16m \u001b[0;00m\u001b[38;5;16m \u001b[0;00m\u001b[38;5;16m \u001b[0;00m\u001b[38;5;16m \u001b[0;00m\u001b[38;5;16m \u001b[0;00m\u001b[38;5;16m \u001b[0;00m\u001b[38;5;16m \u001b[0;00m\u001b[38;5;16m \u001b[0;00m\u001b[38;5;16m \u001b[0;00m\u001b[38;5;16m \u001b[0;00m\u001b[38;5;145mL\u001b[0;00m\u001b[38;5;188m@\u001b[0;00m\u001b[38;5;188m@\u001b[0;00m\u001b[38;5;188m@\u001b[0;00m\u001b[38;5;188m@\u001b[0;00m\u001b[38;5;231m@\u001b[0;00m\u001b[38;5;231m@\u001b[0;00m\u001b[38;5;231m@\u001b[0;00m\u001b[38;5;231m@\u001b[0;00m\u001b[38;5;231m@\u001b[0;00m\u001b[38;5;231m@\u001b[0;00m\u001b[38;5;231m@\u001b[0;00m\u001b[38;5;231m@\u001b[0;00m\u001b[38;5;231m@\u001b[0;00m\u001b[38;5;231m@\u001b[0;00m\u001b[38;5;194m@\u001b[0;00m\u001b[38;5;194m@\u001b[0;00m\u001b[38;5;231m@\u001b[0;00m\u001b[38;5;194m@\u001b[0;00m\u001b[38;5;194m@\u001b[0;00m\u001b[38;5;194m@\u001b[0;00m\u001b[38;5;188m8\u001b[0;00m\u001b[38;5;187m8\u001b[0;00m\u001b[38;5;186mG\u001b[0;00m\u001b[38;5;180mC\u001b[0;00m\u001b[38;5;179mL\u001b[0;00m\u001b[38;5;172mf\u001b[0;00m\u001b[38;5;172mt\u001b[0;00m\u001b[38;5;172mt\u001b[0;00m\u001b[38;5;179mC\u001b[0;00m\u001b[38;5;195m@\u001b[0;00m\n",
      "\u001b[38;5;188m@\u001b[0;00m\u001b[38;5;145mL\u001b[0;00m\u001b[38;5;102mf\u001b[0;00m\u001b[38;5;102mf\u001b[0;00m\u001b[38;5;102mf\u001b[0;00m\u001b[38;5;102mf\u001b[0;00m\u001b[38;5;102mf\u001b[0;00m\u001b[38;5;102mf\u001b[0;00m\u001b[38;5;102mf\u001b[0;00m\u001b[38;5;145mG\u001b[0;00m\u001b[38;5;194m@\u001b[0;00m\u001b[38;5;188m@\u001b[0;00m\u001b[38;5;194m@\u001b[0;00m\u001b[38;5;194m@\u001b[0;00m\u001b[38;5;194m@\u001b[0;00m\u001b[38;5;231m@\u001b[0;00m\u001b[38;5;231m@\u001b[0;00m\u001b[38;5;231m@\u001b[0;00m\u001b[38;5;231m@\u001b[0;00m\u001b[38;5;231m@\u001b[0;00m\u001b[38;5;231m@\u001b[0;00m\u001b[38;5;231m@\u001b[0;00m\u001b[38;5;231m@\u001b[0;00m\u001b[38;5;231m@\u001b[0;00m\u001b[38;5;231m@\u001b[0;00m\u001b[38;5;188m@\u001b[0;00m\u001b[38;5;231m@\u001b[0;00m\u001b[38;5;188m@\u001b[0;00m\u001b[38;5;231m@\u001b[0;00m\u001b[38;5;188m@\u001b[0;00m\u001b[38;5;59m:\u001b[0;00m\u001b[38;5;16m \u001b[0;00m\u001b[38;5;16m \u001b[0;00m\u001b[38;5;16m \u001b[0;00m\u001b[38;5;16m \u001b[0;00m\u001b[38;5;16m \u001b[0;00m\u001b[38;5;16m \u001b[0;00m\u001b[38;5;16m \u001b[0;00m\u001b[38;5;16m \u001b[0;00m\u001b[38;5;16m \u001b[0;00m\u001b[38;5;16m \u001b[0;00m\u001b[38;5;102mf\u001b[0;00m\u001b[38;5;231m@\u001b[0;00m\u001b[38;5;188m@\u001b[0;00m\u001b[38;5;188m@\u001b[0;00m\u001b[38;5;231m@\u001b[0;00m\u001b[38;5;188m@\u001b[0;00m\u001b[38;5;231m@\u001b[0;00m\u001b[38;5;231m@\u001b[0;00m\u001b[38;5;231m@\u001b[0;00m\u001b[38;5;231m@\u001b[0;00m\u001b[38;5;231m@\u001b[0;00m\u001b[38;5;231m@\u001b[0;00m\u001b[38;5;231m@\u001b[0;00m\u001b[38;5;231m@\u001b[0;00m\u001b[38;5;231m@\u001b[0;00m\u001b[38;5;231m@\u001b[0;00m\u001b[38;5;194m@\u001b[0;00m\u001b[38;5;194m@\u001b[0;00m\u001b[38;5;194m@\u001b[0;00m\u001b[38;5;194m@\u001b[0;00m\u001b[38;5;195m@\u001b[0;00m\u001b[38;5;180mG\u001b[0;00m\u001b[38;5;172mt\u001b[0;00m\u001b[38;5;172mt\u001b[0;00m\u001b[38;5;172mt\u001b[0;00m\u001b[38;5;172mt\u001b[0;00m\u001b[38;5;172mf\u001b[0;00m\u001b[38;5;172mf\u001b[0;00m\u001b[38;5;172mf\u001b[0;00m\u001b[38;5;172mf\u001b[0;00m\u001b[38;5;188m8\u001b[0;00m\n",
      "\u001b[38;5;253m0\u001b[0;00m\u001b[38;5;102mf\u001b[0;00m\u001b[38;5;102mf\u001b[0;00m\u001b[38;5;102mf\u001b[0;00m\u001b[38;5;102mf\u001b[0;00m\u001b[38;5;102mf\u001b[0;00m\u001b[38;5;102mf\u001b[0;00m\u001b[38;5;102mf\u001b[0;00m\u001b[38;5;246mf\u001b[0;00m\u001b[38;5;188m8\u001b[0;00m\u001b[38;5;231m@\u001b[0;00m\u001b[38;5;188m@\u001b[0;00m\u001b[38;5;231m@\u001b[0;00m\u001b[38;5;231m@\u001b[0;00m\u001b[38;5;231m@\u001b[0;00m\u001b[38;5;231m@\u001b[0;00m\u001b[38;5;231m@\u001b[0;00m\u001b[38;5;231m@\u001b[0;00m\u001b[38;5;231m@\u001b[0;00m\u001b[38;5;231m@\u001b[0;00m\u001b[38;5;231m@\u001b[0;00m\u001b[38;5;231m@\u001b[0;00m\u001b[38;5;231m@\u001b[0;00m\u001b[38;5;231m@\u001b[0;00m\u001b[38;5;188m@\u001b[0;00m\u001b[38;5;231m@\u001b[0;00m\u001b[38;5;188m@\u001b[0;00m\u001b[38;5;188m@\u001b[0;00m\u001b[38;5;188m@\u001b[0;00m\u001b[38;5;59m:\u001b[0;00m\u001b[38;5;16m \u001b[0;00m\u001b[38;5;16m \u001b[0;00m\u001b[38;5;16m \u001b[0;00m\u001b[38;5;16m \u001b[0;00m\u001b[38;5;16m \u001b[0;00m\u001b[38;5;16m \u001b[0;00m\u001b[38;5;16m \u001b[0;00m\u001b[38;5;16m \u001b[0;00m\u001b[38;5;16m \u001b[0;00m\u001b[38;5;16m \u001b[0;00m\u001b[38;5;16m \u001b[0;00m\u001b[38;5;16m \u001b[0;00m\u001b[38;5;102mf\u001b[0;00m\u001b[38;5;231m@\u001b[0;00m\u001b[38;5;188m@\u001b[0;00m\u001b[38;5;188m@\u001b[0;00m\u001b[38;5;231m@\u001b[0;00m\u001b[38;5;188m@\u001b[0;00m\u001b[38;5;231m@\u001b[0;00m\u001b[38;5;231m@\u001b[0;00m\u001b[38;5;231m@\u001b[0;00m\u001b[38;5;231m@\u001b[0;00m\u001b[38;5;231m@\u001b[0;00m\u001b[38;5;231m@\u001b[0;00m\u001b[38;5;231m@\u001b[0;00m\u001b[38;5;231m@\u001b[0;00m\u001b[38;5;231m@\u001b[0;00m\u001b[38;5;231m@\u001b[0;00m\u001b[38;5;231m@\u001b[0;00m\u001b[38;5;231m@\u001b[0;00m\u001b[38;5;188m@\u001b[0;00m\u001b[38;5;195m@\u001b[0;00m\u001b[38;5;188m8\u001b[0;00m\u001b[38;5;172mf\u001b[0;00m\u001b[38;5;172mf\u001b[0;00m\u001b[38;5;172mf\u001b[0;00m\u001b[38;5;172mf\u001b[0;00m\u001b[38;5;172mf\u001b[0;00m\u001b[38;5;172mf\u001b[0;00m\u001b[38;5;172mf\u001b[0;00m\u001b[38;5;172mt\u001b[0;00m\u001b[38;5;187m0\u001b[0;00m\n",
      "\u001b[38;5;145mG\u001b[0;00m\u001b[38;5;102mf\u001b[0;00m\u001b[38;5;102mf\u001b[0;00m\u001b[38;5;102mf\u001b[0;00m\u001b[38;5;102mf\u001b[0;00m\u001b[38;5;102mf\u001b[0;00m\u001b[38;5;102mf\u001b[0;00m\u001b[38;5;102mf\u001b[0;00m\u001b[38;5;145mL\u001b[0;00m\u001b[38;5;188m@\u001b[0;00m\u001b[38;5;188m@\u001b[0;00m\u001b[38;5;188m@\u001b[0;00m\u001b[38;5;188m@\u001b[0;00m\u001b[38;5;231m@\u001b[0;00m\u001b[38;5;231m@\u001b[0;00m\u001b[38;5;231m@\u001b[0;00m\u001b[38;5;231m@\u001b[0;00m\u001b[38;5;231m@\u001b[0;00m\u001b[38;5;231m@\u001b[0;00m\u001b[38;5;231m@\u001b[0;00m\u001b[38;5;231m@\u001b[0;00m\u001b[38;5;231m@\u001b[0;00m\u001b[38;5;231m@\u001b[0;00m\u001b[38;5;188m@\u001b[0;00m\u001b[38;5;231m@\u001b[0;00m\u001b[38;5;188m@\u001b[0;00m\u001b[38;5;188m@\u001b[0;00m\u001b[38;5;188m@\u001b[0;00m\u001b[38;5;59m;\u001b[0;00m\u001b[38;5;16m \u001b[0;00m\u001b[38;5;16m \u001b[0;00m\u001b[38;5;16m \u001b[0;00m\u001b[38;5;16m \u001b[0;00m\u001b[38;5;16m \u001b[0;00m\u001b[38;5;16m \u001b[0;00m\u001b[38;5;16m \u001b[0;00m\u001b[38;5;16m \u001b[0;00m\u001b[38;5;16m \u001b[0;00m\u001b[38;5;16m \u001b[0;00m\u001b[38;5;16m \u001b[0;00m\u001b[38;5;16m \u001b[0;00m\u001b[38;5;16m \u001b[0;00m\u001b[38;5;16m \u001b[0;00m\u001b[38;5;145mL\u001b[0;00m\u001b[38;5;231m@\u001b[0;00m\u001b[38;5;188m@\u001b[0;00m\u001b[38;5;188m@\u001b[0;00m\u001b[38;5;231m@\u001b[0;00m\u001b[38;5;188m@\u001b[0;00m\u001b[38;5;231m@\u001b[0;00m\u001b[38;5;231m@\u001b[0;00m\u001b[38;5;231m@\u001b[0;00m\u001b[38;5;231m@\u001b[0;00m\u001b[38;5;231m@\u001b[0;00m\u001b[38;5;231m@\u001b[0;00m\u001b[38;5;231m@\u001b[0;00m\u001b[38;5;231m@\u001b[0;00m\u001b[38;5;231m@\u001b[0;00m\u001b[38;5;231m@\u001b[0;00m\u001b[38;5;194m@\u001b[0;00m\u001b[38;5;194m@\u001b[0;00m\u001b[38;5;194m@\u001b[0;00m\u001b[38;5;195m@\u001b[0;00m\u001b[38;5;179mL\u001b[0;00m\u001b[38;5;172mt\u001b[0;00m\u001b[38;5;172mf\u001b[0;00m\u001b[38;5;172mf\u001b[0;00m\u001b[38;5;172mf\u001b[0;00m\u001b[38;5;172mf\u001b[0;00m\u001b[38;5;172mf\u001b[0;00m\u001b[38;5;172mt\u001b[0;00m\u001b[38;5;180mC\u001b[0;00m\n",
      "\u001b[38;5;145mG\u001b[0;00m\u001b[38;5;102mf\u001b[0;00m\u001b[38;5;102mf\u001b[0;00m\u001b[38;5;102mf\u001b[0;00m\u001b[38;5;102mf\u001b[0;00m\u001b[38;5;102mf\u001b[0;00m\u001b[38;5;102mf\u001b[0;00m\u001b[38;5;102mf\u001b[0;00m\u001b[38;5;145mC\u001b[0;00m\u001b[38;5;231m@\u001b[0;00m\u001b[38;5;188m@\u001b[0;00m\u001b[38;5;188m@\u001b[0;00m\u001b[38;5;231m@\u001b[0;00m\u001b[38;5;231m@\u001b[0;00m\u001b[38;5;231m@\u001b[0;00m\u001b[38;5;231m@\u001b[0;00m\u001b[38;5;231m@\u001b[0;00m\u001b[38;5;231m@\u001b[0;00m\u001b[38;5;231m@\u001b[0;00m\u001b[38;5;231m@\u001b[0;00m\u001b[38;5;231m@\u001b[0;00m\u001b[38;5;231m@\u001b[0;00m\u001b[38;5;188m@\u001b[0;00m\u001b[38;5;231m@\u001b[0;00m\u001b[38;5;188m@\u001b[0;00m\u001b[38;5;188m@\u001b[0;00m\u001b[38;5;231m@\u001b[0;00m\u001b[38;5;59mi\u001b[0;00m\u001b[38;5;16m \u001b[0;00m\u001b[38;5;16m \u001b[0;00m\u001b[38;5;16m \u001b[0;00m\u001b[38;5;16m \u001b[0;00m\u001b[38;5;16m \u001b[0;00m\u001b[38;5;16m \u001b[0;00m\u001b[38;5;16m \u001b[0;00m\u001b[38;5;16m \u001b[0;00m\u001b[38;5;16m \u001b[0;00m\u001b[38;5;16m \u001b[0;00m\u001b[38;5;16m \u001b[0;00m\u001b[38;5;16m \u001b[0;00m\u001b[38;5;16m \u001b[0;00m\u001b[38;5;16m \u001b[0;00m\u001b[38;5;16m \u001b[0;00m\u001b[38;5;16m \u001b[0;00m\u001b[38;5;145mC\u001b[0;00m\u001b[38;5;231m@\u001b[0;00m\u001b[38;5;188m@\u001b[0;00m\u001b[38;5;188m@\u001b[0;00m\u001b[38;5;188m@\u001b[0;00m\u001b[38;5;188m@\u001b[0;00m\u001b[38;5;231m@\u001b[0;00m\u001b[38;5;231m@\u001b[0;00m\u001b[38;5;231m@\u001b[0;00m\u001b[38;5;231m@\u001b[0;00m\u001b[38;5;231m@\u001b[0;00m\u001b[38;5;231m@\u001b[0;00m\u001b[38;5;231m@\u001b[0;00m\u001b[38;5;231m@\u001b[0;00m\u001b[38;5;231m@\u001b[0;00m\u001b[38;5;231m@\u001b[0;00m\u001b[38;5;188m@\u001b[0;00m\u001b[38;5;188m@\u001b[0;00m\u001b[38;5;195m@\u001b[0;00m\u001b[38;5;179mL\u001b[0;00m\u001b[38;5;172mt\u001b[0;00m\u001b[38;5;172mf\u001b[0;00m\u001b[38;5;172mf\u001b[0;00m\u001b[38;5;172mf\u001b[0;00m\u001b[38;5;172mf\u001b[0;00m\u001b[38;5;172mf\u001b[0;00m\u001b[38;5;172mt\u001b[0;00m\u001b[38;5;180mC\u001b[0;00m\n",
      "\u001b[38;5;145mG\u001b[0;00m\u001b[38;5;102mf\u001b[0;00m\u001b[38;5;102mf\u001b[0;00m\u001b[38;5;102mf\u001b[0;00m\u001b[38;5;102mf\u001b[0;00m\u001b[38;5;102mf\u001b[0;00m\u001b[38;5;102mf\u001b[0;00m\u001b[38;5;102mf\u001b[0;00m\u001b[38;5;145mL\u001b[0;00m\u001b[38;5;188m@\u001b[0;00m\u001b[38;5;188m@\u001b[0;00m\u001b[38;5;188m@\u001b[0;00m\u001b[38;5;188m@\u001b[0;00m\u001b[38;5;231m@\u001b[0;00m\u001b[38;5;231m@\u001b[0;00m\u001b[38;5;231m@\u001b[0;00m\u001b[38;5;231m@\u001b[0;00m\u001b[38;5;231m@\u001b[0;00m\u001b[38;5;231m@\u001b[0;00m\u001b[38;5;231m@\u001b[0;00m\u001b[38;5;231m@\u001b[0;00m\u001b[38;5;188m@\u001b[0;00m\u001b[38;5;231m@\u001b[0;00m\u001b[38;5;188m@\u001b[0;00m\u001b[38;5;188m@\u001b[0;00m\u001b[38;5;231m@\u001b[0;00m\u001b[38;5;102mt\u001b[0;00m\u001b[38;5;16m \u001b[0;00m\u001b[38;5;16m \u001b[0;00m\u001b[38;5;16m \u001b[0;00m\u001b[38;5;16m \u001b[0;00m\u001b[38;5;16m \u001b[0;00m\u001b[38;5;16m \u001b[0;00m\u001b[38;5;16m \u001b[0;00m\u001b[38;5;16m \u001b[0;00m\u001b[38;5;243mt\u001b[0;00m\u001b[38;5;16m.\u001b[0;00m\u001b[38;5;16m \u001b[0;00m\u001b[38;5;16m \u001b[0;00m\u001b[38;5;16m \u001b[0;00m\u001b[38;5;16m \u001b[0;00m\u001b[38;5;16m \u001b[0;00m\u001b[38;5;16m \u001b[0;00m\u001b[38;5;16m \u001b[0;00m\u001b[38;5;232m \u001b[0;00m\u001b[38;5;145mG\u001b[0;00m\u001b[38;5;231m@\u001b[0;00m\u001b[38;5;188m@\u001b[0;00m\u001b[38;5;231m@\u001b[0;00m\u001b[38;5;188m@\u001b[0;00m\u001b[38;5;188m@\u001b[0;00m\u001b[38;5;231m@\u001b[0;00m\u001b[38;5;231m@\u001b[0;00m\u001b[38;5;231m@\u001b[0;00m\u001b[38;5;231m@\u001b[0;00m\u001b[38;5;231m@\u001b[0;00m\u001b[38;5;231m@\u001b[0;00m\u001b[38;5;231m@\u001b[0;00m\u001b[38;5;231m@\u001b[0;00m\u001b[38;5;194m@\u001b[0;00m\u001b[38;5;194m@\u001b[0;00m\u001b[38;5;194m@\u001b[0;00m\u001b[38;5;195m@\u001b[0;00m\u001b[38;5;179mL\u001b[0;00m\u001b[38;5;172mt\u001b[0;00m\u001b[38;5;172mf\u001b[0;00m\u001b[38;5;172mf\u001b[0;00m\u001b[38;5;172mf\u001b[0;00m\u001b[38;5;172mf\u001b[0;00m\u001b[38;5;172mf\u001b[0;00m\u001b[38;5;172mt\u001b[0;00m\u001b[38;5;180mC\u001b[0;00m\n",
      "\u001b[38;5;188m0\u001b[0;00m\u001b[38;5;102mf\u001b[0;00m\u001b[38;5;102mf\u001b[0;00m\u001b[38;5;102mf\u001b[0;00m\u001b[38;5;102mf\u001b[0;00m\u001b[38;5;102mf\u001b[0;00m\u001b[38;5;102mf\u001b[0;00m\u001b[38;5;246mf\u001b[0;00m\u001b[38;5;102mf\u001b[0;00m\u001b[38;5;188m8\u001b[0;00m\u001b[38;5;188m@\u001b[0;00m\u001b[38;5;188m@\u001b[0;00m\u001b[38;5;231m@\u001b[0;00m\u001b[38;5;188m@\u001b[0;00m\u001b[38;5;231m@\u001b[0;00m\u001b[38;5;231m@\u001b[0;00m\u001b[38;5;231m@\u001b[0;00m\u001b[38;5;231m@\u001b[0;00m\u001b[38;5;231m@\u001b[0;00m\u001b[38;5;231m@\u001b[0;00m\u001b[38;5;188m@\u001b[0;00m\u001b[38;5;231m@\u001b[0;00m\u001b[38;5;188m@\u001b[0;00m\u001b[38;5;188m@\u001b[0;00m\u001b[38;5;231m@\u001b[0;00m\u001b[38;5;102mf\u001b[0;00m\u001b[38;5;16m \u001b[0;00m\u001b[38;5;16m \u001b[0;00m\u001b[38;5;16m \u001b[0;00m\u001b[38;5;16m \u001b[0;00m\u001b[38;5;16m \u001b[0;00m\u001b[38;5;16m \u001b[0;00m\u001b[38;5;16m \u001b[0;00m\u001b[38;5;16m \u001b[0;00m\u001b[38;5;102mf\u001b[0;00m\u001b[38;5;231m@\u001b[0;00m\u001b[38;5;145mC\u001b[0;00m\u001b[38;5;16m \u001b[0;00m\u001b[38;5;16m \u001b[0;00m\u001b[38;5;16m \u001b[0;00m\u001b[38;5;16m \u001b[0;00m\u001b[38;5;16m \u001b[0;00m\u001b[38;5;16m \u001b[0;00m\u001b[38;5;16m \u001b[0;00m\u001b[38;5;16m \u001b[0;00m\u001b[38;5;16m.\u001b[0;00m\u001b[38;5;188m0\u001b[0;00m\u001b[38;5;231m@\u001b[0;00m\u001b[38;5;188m@\u001b[0;00m\u001b[38;5;231m@\u001b[0;00m\u001b[38;5;188m@\u001b[0;00m\u001b[38;5;188m@\u001b[0;00m\u001b[38;5;231m@\u001b[0;00m\u001b[38;5;231m@\u001b[0;00m\u001b[38;5;231m@\u001b[0;00m\u001b[38;5;231m@\u001b[0;00m\u001b[38;5;231m@\u001b[0;00m\u001b[38;5;231m@\u001b[0;00m\u001b[38;5;194m@\u001b[0;00m\u001b[38;5;231m@\u001b[0;00m\u001b[38;5;194m@\u001b[0;00m\u001b[38;5;195m@\u001b[0;00m\u001b[38;5;188m@\u001b[0;00m\u001b[38;5;172mf\u001b[0;00m\u001b[38;5;172mf\u001b[0;00m\u001b[38;5;172mf\u001b[0;00m\u001b[38;5;172mf\u001b[0;00m\u001b[38;5;172mf\u001b[0;00m\u001b[38;5;172mf\u001b[0;00m\u001b[38;5;172mf\u001b[0;00m\u001b[38;5;172mt\u001b[0;00m\u001b[38;5;187m0\u001b[0;00m\n"
     ]
    },
    {
     "name": "stdout",
     "output_type": "stream",
     "text": [
      "\u001b[38;5;188m@\u001b[0;00m\u001b[38;5;145mL\u001b[0;00m\u001b[38;5;246mf\u001b[0;00m\u001b[38;5;102mf\u001b[0;00m\u001b[38;5;102mf\u001b[0;00m\u001b[38;5;102mf\u001b[0;00m\u001b[38;5;102mf\u001b[0;00m\u001b[38;5;102mf\u001b[0;00m\u001b[38;5;102mf\u001b[0;00m\u001b[38;5;145mG\u001b[0;00m\u001b[38;5;231m@\u001b[0;00m\u001b[38;5;188m@\u001b[0;00m\u001b[38;5;188m@\u001b[0;00m\u001b[38;5;188m@\u001b[0;00m\u001b[38;5;188m@\u001b[0;00m\u001b[38;5;231m@\u001b[0;00m\u001b[38;5;231m@\u001b[0;00m\u001b[38;5;231m@\u001b[0;00m\u001b[38;5;231m@\u001b[0;00m\u001b[38;5;188m@\u001b[0;00m\u001b[38;5;231m@\u001b[0;00m\u001b[38;5;188m@\u001b[0;00m\u001b[38;5;188m@\u001b[0;00m\u001b[38;5;231m@\u001b[0;00m\u001b[38;5;247mL\u001b[0;00m\u001b[38;5;16m \u001b[0;00m\u001b[38;5;16m \u001b[0;00m\u001b[38;5;16m \u001b[0;00m\u001b[38;5;16m \u001b[0;00m\u001b[38;5;16m \u001b[0;00m\u001b[38;5;16m \u001b[0;00m\u001b[38;5;16m \u001b[0;00m\u001b[38;5;16m \u001b[0;00m\u001b[38;5;102mt\u001b[0;00m\u001b[38;5;231m@\u001b[0;00m\u001b[38;5;188m@\u001b[0;00m\u001b[38;5;231m@\u001b[0;00m\u001b[38;5;145mL\u001b[0;00m\u001b[38;5;16m \u001b[0;00m\u001b[38;5;16m \u001b[0;00m\u001b[38;5;16m \u001b[0;00m\u001b[38;5;16m \u001b[0;00m\u001b[38;5;16m \u001b[0;00m\u001b[38;5;16m \u001b[0;00m\u001b[38;5;16m \u001b[0;00m\u001b[38;5;16m \u001b[0;00m\u001b[38;5;16m,\u001b[0;00m\u001b[38;5;188m0\u001b[0;00m\u001b[38;5;231m@\u001b[0;00m\u001b[38;5;188m@\u001b[0;00m\u001b[38;5;231m@\u001b[0;00m\u001b[38;5;188m@\u001b[0;00m\u001b[38;5;188m@\u001b[0;00m\u001b[38;5;231m@\u001b[0;00m\u001b[38;5;231m@\u001b[0;00m\u001b[38;5;231m@\u001b[0;00m\u001b[38;5;231m@\u001b[0;00m\u001b[38;5;194m@\u001b[0;00m\u001b[38;5;194m@\u001b[0;00m\u001b[38;5;194m@\u001b[0;00m\u001b[38;5;194m@\u001b[0;00m\u001b[38;5;195m@\u001b[0;00m\u001b[38;5;186mG\u001b[0;00m\u001b[38;5;172mt\u001b[0;00m\u001b[38;5;172mf\u001b[0;00m\u001b[38;5;172mf\u001b[0;00m\u001b[38;5;172mf\u001b[0;00m\u001b[38;5;172mf\u001b[0;00m\u001b[38;5;172mf\u001b[0;00m\u001b[38;5;172mf\u001b[0;00m\u001b[38;5;172mf\u001b[0;00m\u001b[38;5;188m8\u001b[0;00m\n",
      "\u001b[38;5;231m@\u001b[0;00m\u001b[38;5;145mG\u001b[0;00m\u001b[38;5;102mf\u001b[0;00m\u001b[38;5;102mf\u001b[0;00m\u001b[38;5;102mf\u001b[0;00m\u001b[38;5;102mf\u001b[0;00m\u001b[38;5;102mf\u001b[0;00m\u001b[38;5;102mf\u001b[0;00m\u001b[38;5;102mf\u001b[0;00m\u001b[38;5;145mL\u001b[0;00m\u001b[38;5;188m@\u001b[0;00m\u001b[38;5;231m@\u001b[0;00m\u001b[38;5;188m@\u001b[0;00m\u001b[38;5;231m@\u001b[0;00m\u001b[38;5;188m@\u001b[0;00m\u001b[38;5;188m@\u001b[0;00m\u001b[38;5;231m@\u001b[0;00m\u001b[38;5;231m@\u001b[0;00m\u001b[38;5;188m@\u001b[0;00m\u001b[38;5;188m@\u001b[0;00m\u001b[38;5;188m@\u001b[0;00m\u001b[38;5;188m@\u001b[0;00m\u001b[38;5;231m@\u001b[0;00m\u001b[38;5;145mC\u001b[0;00m\u001b[38;5;16m \u001b[0;00m\u001b[38;5;16m \u001b[0;00m\u001b[38;5;16m \u001b[0;00m\u001b[38;5;16m \u001b[0;00m\u001b[38;5;16m \u001b[0;00m\u001b[38;5;16m \u001b[0;00m\u001b[38;5;16m \u001b[0;00m\u001b[38;5;16m \u001b[0;00m\u001b[38;5;102m1\u001b[0;00m\u001b[38;5;231m@\u001b[0;00m\u001b[38;5;188m@\u001b[0;00m\u001b[38;5;188m@\u001b[0;00m\u001b[38;5;188m@\u001b[0;00m\u001b[38;5;231m@\u001b[0;00m\u001b[38;5;102mf\u001b[0;00m\u001b[38;5;16m \u001b[0;00m\u001b[38;5;16m \u001b[0;00m\u001b[38;5;16m \u001b[0;00m\u001b[38;5;16m \u001b[0;00m\u001b[38;5;16m \u001b[0;00m\u001b[38;5;16m \u001b[0;00m\u001b[38;5;16m \u001b[0;00m\u001b[38;5;16m \u001b[0;00m\u001b[38;5;235m,\u001b[0;00m\u001b[38;5;188m8\u001b[0;00m\u001b[38;5;231m@\u001b[0;00m\u001b[38;5;188m@\u001b[0;00m\u001b[38;5;231m@\u001b[0;00m\u001b[38;5;188m@\u001b[0;00m\u001b[38;5;188m@\u001b[0;00m\u001b[38;5;231m@\u001b[0;00m\u001b[38;5;231m@\u001b[0;00m\u001b[38;5;194m@\u001b[0;00m\u001b[38;5;194m@\u001b[0;00m\u001b[38;5;195m@\u001b[0;00m\u001b[38;5;188m@\u001b[0;00m\u001b[38;5;195m@\u001b[0;00m\u001b[38;5;188m@\u001b[0;00m\u001b[38;5;178mf\u001b[0;00m\u001b[38;5;172mf\u001b[0;00m\u001b[38;5;172mf\u001b[0;00m\u001b[38;5;172mf\u001b[0;00m\u001b[38;5;172mf\u001b[0;00m\u001b[38;5;172mf\u001b[0;00m\u001b[38;5;172mf\u001b[0;00m\u001b[38;5;172mt\u001b[0;00m\u001b[38;5;179mC\u001b[0;00m\u001b[38;5;195m@\u001b[0;00m\n",
      "\u001b[38;5;188m@\u001b[0;00m\u001b[38;5;188m@\u001b[0;00m\u001b[38;5;145mL\u001b[0;00m\u001b[38;5;102mf\u001b[0;00m\u001b[38;5;102mf\u001b[0;00m\u001b[38;5;102mf\u001b[0;00m\u001b[38;5;102mf\u001b[0;00m\u001b[38;5;102mf\u001b[0;00m\u001b[38;5;102mf\u001b[0;00m\u001b[38;5;102mf\u001b[0;00m\u001b[38;5;145mC\u001b[0;00m\u001b[38;5;188m@\u001b[0;00m\u001b[38;5;188m@\u001b[0;00m\u001b[38;5;188m@\u001b[0;00m\u001b[38;5;231m@\u001b[0;00m\u001b[38;5;188m@\u001b[0;00m\u001b[38;5;188m@\u001b[0;00m\u001b[38;5;188m@\u001b[0;00m\u001b[38;5;188m@\u001b[0;00m\u001b[38;5;231m@\u001b[0;00m\u001b[38;5;188m@\u001b[0;00m\u001b[38;5;231m@\u001b[0;00m\u001b[38;5;145mG\u001b[0;00m\u001b[38;5;232m \u001b[0;00m\u001b[38;5;16m \u001b[0;00m\u001b[38;5;16m \u001b[0;00m\u001b[38;5;16m \u001b[0;00m\u001b[38;5;16m \u001b[0;00m\u001b[38;5;16m \u001b[0;00m\u001b[38;5;16m \u001b[0;00m\u001b[38;5;16m \u001b[0;00m\u001b[38;5;59mi\u001b[0;00m\u001b[38;5;231m@\u001b[0;00m\u001b[38;5;188m@\u001b[0;00m\u001b[38;5;188m@\u001b[0;00m\u001b[38;5;231m@\u001b[0;00m\u001b[38;5;188m@\u001b[0;00m\u001b[38;5;188m@\u001b[0;00m\u001b[38;5;231m@\u001b[0;00m\u001b[38;5;102mf\u001b[0;00m\u001b[38;5;16m \u001b[0;00m\u001b[38;5;16m \u001b[0;00m\u001b[38;5;16m \u001b[0;00m\u001b[38;5;16m \u001b[0;00m\u001b[38;5;16m \u001b[0;00m\u001b[38;5;16m \u001b[0;00m\u001b[38;5;16m \u001b[0;00m\u001b[38;5;16m \u001b[0;00m\u001b[38;5;59m:\u001b[0;00m\u001b[38;5;188m@\u001b[0;00m\u001b[38;5;188m@\u001b[0;00m\u001b[38;5;188m@\u001b[0;00m\u001b[38;5;231m@\u001b[0;00m\u001b[38;5;188m@\u001b[0;00m\u001b[38;5;188m@\u001b[0;00m\u001b[38;5;194m@\u001b[0;00m\u001b[38;5;230m@\u001b[0;00m\u001b[38;5;195m@\u001b[0;00m\u001b[38;5;188m@\u001b[0;00m\u001b[38;5;194m@\u001b[0;00m\u001b[38;5;195m@\u001b[0;00m\u001b[38;5;179mL\u001b[0;00m\u001b[38;5;172mt\u001b[0;00m\u001b[38;5;172mf\u001b[0;00m\u001b[38;5;172mf\u001b[0;00m\u001b[38;5;172mf\u001b[0;00m\u001b[38;5;172mf\u001b[0;00m\u001b[38;5;172mf\u001b[0;00m\u001b[38;5;172mf\u001b[0;00m\u001b[38;5;172mf\u001b[0;00m\u001b[38;5;188m8\u001b[0;00m\u001b[38;5;195m@\u001b[0;00m\n",
      "\u001b[38;5;188m@\u001b[0;00m\u001b[38;5;231m@\u001b[0;00m\u001b[38;5;188m0\u001b[0;00m\u001b[38;5;102mf\u001b[0;00m\u001b[38;5;102mf\u001b[0;00m\u001b[38;5;102mf\u001b[0;00m\u001b[38;5;102mf\u001b[0;00m\u001b[38;5;102mf\u001b[0;00m\u001b[38;5;102mf\u001b[0;00m\u001b[38;5;102mf\u001b[0;00m\u001b[38;5;102mf\u001b[0;00m\u001b[38;5;145mC\u001b[0;00m\u001b[38;5;188m@\u001b[0;00m\u001b[38;5;231m@\u001b[0;00m\u001b[38;5;188m@\u001b[0;00m\u001b[38;5;231m@\u001b[0;00m\u001b[38;5;231m@\u001b[0;00m\u001b[38;5;188m@\u001b[0;00m\u001b[38;5;231m@\u001b[0;00m\u001b[38;5;188m@\u001b[0;00m\u001b[38;5;231m@\u001b[0;00m\u001b[38;5;188m0\u001b[0;00m\u001b[38;5;16m.\u001b[0;00m\u001b[38;5;16m \u001b[0;00m\u001b[38;5;16m \u001b[0;00m\u001b[38;5;16m \u001b[0;00m\u001b[38;5;16m \u001b[0;00m\u001b[38;5;16m \u001b[0;00m\u001b[38;5;16m \u001b[0;00m\u001b[38;5;16m \u001b[0;00m\u001b[38;5;59m;\u001b[0;00m\u001b[38;5;188m@\u001b[0;00m\u001b[38;5;188m@\u001b[0;00m\u001b[38;5;188m@\u001b[0;00m\u001b[38;5;231m@\u001b[0;00m\u001b[38;5;188m@\u001b[0;00m\u001b[38;5;231m@\u001b[0;00m\u001b[38;5;188m@\u001b[0;00m\u001b[38;5;188m@\u001b[0;00m\u001b[38;5;231m@\u001b[0;00m\u001b[38;5;102mt\u001b[0;00m\u001b[38;5;16m \u001b[0;00m\u001b[38;5;16m \u001b[0;00m\u001b[38;5;16m \u001b[0;00m\u001b[38;5;16m \u001b[0;00m\u001b[38;5;16m \u001b[0;00m\u001b[38;5;16m \u001b[0;00m\u001b[38;5;16m \u001b[0;00m\u001b[38;5;16m \u001b[0;00m\u001b[38;5;238m;\u001b[0;00m\u001b[38;5;188m@\u001b[0;00m\u001b[38;5;188m@\u001b[0;00m\u001b[38;5;188m@\u001b[0;00m\u001b[38;5;231m@\u001b[0;00m\u001b[38;5;194m@\u001b[0;00m\u001b[38;5;231m@\u001b[0;00m\u001b[38;5;194m@\u001b[0;00m\u001b[38;5;188m@\u001b[0;00m\u001b[38;5;195m@\u001b[0;00m\u001b[38;5;195m@\u001b[0;00m\u001b[38;5;179mC\u001b[0;00m\u001b[38;5;172mt\u001b[0;00m\u001b[38;5;172mf\u001b[0;00m\u001b[38;5;172mf\u001b[0;00m\u001b[38;5;172mf\u001b[0;00m\u001b[38;5;172mf\u001b[0;00m\u001b[38;5;172mf\u001b[0;00m\u001b[38;5;172mf\u001b[0;00m\u001b[38;5;172mt\u001b[0;00m\u001b[38;5;187m0\u001b[0;00m\u001b[38;5;195m@\u001b[0;00m\u001b[38;5;188m@\u001b[0;00m\n",
      "\u001b[38;5;188m@\u001b[0;00m\u001b[38;5;188m@\u001b[0;00m\u001b[38;5;231m@\u001b[0;00m\u001b[38;5;188mG\u001b[0;00m\u001b[38;5;102mf\u001b[0;00m\u001b[38;5;102mf\u001b[0;00m\u001b[38;5;102mf\u001b[0;00m\u001b[38;5;102mf\u001b[0;00m\u001b[38;5;102mf\u001b[0;00m\u001b[38;5;102mf\u001b[0;00m\u001b[38;5;102mf\u001b[0;00m\u001b[38;5;102mf\u001b[0;00m\u001b[38;5;145mC\u001b[0;00m\u001b[38;5;188m8\u001b[0;00m\u001b[38;5;231m@\u001b[0;00m\u001b[38;5;188m@\u001b[0;00m\u001b[38;5;188m@\u001b[0;00m\u001b[38;5;231m@\u001b[0;00m\u001b[38;5;188m@\u001b[0;00m\u001b[38;5;231m@\u001b[0;00m\u001b[38;5;188m8\u001b[0;00m\u001b[38;5;16m,\u001b[0;00m\u001b[38;5;16m \u001b[0;00m\u001b[38;5;16m \u001b[0;00m\u001b[38;5;16m \u001b[0;00m\u001b[38;5;16m \u001b[0;00m\u001b[38;5;16m \u001b[0;00m\u001b[38;5;16m \u001b[0;00m\u001b[38;5;16m \u001b[0;00m\u001b[38;5;59m:\u001b[0;00m\u001b[38;5;188m@\u001b[0;00m\u001b[38;5;188m@\u001b[0;00m\u001b[38;5;188m@\u001b[0;00m\u001b[38;5;188m@\u001b[0;00m\u001b[38;5;188m@\u001b[0;00m\u001b[38;5;188m@\u001b[0;00m\u001b[38;5;188m@\u001b[0;00m\u001b[38;5;188m@\u001b[0;00m\u001b[38;5;188m@\u001b[0;00m\u001b[38;5;188m@\u001b[0;00m\u001b[38;5;231m@\u001b[0;00m\u001b[38;5;102m1\u001b[0;00m\u001b[38;5;16m \u001b[0;00m\u001b[38;5;16m \u001b[0;00m\u001b[38;5;16m \u001b[0;00m\u001b[38;5;16m \u001b[0;00m\u001b[38;5;16m \u001b[0;00m\u001b[38;5;16m \u001b[0;00m\u001b[38;5;16m \u001b[0;00m\u001b[38;5;16m \u001b[0;00m\u001b[38;5;59mi\u001b[0;00m\u001b[38;5;231m@\u001b[0;00m\u001b[38;5;188m@\u001b[0;00m\u001b[38;5;188m@\u001b[0;00m\u001b[38;5;231m@\u001b[0;00m\u001b[38;5;194m@\u001b[0;00m\u001b[38;5;194m@\u001b[0;00m\u001b[38;5;195m@\u001b[0;00m\u001b[38;5;188m@\u001b[0;00m\u001b[38;5;179mL\u001b[0;00m\u001b[38;5;172mt\u001b[0;00m\u001b[38;5;172mf\u001b[0;00m\u001b[38;5;172mf\u001b[0;00m\u001b[38;5;172mf\u001b[0;00m\u001b[38;5;172mf\u001b[0;00m\u001b[38;5;172mf\u001b[0;00m\u001b[38;5;172mf\u001b[0;00m\u001b[38;5;172mt\u001b[0;00m\u001b[38;5;180mG\u001b[0;00m\u001b[38;5;195m@\u001b[0;00m\u001b[38;5;188m@\u001b[0;00m\u001b[38;5;194m@\u001b[0;00m\n",
      "\u001b[38;5;231m@\u001b[0;00m\u001b[38;5;188m@\u001b[0;00m\u001b[38;5;188m@\u001b[0;00m\u001b[38;5;231m@\u001b[0;00m\u001b[38;5;188mG\u001b[0;00m\u001b[38;5;102mf\u001b[0;00m\u001b[38;5;246mf\u001b[0;00m\u001b[38;5;102mf\u001b[0;00m\u001b[38;5;102mf\u001b[0;00m\u001b[38;5;102mf\u001b[0;00m\u001b[38;5;102mf\u001b[0;00m\u001b[38;5;102mf\u001b[0;00m\u001b[38;5;102mf\u001b[0;00m\u001b[38;5;145mL\u001b[0;00m\u001b[38;5;188m0\u001b[0;00m\u001b[38;5;188m@\u001b[0;00m\u001b[38;5;188m@\u001b[0;00m\u001b[38;5;188m@\u001b[0;00m\u001b[38;5;231m@\u001b[0;00m\u001b[38;5;255m8\u001b[0;00m\u001b[38;5;16m,\u001b[0;00m\u001b[38;5;16m \u001b[0;00m\u001b[38;5;16m \u001b[0;00m\u001b[38;5;16m \u001b[0;00m\u001b[38;5;16m \u001b[0;00m\u001b[38;5;16m \u001b[0;00m\u001b[38;5;16m \u001b[0;00m\u001b[38;5;16m \u001b[0;00m\u001b[38;5;59m;\u001b[0;00m\u001b[38;5;188m@\u001b[0;00m\u001b[38;5;231m@\u001b[0;00m\u001b[38;5;231m@\u001b[0;00m\u001b[38;5;231m@\u001b[0;00m\u001b[38;5;231m@\u001b[0;00m\u001b[38;5;188m@\u001b[0;00m\u001b[38;5;188m@\u001b[0;00m\u001b[38;5;188m@\u001b[0;00m\u001b[38;5;188m@\u001b[0;00m\u001b[38;5;231m@\u001b[0;00m\u001b[38;5;231m@\u001b[0;00m\u001b[38;5;231m@\u001b[0;00m\u001b[38;5;231m@\u001b[0;00m\u001b[38;5;102m1\u001b[0;00m\u001b[38;5;16m \u001b[0;00m\u001b[38;5;16m \u001b[0;00m\u001b[38;5;16m \u001b[0;00m\u001b[38;5;16m \u001b[0;00m\u001b[38;5;16m \u001b[0;00m\u001b[38;5;16m \u001b[0;00m\u001b[38;5;16m \u001b[0;00m\u001b[38;5;16m \u001b[0;00m\u001b[38;5;102m1\u001b[0;00m\u001b[38;5;231m@\u001b[0;00m\u001b[38;5;188m@\u001b[0;00m\u001b[38;5;194m@\u001b[0;00m\u001b[38;5;194m@\u001b[0;00m\u001b[38;5;194m@\u001b[0;00m\u001b[38;5;187m0\u001b[0;00m\u001b[38;5;178mf\u001b[0;00m\u001b[38;5;172mt\u001b[0;00m\u001b[38;5;172mf\u001b[0;00m\u001b[38;5;172mf\u001b[0;00m\u001b[38;5;172mf\u001b[0;00m\u001b[38;5;172mf\u001b[0;00m\u001b[38;5;172mf\u001b[0;00m\u001b[38;5;172mf\u001b[0;00m\u001b[38;5;172mt\u001b[0;00m\u001b[38;5;180mG\u001b[0;00m\u001b[38;5;195m@\u001b[0;00m\u001b[38;5;194m@\u001b[0;00m\u001b[38;5;194m@\u001b[0;00m\u001b[38;5;231m@\u001b[0;00m\n",
      "\u001b[38;5;188m@\u001b[0;00m\u001b[38;5;231m@\u001b[0;00m\u001b[38;5;188m@\u001b[0;00m\u001b[38;5;188m@\u001b[0;00m\u001b[38;5;231m@\u001b[0;00m\u001b[38;5;188m0\u001b[0;00m\u001b[38;5;102mf\u001b[0;00m\u001b[38;5;102mf\u001b[0;00m\u001b[38;5;102mf\u001b[0;00m\u001b[38;5;102mf\u001b[0;00m\u001b[38;5;102mf\u001b[0;00m\u001b[38;5;102mf\u001b[0;00m\u001b[38;5;102mf\u001b[0;00m\u001b[38;5;245mf\u001b[0;00m\u001b[38;5;145mC\u001b[0;00m\u001b[38;5;188m@\u001b[0;00m\u001b[38;5;188m@\u001b[0;00m\u001b[38;5;188m@\u001b[0;00m\u001b[38;5;188m@\u001b[0;00m\u001b[38;5;59m:\u001b[0;00m\u001b[38;5;16m \u001b[0;00m\u001b[38;5;16m \u001b[0;00m\u001b[38;5;16m \u001b[0;00m\u001b[38;5;16m \u001b[0;00m\u001b[38;5;16m \u001b[0;00m\u001b[38;5;16m \u001b[0;00m\u001b[38;5;16m \u001b[0;00m\u001b[38;5;16m \u001b[0;00m\u001b[38;5;102mt\u001b[0;00m\u001b[38;5;145mG\u001b[0;00m\u001b[38;5;188m0\u001b[0;00m\u001b[38;5;188m8\u001b[0;00m\u001b[38;5;188m@\u001b[0;00m\u001b[38;5;231m@\u001b[0;00m\u001b[38;5;231m@\u001b[0;00m\u001b[38;5;231m@\u001b[0;00m\u001b[38;5;231m@\u001b[0;00m\u001b[38;5;231m@\u001b[0;00m\u001b[38;5;231m@\u001b[0;00m\u001b[38;5;188m@\u001b[0;00m\u001b[38;5;255m8\u001b[0;00m\u001b[38;5;188m0\u001b[0;00m\u001b[38;5;145mG\u001b[0;00m\u001b[38;5;234m,\u001b[0;00m\u001b[38;5;16m \u001b[0;00m\u001b[38;5;16m \u001b[0;00m\u001b[38;5;16m \u001b[0;00m\u001b[38;5;16m \u001b[0;00m\u001b[38;5;16m \u001b[0;00m\u001b[38;5;16m \u001b[0;00m\u001b[38;5;16m \u001b[0;00m\u001b[38;5;16m \u001b[0;00m\u001b[38;5;102mt\u001b[0;00m\u001b[38;5;231m@\u001b[0;00m\u001b[38;5;188m@\u001b[0;00m\u001b[38;5;194m@\u001b[0;00m\u001b[38;5;195m@\u001b[0;00m\u001b[38;5;179mC\u001b[0;00m\u001b[38;5;172mt\u001b[0;00m\u001b[38;5;172mf\u001b[0;00m\u001b[38;5;172mf\u001b[0;00m\u001b[38;5;172mf\u001b[0;00m\u001b[38;5;172mf\u001b[0;00m\u001b[38;5;172mf\u001b[0;00m\u001b[38;5;172mt\u001b[0;00m\u001b[38;5;172mf\u001b[0;00m\u001b[38;5;187m0\u001b[0;00m\u001b[38;5;195m@\u001b[0;00m\u001b[38;5;194m@\u001b[0;00m\u001b[38;5;194m@\u001b[0;00m\u001b[38;5;195m@\u001b[0;00m\u001b[38;5;194m@\u001b[0;00m\n"
     ]
    },
    {
     "name": "stdout",
     "output_type": "stream",
     "text": [
      "\u001b[38;5;231m@\u001b[0;00m\u001b[38;5;188m@\u001b[0;00m\u001b[38;5;231m@\u001b[0;00m\u001b[38;5;188m@\u001b[0;00m\u001b[38;5;188m@\u001b[0;00m\u001b[38;5;231m@\u001b[0;00m\u001b[38;5;188m8\u001b[0;00m\u001b[38;5;145mC\u001b[0;00m\u001b[38;5;102mf\u001b[0;00m\u001b[38;5;102mf\u001b[0;00m\u001b[38;5;102mf\u001b[0;00m\u001b[38;5;102mf\u001b[0;00m\u001b[38;5;102mf\u001b[0;00m\u001b[38;5;145mC\u001b[0;00m\u001b[38;5;188m@\u001b[0;00m\u001b[38;5;188m@\u001b[0;00m\u001b[38;5;188m@\u001b[0;00m\u001b[38;5;188m@\u001b[0;00m\u001b[38;5;239m;\u001b[0;00m\u001b[38;5;16m \u001b[0;00m\u001b[38;5;16m \u001b[0;00m\u001b[38;5;16m \u001b[0;00m\u001b[38;5;16m \u001b[0;00m\u001b[38;5;16m \u001b[0;00m\u001b[38;5;16m \u001b[0;00m\u001b[38;5;16m \u001b[0;00m\u001b[38;5;16m \u001b[0;00m\u001b[38;5;16m \u001b[0;00m\u001b[38;5;16m \u001b[0;00m\u001b[38;5;16m \u001b[0;00m\u001b[38;5;16m \u001b[0;00m\u001b[38;5;16m.\u001b[0;00m\u001b[38;5;16m,\u001b[0;00m\u001b[38;5;16m:\u001b[0;00m\u001b[38;5;59m:\u001b[0;00m\u001b[38;5;59m:\u001b[0;00m\u001b[38;5;59m:\u001b[0;00m\u001b[38;5;59m:\u001b[0;00m\u001b[38;5;16m:\u001b[0;00m\u001b[38;5;16m,\u001b[0;00m\u001b[38;5;16m.\u001b[0;00m\u001b[38;5;16m \u001b[0;00m\u001b[38;5;16m \u001b[0;00m\u001b[38;5;16m \u001b[0;00m\u001b[38;5;16m \u001b[0;00m\u001b[38;5;16m \u001b[0;00m\u001b[38;5;16m \u001b[0;00m\u001b[38;5;16m \u001b[0;00m\u001b[38;5;16m \u001b[0;00m\u001b[38;5;16m \u001b[0;00m\u001b[38;5;16m \u001b[0;00m\u001b[38;5;16m \u001b[0;00m\u001b[38;5;16m \u001b[0;00m\u001b[38;5;245mf\u001b[0;00m\u001b[38;5;195m@\u001b[0;00m\u001b[38;5;188m@\u001b[0;00m\u001b[38;5;194m@\u001b[0;00m\u001b[38;5;195m@\u001b[0;00m\u001b[38;5;179mC\u001b[0;00m\u001b[38;5;172mt\u001b[0;00m\u001b[38;5;172mf\u001b[0;00m\u001b[38;5;172mf\u001b[0;00m\u001b[38;5;172mf\u001b[0;00m\u001b[38;5;172mt\u001b[0;00m\u001b[38;5;179mL\u001b[0;00m\u001b[38;5;188m8\u001b[0;00m\u001b[38;5;195m@\u001b[0;00m\u001b[38;5;188m@\u001b[0;00m\u001b[38;5;194m@\u001b[0;00m\u001b[38;5;195m@\u001b[0;00m\u001b[38;5;194m@\u001b[0;00m\u001b[38;5;231m@\u001b[0;00m\n",
      "\u001b[38;5;231m@\u001b[0;00m\u001b[38;5;231m@\u001b[0;00m\u001b[38;5;188m@\u001b[0;00m\u001b[38;5;231m@\u001b[0;00m\u001b[38;5;231m@\u001b[0;00m\u001b[38;5;188m@\u001b[0;00m\u001b[38;5;231m@\u001b[0;00m\u001b[38;5;231m@\u001b[0;00m\u001b[38;5;188m0\u001b[0;00m\u001b[38;5;247mL\u001b[0;00m\u001b[38;5;102mf\u001b[0;00m\u001b[38;5;102mf\u001b[0;00m\u001b[38;5;145mL\u001b[0;00m\u001b[38;5;188m@\u001b[0;00m\u001b[38;5;188m@\u001b[0;00m\u001b[38;5;188m@\u001b[0;00m\u001b[38;5;231m@\u001b[0;00m\u001b[38;5;241mi\u001b[0;00m\u001b[38;5;16m \u001b[0;00m\u001b[38;5;16m \u001b[0;00m\u001b[38;5;16m \u001b[0;00m\u001b[38;5;16m \u001b[0;00m\u001b[38;5;16m \u001b[0;00m\u001b[38;5;16m \u001b[0;00m\u001b[38;5;16m \u001b[0;00m\u001b[38;5;16m \u001b[0;00m\u001b[38;5;16m \u001b[0;00m\u001b[38;5;16m \u001b[0;00m\u001b[38;5;16m \u001b[0;00m\u001b[38;5;16m \u001b[0;00m\u001b[38;5;16m \u001b[0;00m\u001b[38;5;16m \u001b[0;00m\u001b[38;5;16m \u001b[0;00m\u001b[38;5;16m \u001b[0;00m\u001b[38;5;16m \u001b[0;00m\u001b[38;5;16m \u001b[0;00m\u001b[38;5;16m \u001b[0;00m\u001b[38;5;16m \u001b[0;00m\u001b[38;5;16m \u001b[0;00m\u001b[38;5;16m \u001b[0;00m\u001b[38;5;16m \u001b[0;00m\u001b[38;5;16m \u001b[0;00m\u001b[38;5;16m \u001b[0;00m\u001b[38;5;16m \u001b[0;00m\u001b[38;5;16m \u001b[0;00m\u001b[38;5;16m \u001b[0;00m\u001b[38;5;16m \u001b[0;00m\u001b[38;5;16m \u001b[0;00m\u001b[38;5;16m \u001b[0;00m\u001b[38;5;16m \u001b[0;00m\u001b[38;5;16m \u001b[0;00m\u001b[38;5;16m \u001b[0;00m\u001b[38;5;16m \u001b[0;00m\u001b[38;5;16m \u001b[0;00m\u001b[38;5;145mL\u001b[0;00m\u001b[38;5;195m@\u001b[0;00m\u001b[38;5;188m@\u001b[0;00m\u001b[38;5;194m@\u001b[0;00m\u001b[38;5;188m@\u001b[0;00m\u001b[38;5;179mL\u001b[0;00m\u001b[38;5;172mt\u001b[0;00m\u001b[38;5;172mt\u001b[0;00m\u001b[38;5;172mf\u001b[0;00m\u001b[38;5;186mG\u001b[0;00m\u001b[38;5;194m@\u001b[0;00m\u001b[38;5;195m@\u001b[0;00m\u001b[38;5;188m@\u001b[0;00m\u001b[38;5;194m@\u001b[0;00m\u001b[38;5;195m@\u001b[0;00m\u001b[38;5;194m@\u001b[0;00m\u001b[38;5;231m@\u001b[0;00m\u001b[38;5;231m@\u001b[0;00m\n",
      "\u001b[38;5;231m@\u001b[0;00m\u001b[38;5;231m@\u001b[0;00m\u001b[38;5;231m@\u001b[0;00m\u001b[38;5;188m@\u001b[0;00m\u001b[38;5;188m@\u001b[0;00m\u001b[38;5;231m@\u001b[0;00m\u001b[38;5;188m@\u001b[0;00m\u001b[38;5;188m@\u001b[0;00m\u001b[38;5;231m@\u001b[0;00m\u001b[38;5;188m@\u001b[0;00m\u001b[38;5;145mG\u001b[0;00m\u001b[38;5;145mC\u001b[0;00m\u001b[38;5;188m@\u001b[0;00m\u001b[38;5;231m@\u001b[0;00m\u001b[38;5;188m@\u001b[0;00m\u001b[38;5;231m@\u001b[0;00m\u001b[38;5;243mt\u001b[0;00m\u001b[38;5;16m \u001b[0;00m\u001b[38;5;16m \u001b[0;00m\u001b[38;5;16m \u001b[0;00m\u001b[38;5;16m \u001b[0;00m\u001b[38;5;16m \u001b[0;00m\u001b[38;5;16m \u001b[0;00m\u001b[38;5;16m \u001b[0;00m\u001b[38;5;16m \u001b[0;00m\u001b[38;5;237m:\u001b[0;00m\u001b[38;5;16m.\u001b[0;00m\u001b[38;5;16m \u001b[0;00m\u001b[38;5;16m \u001b[0;00m\u001b[38;5;16m \u001b[0;00m\u001b[38;5;16m \u001b[0;00m\u001b[38;5;16m \u001b[0;00m\u001b[38;5;16m \u001b[0;00m\u001b[38;5;16m \u001b[0;00m\u001b[38;5;16m \u001b[0;00m\u001b[38;5;16m \u001b[0;00m\u001b[38;5;16m \u001b[0;00m\u001b[38;5;16m \u001b[0;00m\u001b[38;5;16m \u001b[0;00m\u001b[38;5;16m \u001b[0;00m\u001b[38;5;16m \u001b[0;00m\u001b[38;5;16m \u001b[0;00m\u001b[38;5;16m \u001b[0;00m\u001b[38;5;16m \u001b[0;00m\u001b[38;5;16m \u001b[0;00m\u001b[38;5;16m,\u001b[0;00m\u001b[38;5;16m.\u001b[0;00m\u001b[38;5;16m \u001b[0;00m\u001b[38;5;16m \u001b[0;00m\u001b[38;5;16m \u001b[0;00m\u001b[38;5;16m \u001b[0;00m\u001b[38;5;16m \u001b[0;00m\u001b[38;5;16m \u001b[0;00m\u001b[38;5;16m \u001b[0;00m\u001b[38;5;16m \u001b[0;00m\u001b[38;5;145mC\u001b[0;00m\u001b[38;5;195m@\u001b[0;00m\u001b[38;5;188m@\u001b[0;00m\u001b[38;5;195m@\u001b[0;00m\u001b[38;5;188m@\u001b[0;00m\u001b[38;5;179mL\u001b[0;00m\u001b[38;5;180mG\u001b[0;00m\u001b[38;5;188m@\u001b[0;00m\u001b[38;5;195m@\u001b[0;00m\u001b[38;5;194m@\u001b[0;00m\u001b[38;5;194m@\u001b[0;00m\u001b[38;5;195m@\u001b[0;00m\u001b[38;5;188m@\u001b[0;00m\u001b[38;5;194m@\u001b[0;00m\u001b[38;5;231m@\u001b[0;00m\u001b[38;5;231m@\u001b[0;00m\u001b[38;5;231m@\u001b[0;00m\n",
      "\u001b[38;5;231m@\u001b[0;00m\u001b[38;5;231m@\u001b[0;00m\u001b[38;5;231m@\u001b[0;00m\u001b[38;5;231m@\u001b[0;00m\u001b[38;5;188m@\u001b[0;00m\u001b[38;5;188m@\u001b[0;00m\u001b[38;5;231m@\u001b[0;00m\u001b[38;5;188m@\u001b[0;00m\u001b[38;5;188m@\u001b[0;00m\u001b[38;5;231m@\u001b[0;00m\u001b[38;5;231m@\u001b[0;00m\u001b[38;5;231m@\u001b[0;00m\u001b[38;5;231m@\u001b[0;00m\u001b[38;5;188m@\u001b[0;00m\u001b[38;5;231m@\u001b[0;00m\u001b[38;5;102mf\u001b[0;00m\u001b[38;5;16m \u001b[0;00m\u001b[38;5;16m \u001b[0;00m\u001b[38;5;16m \u001b[0;00m\u001b[38;5;16m \u001b[0;00m\u001b[38;5;16m \u001b[0;00m\u001b[38;5;16m \u001b[0;00m\u001b[38;5;16m \u001b[0;00m\u001b[38;5;16m \u001b[0;00m\u001b[38;5;145mC\u001b[0;00m\u001b[38;5;231m@\u001b[0;00m\u001b[38;5;188m8\u001b[0;00m\u001b[38;5;188m0\u001b[0;00m\u001b[38;5;145mG\u001b[0;00m\u001b[38;5;145mL\u001b[0;00m\u001b[38;5;102mf\u001b[0;00m\u001b[38;5;102mt\u001b[0;00m\u001b[38;5;102m1\u001b[0;00m\u001b[38;5;59mi\u001b[0;00m\u001b[38;5;59mi\u001b[0;00m\u001b[38;5;59m;\u001b[0;00m\u001b[38;5;59m;\u001b[0;00m\u001b[38;5;59mi\u001b[0;00m\u001b[38;5;59mi\u001b[0;00m\u001b[38;5;102m1\u001b[0;00m\u001b[38;5;102mt\u001b[0;00m\u001b[38;5;102mf\u001b[0;00m\u001b[38;5;145mL\u001b[0;00m\u001b[38;5;145mG\u001b[0;00m\u001b[38;5;188m0\u001b[0;00m\u001b[38;5;188m@\u001b[0;00m\u001b[38;5;188m0\u001b[0;00m\u001b[38;5;16m,\u001b[0;00m\u001b[38;5;16m \u001b[0;00m\u001b[38;5;16m \u001b[0;00m\u001b[38;5;16m \u001b[0;00m\u001b[38;5;16m \u001b[0;00m\u001b[38;5;16m \u001b[0;00m\u001b[38;5;16m \u001b[0;00m\u001b[38;5;16m \u001b[0;00m\u001b[38;5;16m \u001b[0;00m\u001b[38;5;145mG\u001b[0;00m\u001b[38;5;195m@\u001b[0;00m\u001b[38;5;188m@\u001b[0;00m\u001b[38;5;195m@\u001b[0;00m\u001b[38;5;195m@\u001b[0;00m\u001b[38;5;195m@\u001b[0;00m\u001b[38;5;195m@\u001b[0;00m\u001b[38;5;188m@\u001b[0;00m\u001b[38;5;194m@\u001b[0;00m\u001b[38;5;195m@\u001b[0;00m\u001b[38;5;194m@\u001b[0;00m\u001b[38;5;194m@\u001b[0;00m\u001b[38;5;231m@\u001b[0;00m\u001b[38;5;231m@\u001b[0;00m\u001b[38;5;231m@\u001b[0;00m\u001b[38;5;231m@\u001b[0;00m\n",
      "\u001b[38;5;231m@\u001b[0;00m\u001b[38;5;231m@\u001b[0;00m\u001b[38;5;231m@\u001b[0;00m\u001b[38;5;231m@\u001b[0;00m\u001b[38;5;231m@\u001b[0;00m\u001b[38;5;231m@\u001b[0;00m\u001b[38;5;188m@\u001b[0;00m\u001b[38;5;188m@\u001b[0;00m\u001b[38;5;231m@\u001b[0;00m\u001b[38;5;188m@\u001b[0;00m\u001b[38;5;188m@\u001b[0;00m\u001b[38;5;188m@\u001b[0;00m\u001b[38;5;231m@\u001b[0;00m\u001b[38;5;231m@\u001b[0;00m\u001b[38;5;145mL\u001b[0;00m\u001b[38;5;16m \u001b[0;00m\u001b[38;5;16m \u001b[0;00m\u001b[38;5;16m \u001b[0;00m\u001b[38;5;16m \u001b[0;00m\u001b[38;5;16m \u001b[0;00m\u001b[38;5;16m \u001b[0;00m\u001b[38;5;16m \u001b[0;00m\u001b[38;5;16m.\u001b[0;00m\u001b[38;5;145mC\u001b[0;00m\u001b[38;5;231m@\u001b[0;00m\u001b[38;5;188m@\u001b[0;00m\u001b[38;5;231m@\u001b[0;00m\u001b[38;5;231m@\u001b[0;00m\u001b[38;5;231m@\u001b[0;00m\u001b[38;5;231m@\u001b[0;00m\u001b[38;5;231m@\u001b[0;00m\u001b[38;5;231m@\u001b[0;00m\u001b[38;5;231m@\u001b[0;00m\u001b[38;5;231m@\u001b[0;00m\u001b[38;5;231m@\u001b[0;00m\u001b[38;5;231m@\u001b[0;00m\u001b[38;5;231m@\u001b[0;00m\u001b[38;5;231m@\u001b[0;00m\u001b[38;5;231m@\u001b[0;00m\u001b[38;5;231m@\u001b[0;00m\u001b[38;5;231m@\u001b[0;00m\u001b[38;5;231m@\u001b[0;00m\u001b[38;5;231m@\u001b[0;00m\u001b[38;5;231m@\u001b[0;00m\u001b[38;5;231m@\u001b[0;00m\u001b[38;5;231m@\u001b[0;00m\u001b[38;5;231m@\u001b[0;00m\u001b[38;5;188m0\u001b[0;00m\u001b[38;5;16m,\u001b[0;00m\u001b[38;5;16m \u001b[0;00m\u001b[38;5;16m \u001b[0;00m\u001b[38;5;16m \u001b[0;00m\u001b[38;5;16m \u001b[0;00m\u001b[38;5;16m \u001b[0;00m\u001b[38;5;16m \u001b[0;00m\u001b[38;5;16m \u001b[0;00m\u001b[38;5;16m.\u001b[0;00m\u001b[38;5;188mG\u001b[0;00m\u001b[38;5;195m@\u001b[0;00m\u001b[38;5;230m@\u001b[0;00m\u001b[38;5;230m@\u001b[0;00m\u001b[38;5;194m@\u001b[0;00m\u001b[38;5;194m@\u001b[0;00m\u001b[38;5;195m@\u001b[0;00m\u001b[38;5;194m@\u001b[0;00m\u001b[38;5;194m@\u001b[0;00m\u001b[38;5;231m@\u001b[0;00m\u001b[38;5;231m@\u001b[0;00m\u001b[38;5;231m@\u001b[0;00m\u001b[38;5;231m@\u001b[0;00m\u001b[38;5;231m@\u001b[0;00m\u001b[38;5;231m@\u001b[0;00m\n",
      "\u001b[38;5;231m@\u001b[0;00m\u001b[38;5;231m@\u001b[0;00m\u001b[38;5;231m@\u001b[0;00m\u001b[38;5;231m@\u001b[0;00m\u001b[38;5;231m@\u001b[0;00m\u001b[38;5;231m@\u001b[0;00m\u001b[38;5;231m@\u001b[0;00m\u001b[38;5;188m@\u001b[0;00m\u001b[38;5;188m@\u001b[0;00m\u001b[38;5;188m@\u001b[0;00m\u001b[38;5;188m@\u001b[0;00m\u001b[38;5;188m@\u001b[0;00m\u001b[38;5;188m8\u001b[0;00m\u001b[38;5;244mt\u001b[0;00m\u001b[38;5;16m \u001b[0;00m\u001b[38;5;16m \u001b[0;00m\u001b[38;5;16m \u001b[0;00m\u001b[38;5;16m \u001b[0;00m\u001b[38;5;16m \u001b[0;00m\u001b[38;5;16m \u001b[0;00m\u001b[38;5;16m \u001b[0;00m\u001b[38;5;16m \u001b[0;00m\u001b[38;5;59m;\u001b[0;00m\u001b[38;5;188m@\u001b[0;00m\u001b[38;5;188m@\u001b[0;00m\u001b[38;5;188m@\u001b[0;00m\u001b[38;5;188m@\u001b[0;00m\u001b[38;5;188m@\u001b[0;00m\u001b[38;5;188m@\u001b[0;00m\u001b[38;5;188m@\u001b[0;00m\u001b[38;5;188m@\u001b[0;00m\u001b[38;5;188m@\u001b[0;00m\u001b[38;5;188m@\u001b[0;00m\u001b[38;5;188m@\u001b[0;00m\u001b[38;5;188m@\u001b[0;00m\u001b[38;5;188m@\u001b[0;00m\u001b[38;5;188m@\u001b[0;00m\u001b[38;5;188m@\u001b[0;00m\u001b[38;5;188m@\u001b[0;00m\u001b[38;5;188m@\u001b[0;00m\u001b[38;5;188m@\u001b[0;00m\u001b[38;5;188m@\u001b[0;00m\u001b[38;5;188m@\u001b[0;00m\u001b[38;5;188m@\u001b[0;00m\u001b[38;5;188m@\u001b[0;00m\u001b[38;5;188m@\u001b[0;00m\u001b[38;5;188m@\u001b[0;00m\u001b[38;5;188m@\u001b[0;00m\u001b[38;5;59mi\u001b[0;00m\u001b[38;5;16m \u001b[0;00m\u001b[38;5;16m \u001b[0;00m\u001b[38;5;16m \u001b[0;00m\u001b[38;5;16m \u001b[0;00m\u001b[38;5;16m \u001b[0;00m\u001b[38;5;16m \u001b[0;00m\u001b[38;5;16m \u001b[0;00m\u001b[38;5;16m \u001b[0;00m\u001b[38;5;16m \u001b[0;00m\u001b[38;5;145mL\u001b[0;00m\u001b[38;5;188m0\u001b[0;00m\u001b[38;5;188m@\u001b[0;00m\u001b[38;5;194m@\u001b[0;00m\u001b[38;5;194m@\u001b[0;00m\u001b[38;5;194m@\u001b[0;00m\u001b[38;5;230m@\u001b[0;00m\u001b[38;5;231m@\u001b[0;00m\u001b[38;5;231m@\u001b[0;00m\u001b[38;5;231m@\u001b[0;00m\u001b[38;5;231m@\u001b[0;00m\u001b[38;5;231m@\u001b[0;00m\u001b[38;5;231m@\u001b[0;00m\u001b[38;5;231m@\u001b[0;00m\n",
      "\u001b[38;5;231m@\u001b[0;00m\u001b[38;5;231m@\u001b[0;00m\u001b[38;5;231m@\u001b[0;00m\u001b[38;5;231m@\u001b[0;00m\u001b[38;5;231m@\u001b[0;00m\u001b[38;5;231m@\u001b[0;00m\u001b[38;5;231m@\u001b[0;00m\u001b[38;5;231m@\u001b[0;00m\u001b[38;5;188m@\u001b[0;00m\u001b[38;5;188m@\u001b[0;00m\u001b[38;5;188m@\u001b[0;00m\u001b[38;5;245mf\u001b[0;00m\u001b[38;5;59mi\u001b[0;00m\u001b[38;5;16m,\u001b[0;00m\u001b[38;5;59m:\u001b[0;00m\u001b[38;5;59m:\u001b[0;00m\u001b[38;5;59m:\u001b[0;00m\u001b[38;5;59m:\u001b[0;00m\u001b[38;5;59m:\u001b[0;00m\u001b[38;5;59m:\u001b[0;00m\u001b[38;5;59m:\u001b[0;00m\u001b[38;5;59m:\u001b[0;00m\u001b[38;5;59m:\u001b[0;00m\u001b[38;5;59mi\u001b[0;00m\u001b[38;5;102mf\u001b[0;00m\u001b[38;5;188m@\u001b[0;00m\u001b[38;5;188m@\u001b[0;00m\u001b[38;5;188m@\u001b[0;00m\u001b[38;5;231m@\u001b[0;00m\u001b[38;5;231m@\u001b[0;00m\u001b[38;5;188m@\u001b[0;00m\u001b[38;5;188m@\u001b[0;00m\u001b[38;5;188m@\u001b[0;00m\u001b[38;5;188m@\u001b[0;00m\u001b[38;5;188m@\u001b[0;00m\u001b[38;5;188m@\u001b[0;00m\u001b[38;5;188m@\u001b[0;00m\u001b[38;5;188m@\u001b[0;00m\u001b[38;5;188m@\u001b[0;00m\u001b[38;5;188m@\u001b[0;00m\u001b[38;5;188m@\u001b[0;00m\u001b[38;5;231m@\u001b[0;00m\u001b[38;5;231m@\u001b[0;00m\u001b[38;5;231m@\u001b[0;00m\u001b[38;5;188m@\u001b[0;00m\u001b[38;5;188m@\u001b[0;00m\u001b[38;5;188m8\u001b[0;00m\u001b[38;5;102m1\u001b[0;00m\u001b[38;5;59m:\u001b[0;00m\u001b[38;5;59m:\u001b[0;00m\u001b[38;5;59m:\u001b[0;00m\u001b[38;5;59m:\u001b[0;00m\u001b[38;5;59m:\u001b[0;00m\u001b[38;5;59m:\u001b[0;00m\u001b[38;5;59m:\u001b[0;00m\u001b[38;5;59m:\u001b[0;00m\u001b[38;5;59m:\u001b[0;00m\u001b[38;5;59m:\u001b[0;00m\u001b[38;5;16m,\u001b[0;00m\u001b[38;5;59m;\u001b[0;00m\u001b[38;5;243mt\u001b[0;00m\u001b[38;5;188m@\u001b[0;00m\u001b[38;5;188m@\u001b[0;00m\u001b[38;5;188m@\u001b[0;00m\u001b[38;5;231m@\u001b[0;00m\u001b[38;5;231m@\u001b[0;00m\u001b[38;5;231m@\u001b[0;00m\u001b[38;5;231m@\u001b[0;00m\u001b[38;5;231m@\u001b[0;00m\u001b[38;5;231m@\u001b[0;00m\u001b[38;5;231m@\u001b[0;00m\u001b[38;5;231m@\u001b[0;00m\n"
     ]
    }
   ],
   "source": [
    "cd WelcomeImage\n",
    "apptainer build image.sif hello.def\n",
    "apptainer run image.sif\n",
    "cd .."
   ]
  },
  {
   "cell_type": "markdown",
   "metadata": {
    "slideshow": {
     "slide_type": "subslide"
    }
   },
   "source": [
    "## Build Definitions\n",
    "\n",
    "* Def files are text files\n",
    "* Consist of mandatory header, followed by optional `%sections`\n",
    "* `%files` copies files from the host into the container\n",
    "* `%environment` sets environment variables\n",
    "* `%post` runs commands inside the container\n",
    "* `%runscript` sets the runscript\n",
    "* [More detail](https://apptainer.org/docs/user/main/definition_files.html)"
   ]
  },
  {
   "cell_type": "markdown",
   "metadata": {
    "slideshow": {
     "slide_type": "subslide"
    }
   },
   "source": [
    "```\n",
    "Bootstrap: docker\n",
    "From: ubuntu:18.04\n",
    "\n",
    "%files\n",
    "    /file1\n",
    "    /file1 /opt\n",
    "\n",
    "%environment\n",
    "    export LISTEN_PORT=12345\n",
    "    export LC_ALL=C\n",
    "\n",
    "%post\n",
    "    apt-get update && apt-get install -y netcat\n",
    "    NOW=`date`\n",
    "    echo \"export NOW=\\\"${NOW}\\\"\" >> $APPTAINER_ENVIRONMENT\n",
    "\n",
    "%runscript\n",
    "    echo \"Container was created $NOW\"\n",
    "    echo \"Arguments received: $*\"\n",
    "    exec echo \"$@\"\n",
    "\n",
    "%test\n",
    "    grep -q NAME=\\\"Ubuntu\\\" /etc/os-release\n",
    "    if [ $? -eq 0 ]; then\n",
    "        echo \"Container base is Ubuntu as expected.\"\n",
    "    else\n",
    "        echo \"Container base is not Ubuntu.\"\n",
    "        exit 1\n",
    "    fi\n",
    "\n",
    "%labels\n",
    "    Author alice\n",
    "    Version v0.0.1\n",
    "\n",
    "%help\n",
    "    This is a demo container used to illustrate a def file that uses all\n",
    "    supported sections.\n",
    "```"
   ]
  },
  {
   "cell_type": "code",
   "execution_count": 32,
   "metadata": {
    "slideshow": {
     "slide_type": "subslide"
    }
   },
   "outputs": [
    {
     "name": "stdout",
     "output_type": "stream",
     "text": [
      "Bootstrap: docker\n",
      "From: ubuntu\n",
      "\n",
      "%files\n",
      "    logo.txt /opt/message.txt\n",
      "\n",
      "%runscript\n",
      "    cat /opt/message.txt\n"
     ]
    }
   ],
   "source": [
    "cat WelcomeImage/hello.def"
   ]
  },
  {
   "cell_type": "markdown",
   "metadata": {
    "slideshow": {
     "slide_type": "subslide"
    }
   },
   "source": [
    "<div class=\"alert alert-info\" role=\"alert\">\n",
    "    ▶ Try this yourself!\n",
    "    <br/>\n",
    "    <ul>\n",
    "        <li>Try to make a container that uses the R <a href=\"https://github.com/sckott/cowsay#install\">cowsay</a> package</li>\n",
    "        <li>You will have to install the appropriate R package, and then run the <code>say()</code> function using the user input</li>\n",
    "        <li>You can use the <code>$*</code> bash variable to access user input</li>\n",
    "        <li>The <code>Rscript</code> command can be used to run R commands</li>\n",
    "    </ul>\n",
    "</div>"
   ]
  },
  {
   "cell_type": "code",
   "execution_count": 33,
   "metadata": {
    "slideshow": {
     "slide_type": "subslide"
    }
   },
   "outputs": [
    {
     "name": "stdout",
     "output_type": "stream",
     "text": [
      "Bootstrap: docker\n",
      "From: r-base\n",
      "\n",
      "%post\n",
      "    Rscript -e 'install.packages(\"cowsay\")'\n",
      "\n",
      "%runscript\n",
      "    Rscript -e \"cowsay::say('$*')\"\n"
     ]
    }
   ],
   "source": [
    "cat cowsay.def"
   ]
  },
  {
   "cell_type": "code",
   "execution_count": 34,
   "metadata": {
    "slideshow": {
     "slide_type": "-"
    }
   },
   "outputs": [
    {
     "name": "stdout",
     "output_type": "stream",
     "text": [
      "\u001b[34mINFO:   \u001b[0m User not listed in /etc/subuid, trying root-mapped namespace\n",
      "\u001b[34mINFO:   \u001b[0m The %post section will be run under fakeroot\n",
      "\u001b[34mINFO:   \u001b[0m Starting build...\n",
      "Getting image source signatures\n",
      "Copying blob ae8780930e7e skipped: already exists  \n",
      "Copying blob ebbe46658ae1 skipped: already exists  \n",
      "Copying blob b6e2154a522a skipped: already exists  \n",
      "Copying blob 36a417257f63 skipped: already exists  \n",
      "\u001b[4A\u001b[JCopying blob ae8780930e7e skipped: already exists  \n",
      "Copying blob ebbe46658ae1 skipped: already exists  \n",
      "Copying blob b6e2154a522a skipped: already exists  \n",
      "Copying blob 36a417257f63 skipped: already exists  \n",
      "Copying blob 48f11b798771 skipped: already exists  \n",
      "Copying blob ced6bc7d0fb6 skipped: already exists  \n",
      "Copying config 935885ce10 done  \n",
      "Writing manifest to image destination\n",
      "Storing signatures\n",
      "2022/11/17 16:38:39  info unpack layer: sha256:ebbe46658ae1eddd748e3222cbc9dd7109f9fd7f279a4b2f9d6a32d0a58b4c16\n",
      "2022/11/17 16:38:41  info unpack layer: sha256:ae8780930e7e7b18116589a863916682a85c45bec3c738dab17f8740830988b5\n",
      "2022/11/17 16:38:41  info unpack layer: sha256:48f11b798771daf119baa7f2f3d5b9c4363b0aec5d12e488fbb2e07a0cf0be79\n",
      "2022/11/17 16:38:42  info unpack layer: sha256:ced6bc7d0fb644dbcbeecc374d4904ae5df8f303707c30aa60514e3d929fd644\n",
      "2022/11/17 16:38:42  info unpack layer: sha256:b6e2154a522a29fd10fe63922ee826f4d42e1e474ad08bc2f8c71e811e7f0127\n",
      "2022/11/17 16:38:42  info unpack layer: sha256:36a417257f633cd58de6c3b59ec8c55c5bb04296fa387da3daa9cc1cba037116\n",
      "\u001b[34mINFO:   \u001b[0m Running post scriptlet\n",
      "+ Rscript -e install.packages(\"cowsay\")\n",
      "Installing package into ‘/usr/local/lib/R/site-library’\n",
      "(as ‘lib’ is unspecified)\n",
      "also installing the dependencies ‘crayon’, ‘fortunes’, ‘rmsfact’\n",
      "\n",
      "trying URL 'https://cloud.r-project.org/src/contrib/crayon_1.5.2.tar.gz'\n",
      "Content type 'application/x-gzip' length 40567 bytes (39 KB)\n",
      "==================================================\n",
      "downloaded 39 KB\n",
      "\n",
      "trying URL 'https://cloud.r-project.org/src/contrib/fortunes_1.5-4.tar.gz'\n",
      "Content type 'application/x-gzip' length 192938 bytes (188 KB)\n",
      "==================================================\n",
      "downloaded 188 KB\n",
      "\n",
      "trying URL 'https://cloud.r-project.org/src/contrib/rmsfact_0.0.3.tar.gz'\n",
      "Content type 'application/x-gzip' length 10728 bytes (10 KB)\n",
      "==================================================\n",
      "downloaded 10 KB\n",
      "\n",
      "trying URL 'https://cloud.r-project.org/src/contrib/cowsay_0.8.0.tar.gz'\n",
      "Content type 'application/x-gzip' length 578034 bytes (564 KB)\n",
      "==================================================\n",
      "downloaded 564 KB\n",
      "\n",
      "* installing *source* package ‘crayon’ ...\n",
      "** package ‘crayon’ successfully unpacked and MD5 sums checked\n",
      "** using staged installation\n",
      "** R\n",
      "** byte-compile and prepare package for lazy loading\n",
      "** help\n",
      "*** installing help indices\n",
      "** building package indices\n",
      "** testing if installed package can be loaded from temporary location\n",
      "** testing if installed package can be loaded from final location\n",
      "** testing if installed package keeps a record of temporary installation path\n",
      "* DONE (crayon)\n",
      "* installing *source* package ‘fortunes’ ...\n",
      "** package ‘fortunes’ successfully unpacked and MD5 sums checked\n",
      "** using staged installation\n",
      "** R\n",
      "** inst\n",
      "** byte-compile and prepare package for lazy loading\n",
      "** help\n",
      "*** installing help indices\n",
      "** building package indices\n",
      "** installing vignettes\n",
      "** testing if installed package can be loaded from temporary location\n",
      "** testing if installed package can be loaded from final location\n",
      "** testing if installed package keeps a record of temporary installation path\n",
      "* DONE (fortunes)\n",
      "* installing *source* package ‘rmsfact’ ...\n",
      "** package ‘rmsfact’ successfully unpacked and MD5 sums checked\n",
      "** using staged installation\n",
      "** R\n",
      "** inst\n",
      "** byte-compile and prepare package for lazy loading\n",
      "** help\n",
      "*** installing help indices\n",
      "** building package indices\n",
      "** testing if installed package can be loaded from temporary location\n",
      "** testing if installed package can be loaded from final location\n",
      "** testing if installed package keeps a record of temporary installation path\n",
      "* DONE (rmsfact)\n",
      "* installing *source* package ‘cowsay’ ...\n",
      "** package ‘cowsay’ successfully unpacked and MD5 sums checked\n",
      "** using staged installation\n",
      "** R\n",
      "** inst\n",
      "** byte-compile and prepare package for lazy loading\n",
      "** help\n",
      "*** installing help indices\n",
      "** building package indices\n",
      "** installing vignettes\n",
      "** testing if installed package can be loaded from temporary location\n",
      "** testing if installed package can be loaded from final location\n",
      "** testing if installed package keeps a record of temporary installation path\n",
      "* DONE (cowsay)\n",
      "\n",
      "The downloaded source packages are in\n",
      "\t‘/tmp/RtmpiSSI9D/downloaded_packages’\n",
      "\u001b[34mINFO:   \u001b[0m Adding runscript\n",
      "\u001b[34mINFO:   \u001b[0m Creating SIF file...\n",
      "\u001b[34mINFO:   \u001b[0m Build complete: cowsay.sif\n"
     ]
    }
   ],
   "source": [
    "apptainer build cowsay.sif cowsay.def"
   ]
  },
  {
   "cell_type": "code",
   "execution_count": 35,
   "metadata": {},
   "outputs": [
    {
     "name": "stdout",
     "output_type": "stream",
     "text": [
      "\n",
      " -------------- \n",
      "A cat has the power to sometimes heal themselves by purring. A domestic cat's purr has a frequency of between 25 and 150 Hertz, which happens to be the frequency at which muscles and bones best grow and repair themselves.  \n",
      " --------------\n",
      "    \\\n",
      "      \\\n",
      "        \\\n",
      "            |\\___/|\n",
      "          ==) ^Y^ (==\n",
      "            \\  ^  /\n",
      "             )=*=(\n",
      "            /     \\\n",
      "            |     |\n",
      "           /| | | |\\\n",
      "           \\| | |_|/\\\n",
      "      jgs  //_// ___/\n",
      "               \\_)\n",
      "  "
     ]
    }
   ],
   "source": [
    "apptainer run cowsay.sif catfact"
   ]
  },
  {
   "cell_type": "markdown",
   "metadata": {
    "slideshow": {
     "slide_type": "slide"
    }
   },
   "source": [
    "## Hosting Containers"
   ]
  },
  {
   "cell_type": "markdown",
   "metadata": {},
   "source": [
    "* You can share your apptainer images as files that you upload to a storage service or keep on a server\n",
    "* You can also upload images to container repositories such as GitHub, so people can run them directly from the internet"
   ]
  },
  {
   "cell_type": "code",
   "execution_count": 36,
   "metadata": {},
   "outputs": [
    {
     "name": "stdout",
     "output_type": "stream",
     "text": [
      "Upload image to the provided URI\n",
      "\n",
      "Usage:\n",
      "  apptainer push [push options...] <image> <URI>\n",
      "\n",
      "Description:\n",
      "  The 'push' command allows you to upload a SIF container to a given\n",
      "  URI.  Supported URIs include:\n",
      "\n",
      "  library:\n",
      "      library://user/collection/container[:tag]\n",
      "\n",
      "  oras:\n",
      "      oras://registry/namespace/image:tag\n",
      "\n",
      "\n",
      "  NOTE: It's always good practice to sign your containers before\n",
      "  pushing them to the library. An auth token is required to push to the library,\n",
      "  so you may need to configure it first with 'apptainer remote'.\n",
      "\n",
      "Options:\n",
      "  -U, --allow-unsigned       do not require a signed container image\n",
      "  -D, --description string   description for container image (library:// only)\n",
      "  -h, --help                 help for push\n",
      "      --library string       the library to push to\n",
      "      --no-https             use http instead of https for docker://\n",
      "                             oras:// and library://<hostname>/... URIs\n",
      "\n",
      "\n",
      "Examples:\n",
      "  To Library\n",
      "  $ apptainer push /home/user/my.sif library://user/collection/my.sif:latest\n",
      "\n",
      "  To supported OCI registry\n",
      "  $ apptainer push /home/user/my.sif oras://registry/namespace/image:tag\n",
      "\n",
      "\n",
      "For additional help or support, please visit https://apptainer.org/help/\n"
     ]
    }
   ],
   "source": [
    "apptainer push --help"
   ]
  },
  {
   "cell_type": "markdown",
   "metadata": {
    "slideshow": {
     "slide_type": "subslide"
    }
   },
   "source": [
    "### Create a Token\n",
    "\n",
    "In order to push a container to GitHub, you will need to generate an access token for Apptainer to use\n",
    "\n",
    "<div class=\"alert alert-info\" role=\"alert\">\n",
    "    ▶ Try this yourself!\n",
    "</div>\n",
    "\n",
    "* Visit https://github.com/settings/tokens\n",
    "* \"Generate a new token (classic)\"\n",
    "* Check `write:packages`\n",
    "* Click \"Generate token\""
   ]
  },
  {
   "cell_type": "markdown",
   "metadata": {
    "slideshow": {
     "slide_type": "subslide"
    }
   },
   "source": [
    "## Login"
   ]
  },
  {
   "cell_type": "code",
   "execution_count": 37,
   "metadata": {
    "slideshow": {
     "slide_type": "-"
    }
   },
   "outputs": [
    {
     "name": "stdout",
     "output_type": "stream",
     "text": [
      "\u001b[34mINFO:   \u001b[0m Token stored in /home/users/allstaff/milton.m/.apptainer/remote.yaml\n"
     ]
    }
   ],
   "source": [
    "apptainer remote login --username $GITHUB_USERNAME --password $GITHUB_TOKEN docker://ghcr.io"
   ]
  },
  {
   "cell_type": "code",
   "execution_count": 38,
   "metadata": {
    "slideshow": {
     "slide_type": "-"
    }
   },
   "outputs": [
    {
     "name": "stdout",
     "output_type": "stream",
     "text": [
      "\u001b[34mINFO:   \u001b[0m No tag or digest found, using default: latest\n",
      "\u001b[34mINFO:   \u001b[0m Upload complete\n"
     ]
    }
   ],
   "source": [
    "apptainer push cowsay.sif oras://ghcr.io/$GITHUB_USERNAME/cowsay"
   ]
  },
  {
   "cell_type": "markdown",
   "metadata": {},
   "source": [
    "You can now view the package at [`https://github.com/$GITHUB_USERNAME?tab=packages`](https://github.com/multimeric?tab=packages)"
   ]
  },
  {
   "cell_type": "code",
   "execution_count": 40,
   "metadata": {},
   "outputs": [
    {
     "name": "stdout",
     "output_type": "stream",
     "text": [
      "\u001b[34mINFO:   \u001b[0m Using cached SIF image\n",
      "\n",
      " -------------- \n",
      "All cats have claws, and all except the cheetah sheath them when at rest. \n",
      " --------------\n",
      "    \\\n",
      "      \\\n",
      "        \\\n",
      "            |\\___/|\n",
      "          ==) ^Y^ (==\n",
      "            \\  ^  /\n",
      "             )=*=(\n",
      "            /     \\\n",
      "            |     |\n",
      "           /| | | |\\\n",
      "           \\| | |_|/\\\n",
      "      jgs  //_// ___/\n",
      "               \\_)\n",
      "  "
     ]
    }
   ],
   "source": [
    "apptainer run oras://ghcr.io/$GITHUB_USERNAME/cowsay:latest catfact"
   ]
  }
 ],
 "metadata": {
  "celltoolbar": "Slideshow",
  "kernelspec": {
   "display_name": "Bash",
   "language": "bash",
   "name": "bash"
  },
  "language_info": {
   "codemirror_mode": "shell",
   "file_extension": ".sh",
   "mimetype": "text/x-sh",
   "name": "bash"
  }
 },
 "nbformat": 4,
 "nbformat_minor": 4
}
