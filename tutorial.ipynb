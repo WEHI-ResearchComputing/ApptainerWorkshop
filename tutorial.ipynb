{
 "cells": [
  {
   "cell_type": "code",
   "execution_count": null,
   "metadata": {
    "slideshow": {
     "slide_type": "skip"
    }
   },
   "outputs": [],
   "source": [
    "source vars.sh"
   ]
  },
  {
   "cell_type": "markdown",
   "metadata": {
    "slideshow": {
     "slide_type": "slide"
    }
   },
   "source": [
    "# Containers on Milton"
   ]
  },
  {
   "cell_type": "markdown",
   "metadata": {
    "slideshow": {
     "slide_type": "slide"
    }
   },
   "source": [
    "# Motivation"
   ]
  },
  {
   "cell_type": "markdown",
   "metadata": {
    "slideshow": {
     "slide_type": "subslide"
    }
   },
   "source": [
    "## Why Containers?\n",
    "\n",
    "* Reproducibility: ensure the analysis is insulated from changes in the outside system such as upgrades, environment variables etc.\n",
    "    * e.g. you can compile a container with the exact R version, packages and data required to reproduce your analysis!\n",
    "* Easy Usage: no need to install dependencies, use `make` etc, since they are all bundled. Sometimes users don't have permissions to install dependencies.\n",
    "    * e.g. WEHI's AlphaFold\n",
    "* Portability: the same `.sif` container can be run on any Linux machine with the same CPU architecture. No need to install using `apt`/`yum`/`conda` etc\n",
    "    e.g. deploying a web application such as Shiny\n",
    "* Maintainability: developers don't need to edit code to accommodate updates to language version etc\n",
    "* OS Support: can be used to run old or new software that isn't compatible with the OS without breaking everything else.\n",
    "\n",
    "[More information](https://apptainer.org/docs/user/main/introduction.html#use-cases)"
   ]
  },
  {
   "cell_type": "markdown",
   "metadata": {
    "slideshow": {
     "slide_type": "subslide"
    }
   },
   "source": [
    "## Why Apptainer?\n",
    "\n",
    "Linux supports various container engines:\n",
    "\n",
    "* Docker: most popular, but insecure on shared systems\n",
    "* Podman: open source re-implementation of Docker. More secure\n",
    "* Apptainer: different API from docker, designed to be HPC-first\n",
    "* Singularity: old version of Singularity"
   ]
  },
  {
   "cell_type": "markdown",
   "metadata": {},
   "source": [
    "## What about Conda?\n",
    "\n",
    "* Conda solves the same problem of software installation\n",
    "* You can share conda environment files to increase reproducibility\n",
    "* Conda is even usable with Nextflow\n",
    "* However:\n",
    "    * Sharing Conda environment files is like sharing a recipe rather than sharing your cookies\n",
    "    * Installation can be quite slow due to resolving the dependencies each time\n",
    "    * Not contained: using Conda still means your analysis is influenced by your environment, your operating system, and everything else you have installed\n",
    "    * Certain platforms and engines only accept containers: Cromwell/WDL/terra.bio, AWS\n",
    "    * If a tool is not in Conda, you can often compile a tool from scratch inside a container, which might be difficult or impossible with Conda"
   ]
  },
  {
   "cell_type": "markdown",
   "metadata": {
    "slideshow": {
     "slide_type": "slide"
    }
   },
   "source": [
    "# Running Containers"
   ]
  },
  {
   "cell_type": "markdown",
   "metadata": {
    "slideshow": {
     "slide_type": "subslide"
    }
   },
   "source": [
    "## Setting Up Apptainer\n",
    "\n",
    "First we need to load apptainer. The most common way to load apptainer is as an [Environment Module](https://modules.readthedocs.io/en/latest/). On milton, the latest version we have access to is `1.1.0`.\n",
    "\n",
    "<div class=\"alert alert-info\" role=\"alert\">\n",
    "    ▶ Try this yourself!\n",
    "</div>"
   ]
  },
  {
   "cell_type": "code",
   "execution_count": null,
   "metadata": {
    "slideshow": {
     "slide_type": "-"
    }
   },
   "outputs": [],
   "source": [
    "module load apptainer/1.1.0"
   ]
  },
  {
   "cell_type": "code",
   "execution_count": null,
   "metadata": {
    "slideshow": {
     "slide_type": "-"
    }
   },
   "outputs": [],
   "source": [
    "apptainer version"
   ]
  },
  {
   "cell_type": "code",
   "execution_count": null,
   "metadata": {
    "slideshow": {
     "slide_type": "subslide"
    }
   },
   "outputs": [],
   "source": [
    "apptainer help"
   ]
  },
  {
   "cell_type": "markdown",
   "metadata": {
    "slideshow": {
     "slide_type": "subslide"
    }
   },
   "source": [
    "## Apptainer Run\n",
    "\n",
    "You can run Apptainer images using the `apptainer run` command. This executes the \"runscript\" inside the container, which is the default executable:"
   ]
  },
  {
   "cell_type": "code",
   "execution_count": null,
   "metadata": {
    "slideshow": {
     "slide_type": "-"
    }
   },
   "outputs": [],
   "source": [
    "apptainer run --help"
   ]
  },
  {
   "cell_type": "markdown",
   "metadata": {
    "slideshow": {
     "slide_type": "subslide"
    }
   },
   "source": [
    "If you're working with an image you have downloaded, this will probably be a `.sif` file:\n",
    "\n",
    "<div class=\"alert alert-info\" role=\"alert\">\n",
    "    ▶ Try this yourself!\n",
    "</div>"
   ]
  },
  {
   "cell_type": "code",
   "execution_count": null,
   "metadata": {
    "scrolled": true,
    "slideshow": {
     "slide_type": "-"
    }
   },
   "outputs": [],
   "source": [
    "apptainer run WelcomeImage/hello.sif"
   ]
  },
  {
   "cell_type": "code",
   "execution_count": null,
   "metadata": {
    "slideshow": {
     "slide_type": "skip"
    }
   },
   "outputs": [],
   "source": [
    "#apptainer run oras://ghcr.io/WEHI-ResearchComputing/hello:latest"
   ]
  },
  {
   "cell_type": "markdown",
   "metadata": {
    "slideshow": {
     "slide_type": "subslide"
    }
   },
   "source": [
    "Next, we will try to run a Docker container. This is the most common type of container you will likely find in the wild, since Apptainer is mostly only used on HPC. To run a Docker image in Apptainer, you will need to add `docker://` to the name of the image.\n",
    "\n",
    "<div class=\"alert alert-info\" role=\"alert\">\n",
    "    ▶ Try this yourself!\n",
    "</div>"
   ]
  },
  {
   "cell_type": "code",
   "execution_count": null,
   "metadata": {
    "scrolled": true,
    "slideshow": {
     "slide_type": "-"
    }
   },
   "outputs": [],
   "source": [
    "apptainer run docker://hello-world"
   ]
  },
  {
   "cell_type": "markdown",
   "metadata": {
    "slideshow": {
     "slide_type": "-"
    }
   },
   "source": [
    "Note that the Docker image was converted to `.sif` behind the scenes!"
   ]
  },
  {
   "cell_type": "markdown",
   "metadata": {
    "slideshow": {
     "slide_type": "subslide"
    }
   },
   "source": [
    "## Docker Hub\n",
    "\n",
    "* Docker Hub is a common place to host Docker images\n",
    "* However, it's not a great source for bioinformatics images (more on that later)\n",
    "* You can search Docker Hub at: https://hub.docker.com/search?q=\n",
    "\n",
    "<div class=\"alert alert-info\" role=\"alert\">\n",
    "    ▶ Try this yourself! \n",
    "    See if you can find the official R Docker image. Then, <code>apptainer run</code> it.\n",
    "    <br/>\n",
    "    Tip: You might have to use some keywords.\n",
    "    <br/>\n",
    "    Tip 2: Remember to use the <code>docker://</code> prefix!\n",
    "</div>"
   ]
  },
  {
   "cell_type": "code",
   "execution_count": 1,
   "metadata": {
    "slideshow": {
     "slide_type": "skip"
    }
   },
   "outputs": [
    {
     "name": "stdout",
     "output_type": "stream",
     "text": [
      "\u001b[33mWARNING:\u001b[0m DEPRECATED USAGE: Environment variable SINGULARITY_HOME will not be supported in the future, use APPTAINER_HOME instead\n",
      "\u001b[34mINFO:   \u001b[0m Using cached SIF image\n",
      "[1] 1\n"
     ]
    }
   ],
   "source": [
    "apptainer run docker://r-base Rscript -e 1"
   ]
  },
  {
   "cell_type": "markdown",
   "metadata": {
    "slideshow": {
     "slide_type": "fragment"
    }
   },
   "source": [
    "<div class=\"alert alert-success\" role=\"alert\"><code>apptainer run docker://r-base</code></div>"
   ]
  },
  {
   "cell_type": "markdown",
   "metadata": {
    "slideshow": {
     "slide_type": "subslide"
    }
   },
   "source": [
    "## Apptainer Exec\n",
    "\n",
    "* Does **not** run the runscript\n",
    "* Executes a custom command inside the container\n",
    "* More likely to use this than `apptainer run`\n",
    "* Good practise for biocontainers\n",
    "* Can be used to run interactive commands (similar to SSH!)"
   ]
  },
  {
   "cell_type": "code",
   "execution_count": 2,
   "metadata": {
    "scrolled": true,
    "slideshow": {
     "slide_type": "-"
    }
   },
   "outputs": [
    {
     "name": "stdout",
     "output_type": "stream",
     "text": [
      "Run a command within a container\n",
      "\n",
      "Usage:\n",
      "  apptainer exec [exec options...] <container> <command>\n",
      "\n",
      "Description:\n",
      "  apptainer exec supports the following formats:\n",
      "\n",
      "  *.sif               Singularity Image Format (SIF). Native to Singularity\n",
      "                      (3.0+) and Apptainer (v1.0.0+)\n",
      "  \n",
      "  *.sqsh              SquashFS format.  Native to Singularity 2.4+\n",
      "\n",
      "  *.img               ext3 format. Native to Singularity versions < 2.4.\n",
      "\n",
      "  directory/          sandbox format. Directory containing a valid root file \n",
      "                      system and optionally Apptainer meta-data.\n",
      "\n",
      "  instance://*        A local running instance of a container. (See the instance\n",
      "                      command group.)\n",
      "\n",
      "  library://*         A SIF container hosted on a Library (no default)\n",
      "\n",
      "  docker://*          A Docker/OCI container hosted on Docker Hub or another\n",
      "                      OCI registry.\n",
      "\n",
      "  shub://*            A container hosted on Singularity Hub.\n",
      "\n",
      "  oras://*            A SIF container hosted on an OCI registry that supports\n",
      "                      the OCI Registry As Storage (ORAS) specification.\n",
      "\n",
      "Options:\n",
      "      --add-caps string               a comma separated capability list to add\n",
      "      --allow-setuid                  allow setuid binaries in container\n",
      "                                      (root only)\n",
      "      --app string                    set an application to run inside a\n",
      "                                      container\n",
      "      --apply-cgroups string          apply cgroups from file for\n",
      "                                      container processes (root only)\n",
      "  -B, --bind stringArray              a user-bind path specification. \n",
      "                                      spec has the format\n",
      "                                      src[:dest[:opts]], where src and\n",
      "                                      dest are outside and inside paths. \n",
      "                                      If dest is not given, it is set\n",
      "                                      equal to src.  Mount options\n",
      "                                      ('opts') may be specified as 'ro'\n",
      "                                      (read-only) or 'rw' (read/write,\n",
      "                                      which is the default). Multiple bind\n",
      "                                      paths can be given by a comma\n",
      "                                      separated list.\n",
      "      --blkio-weight int              Block IO relative weight in range\n",
      "                                      10-1000, 0 to disable\n",
      "      --blkio-weight-device strings   Device specific block IO relative weight\n",
      "  -e, --cleanenv                      clean environment before running\n",
      "                                      container\n",
      "      --compat                        apply settings for increased\n",
      "                                      OCI/Docker compatibility. Infers\n",
      "                                      --containall, --no-init, --no-umask,\n",
      "                                      --no-eval, --writable-tmpfs.\n",
      "  -c, --contain                       use minimal /dev and empty other\n",
      "                                      directories (e.g. /tmp and $HOME)\n",
      "                                      instead of sharing filesystems from\n",
      "                                      your host\n",
      "  -C, --containall                    contain not only file systems, but\n",
      "                                      also PID, IPC, and environment\n",
      "      --cpu-shares int                CPU shares for container (default -1)\n",
      "      --cpus string                   Number of CPUs available to container\n",
      "      --cpuset-cpus string            List of host CPUs available to container\n",
      "      --cpuset-mems string            List of host memory nodes available\n",
      "                                      to container\n",
      "      --disable-cache                 do not use or create cache\n",
      "      --dns string                    list of DNS server separated by\n",
      "                                      commas to add in resolv.conf\n",
      "      --docker-login                  login to a Docker Repository\n",
      "                                      interactively\n",
      "      --drop-caps string              a comma separated capability list to drop\n",
      "      --env stringToString            pass environment variable to\n",
      "                                      contained process (default [])\n",
      "      --env-file string               pass environment variables from file\n",
      "                                      to contained process\n",
      "  -f, --fakeroot                      run container with the appearance of\n",
      "                                      running as root\n",
      "      --fusemount strings             A FUSE filesystem mount\n",
      "                                      specification of the form\n",
      "                                      '<type>:<fuse command> <mountpoint>'\n",
      "                                      - where <type> is 'container' or\n",
      "                                      'host', specifying where the mount\n",
      "                                      will be performed\n",
      "                                      ('container-daemon' or 'host-daemon'\n",
      "                                      will run the FUSE process detached).\n",
      "                                      <fuse command> is the path to the\n",
      "                                      FUSE executable, plus options for\n",
      "                                      the mount. <mountpoint> is the\n",
      "                                      location in the container to which\n",
      "                                      the FUSE mount will be attached.\n",
      "                                      E.g. 'container:sshfs 10.0.0.1:/\n",
      "                                      /sshfs'. Implies --pid.\n",
      "  -h, --help                          help for exec\n",
      "  -H, --home string                   a home directory specification. \n",
      "                                      spec can either be a src path or\n",
      "                                      src:dest pair.  src is the source\n",
      "                                      path of the home directory outside\n",
      "                                      the container and dest overrides the\n",
      "                                      home directory within the container.\n",
      "                                      (default \"/home/users/allstaff/milton.m\")\n",
      "      --hostname string               set container hostname\n",
      "  -i, --ipc                           run container in a new IPC namespace\n",
      "      --keep-privs                    let root user keep privileges in\n",
      "                                      container (root only)\n",
      "      --memory string                 Memory limit in bytes\n",
      "      --memory-reservation string     Memory soft limit in bytes\n",
      "      --memory-swap string            Swap limit, use -1 for unlimited swap\n",
      "      --mount stringArray             a mount specification e.g.\n",
      "                                      'type=bind,source=/opt,destination=/hostopt'.\n",
      "  -n, --net                           run container in a new network\n",
      "                                      namespace (sets up a bridge network\n",
      "                                      interface by default)\n",
      "      --network string                specify desired network type\n",
      "                                      separated by commas, each network\n",
      "                                      will bring up a dedicated interface\n",
      "                                      inside container (default \"bridge\")\n",
      "      --network-args strings          specify network arguments to pass to\n",
      "                                      CNI plugins\n",
      "      --no-eval                       do not shell evaluate env vars or\n",
      "                                      OCI container CMD/ENTRYPOINT/ARGS\n",
      "      --no-home                       do NOT mount users home directory if\n",
      "                                      /home is not the current working\n",
      "                                      directory\n",
      "      --no-https                      use http instead of https for\n",
      "                                      docker:// oras:// and\n",
      "                                      library://<hostname>/... URIs\n",
      "      --no-init                       do NOT start shim process with --pid\n",
      "      --no-mount strings              disable one or more 'mount xxx'\n",
      "                                      options set in apptainer.conf and/or\n",
      "                                      specify absolute destination path to\n",
      "                                      disable a 'bind path' entry\n"
     ]
    },
    {
     "name": "stdout",
     "output_type": "stream",
     "text": [
      "      --no-privs                      drop all privileges from root user\n",
      "                                      in container)\n",
      "      --no-umask                      do not propagate umask to the\n",
      "                                      container, set default 0022 umask\n",
      "      --nv                            enable Nvidia support\n",
      "      --nvccli                        use nvidia-container-cli for GPU\n",
      "                                      setup (experimental)\n",
      "      --oom-kill-disable              Disable OOM killer\n",
      "  -o, --overlay strings               use an overlayFS image for\n",
      "                                      persistent data storage or as\n",
      "                                      read-only layer of container\n",
      "      --passphrase                    prompt for an encryption passphrase\n",
      "      --pem-path string               enter an path to a PEM formatted RSA\n",
      "                                      key for an encrypted container\n",
      "  -p, --pid                           run container in a new PID namespace\n",
      "      --pids-limit int                Limit number of container PIDs, use\n",
      "                                      -1 for unlimited\n",
      "      --pwd string                    initial working directory for\n",
      "                                      payload process inside the container\n",
      "      --rocm                          enable experimental Rocm support\n",
      "  -S, --scratch strings               include a scratch directory within\n",
      "                                      the container that is linked to a\n",
      "                                      temporary dir (use -W to force location)\n",
      "      --security strings              enable security features (SELinux,\n",
      "                                      Apparmor, Seccomp)\n",
      "      --unsquash                      Convert SIF file to temporary\n",
      "                                      sandbox before running\n",
      "  -u, --userns                        run container in a new user namespace\n",
      "      --uts                           run container in a new UTS namespace\n",
      "      --vm                            enable VM support\n",
      "      --vm-cpu string                 number of CPU cores to allocate to\n",
      "                                      Virtual Machine (implies --vm)\n",
      "                                      (default \"1\")\n",
      "      --vm-err                        enable attaching stderr from VM\n",
      "      --vm-ip string                  IP Address to assign for container\n",
      "                                      usage. Defaults to DHCP within\n",
      "                                      bridge network. (default \"dhcp\")\n",
      "      --vm-ram string                 amount of RAM in MiB to allocate to\n",
      "                                      Virtual Machine (implies --vm)\n",
      "                                      (default \"1024\")\n",
      "  -W, --workdir string                working directory to be used for\n",
      "                                      /tmp, /var/tmp and $HOME (if\n",
      "                                      -c/--contain was also used)\n",
      "  -w, --writable                      by default all Apptainer containers\n",
      "                                      are available as read only. This\n",
      "                                      option makes the file system\n",
      "                                      accessible as read/write.\n",
      "      --writable-tmpfs                makes the file system accessible as\n",
      "                                      read-write with non persistent data\n",
      "                                      (with overlay support only)\n",
      "\n",
      "\n",
      "Examples:\n",
      "  $ apptainer exec /tmp/debian.sif cat /etc/debian_version\n",
      "  $ apptainer exec /tmp/debian.sif python ./hello_world.py\n",
      "  $ cat hello_world.py | apptainer exec /tmp/debian.sif python\n",
      "  $ sudo apptainer exec --writable /tmp/debian.sif apt-get update\n",
      "  $ apptainer exec instance://my_instance ps -ef\n",
      "  $ apptainer exec library://centos cat /etc/os-release\n",
      "\n",
      "\n",
      "For additional help or support, please visit https://apptainer.org/help/\n"
     ]
    }
   ],
   "source": [
    "apptainer exec --help"
   ]
  },
  {
   "cell_type": "markdown",
   "metadata": {
    "slideshow": {
     "slide_type": "subslide"
    }
   },
   "source": [
    "<div class=\"alert alert-info\" role=\"alert\">\n",
    "    ▶ Try this yourself!\n",
    "</div>"
   ]
  },
  {
   "cell_type": "code",
   "execution_count": 3,
   "metadata": {
    "slideshow": {
     "slide_type": "-"
    }
   },
   "outputs": [
    {
     "name": "stdout",
     "output_type": "stream",
     "text": [
      "\u001b[33mWARNING:\u001b[0m DEPRECATED USAGE: Environment variable SINGULARITY_HOME will not be supported in the future, use APPTAINER_HOME instead\n",
      "message.txt\n"
     ]
    }
   ],
   "source": [
    "apptainer exec WelcomeImage/hello.sif ls /opt"
   ]
  },
  {
   "cell_type": "code",
   "execution_count": 4,
   "metadata": {
    "slideshow": {
     "slide_type": "-"
    }
   },
   "outputs": [
    {
     "name": "stdout",
     "output_type": "stream",
     "text": [
      "\u001b[0m\u001b[01;34mnvidia\u001b[0m  \u001b[01;34mquantum\u001b[0m\n"
     ]
    }
   ],
   "source": [
    " ls /opt"
   ]
  },
  {
   "cell_type": "code",
   "execution_count": null,
   "metadata": {
    "slideshow": {
     "slide_type": "skip"
    }
   },
   "outputs": [],
   "source": [
    "apptainer exec docker://docker/whalesay cowsay boo"
   ]
  },
  {
   "cell_type": "markdown",
   "metadata": {
    "slideshow": {
     "slide_type": "subslide"
    }
   },
   "source": [
    "## Interactive Sessions with Apptainer Shell\n",
    "\n",
    "* Lets you run commands interactively inside a container\n",
    "* Acts like `ssh`\n",
    "\n",
    "\n",
    "<div class=\"alert alert-info\" role=\"alert\">\n",
    "    ▶ Try this yourself! \n",
    "</div>"
   ]
  },
  {
   "cell_type": "code",
   "execution_count": 10,
   "metadata": {
    "slideshow": {
     "slide_type": "skip"
    }
   },
   "outputs": [
    {
     "name": "stdout",
     "output_type": "stream",
     "text": [
      "\u001b[33mWARNING:\u001b[0m DEPRECATED USAGE: Environment variable SINGULARITY_HOME will not be supported in the future, use APPTAINER_HOME instead\n",
      "\u001b[34mINFO:   \u001b[0m Using cached SIF image\n",
      "PRETTY_NAME=\"Ubuntu 22.04.1 LTS\"\n",
      "NAME=\"Ubuntu\"\n",
      "VERSION_ID=\"22.04\"\n",
      "VERSION=\"22.04.1 LTS (Jammy Jellyfish)\"\n",
      "VERSION_CODENAME=jammy\n",
      "ID=ubuntu\n",
      "ID_LIKE=debian\n",
      "HOME_URL=\"https://www.ubuntu.com/\"\n",
      "SUPPORT_URL=\"https://help.ubuntu.com/\"\n",
      "BUG_REPORT_URL=\"https://bugs.launchpad.net/ubuntu/\"\n",
      "PRIVACY_POLICY_URL=\"https://www.ubuntu.com/legal/terms-and-policies/privacy-policy\"\n",
      "UBUNTU_CODENAME=jammy\n"
     ]
    }
   ],
   "source": [
    "apptainer exec docker://ubuntu cat /etc/os-release"
   ]
  },
  {
   "cell_type": "markdown",
   "metadata": {},
   "source": [
    "```bash\n",
    "apptainer shell docker://ubuntu\n",
    "cat /etc/os-release\n",
    "```"
   ]
  },
  {
   "cell_type": "markdown",
   "metadata": {
    "slideshow": {
     "slide_type": "subslide"
    }
   },
   "source": [
    "## Filesystems\n",
    "\n",
    "* **Unlike** Docker, and most other container engines, Apptainer automatically \"mounts\" parts of the HPC filesystem into each container by default\n",
    "* This means that you can access some of your local files inside the container, along with the tools provided by the container\n",
    "\n",
    "<div class=\"alert alert-info\" role=\"alert\">\n",
    "    ▶ Try this yourself!\n",
    "</div>"
   ]
  },
  {
   "cell_type": "code",
   "execution_count": 8,
   "metadata": {},
   "outputs": [
    {
     "name": "stdout",
     "output_type": "stream",
     "text": [
      "\u001b[33mWARNING:\u001b[0m DEPRECATED USAGE: Environment variable SINGULARITY_HOME will not be supported in the future, use APPTAINER_HOME instead\n",
      "\u001b[34mINFO:   \u001b[0m Using cached SIF image\n",
      "ApptainerTutorial\tfuture.tmpl\n",
      "GASAL2\t\t\thca.sqlite-journal\n",
      "HCAquery\t\tjob.sh\n",
      "HcaBenchmarking\t\tjob436761f0f31a180479329fee9b7cc0fe.job\n",
      "HcaPython\t\tjobRegistry\n",
      "IntegrationBenchmarks\tmetadata.sqlite\n",
      "R\t\t\tondemand\n",
      "Scrooge\t\t\toutput\n",
      "Untitled.ipynb\t\tresult\n",
      "Untitled1.ipynb\t\trun.R\n",
      "_targets.R\t\trun.sh\n",
      "clustermq.tmpl\t\tscratch\n",
      "curated_annotation.rds\tscript.job\n",
      "dials.find_spots.log\ttest.tex\n",
      "files_for_michael.rds\ttestdata\n",
      "files_list.rds\t\twf-clone-validation\n"
     ]
    }
   ],
   "source": [
    "apptainer exec docker://ubuntu ls ~"
   ]
  },
  {
   "cell_type": "code",
   "execution_count": 9,
   "metadata": {
    "scrolled": true,
    "slideshow": {
     "slide_type": "-"
    }
   },
   "outputs": [
    {
     "name": "stdout",
     "output_type": "stream",
     "text": [
      "\u001b[0m\u001b[01;34mApptainerTutorial\u001b[0m                        metadata.sqlite\n",
      "clustermq.tmpl                           \u001b[01;34mondemand\u001b[0m\n",
      "curated_annotation.rds                   \u001b[01;34moutput\u001b[0m\n",
      "dials.find_spots.log                     \u001b[01;34mR\u001b[0m\n",
      "files_for_michael.rds                    \u001b[40;31;01mresult\u001b[0m\n",
      "files_list.rds                           run.R\n",
      "future.tmpl                              run.sh\n",
      "\u001b[01;34mGASAL2\u001b[0m                                   \u001b[01;36mscratch\u001b[0m\n",
      "\u001b[01;34mHcaBenchmarking\u001b[0m                          script.job\n",
      "\u001b[01;34mHcaPython\u001b[0m                                \u001b[01;34mScrooge\u001b[0m\n",
      "\u001b[01;34mHCAquery\u001b[0m                                 _targets.R\n",
      "hca.sqlite-journal                       \u001b[01;34mtestdata\u001b[0m\n",
      "\u001b[01;34mIntegrationBenchmarks\u001b[0m                    test.tex\n",
      "job436761f0f31a180479329fee9b7cc0fe.job  Untitled1.ipynb\n",
      "\u001b[01;34mjobRegistry\u001b[0m                              Untitled.ipynb\n",
      "job.sh                                   \u001b[01;34mwf-clone-validation\u001b[0m\n"
     ]
    }
   ],
   "source": [
    "ls ~"
   ]
  },
  {
   "cell_type": "markdown",
   "metadata": {
    "slideshow": {
     "slide_type": "skip"
    }
   },
   "source": [
    "# Writeable\n",
    "\n",
    "* Outside of the mounted directories, containers are read-only by default. You need either the `--writable` or `--writable-tmpfs` flags to edit files\n",
    "* Also, if you want to act as the root (administrator) user, you need `--fakeroot`"
   ]
  },
  {
   "attachments": {},
   "cell_type": "markdown",
   "metadata": {
    "slideshow": {
     "slide_type": "subslide"
    }
   },
   "source": [
    "## Biocontainers\n",
    "\n",
    "* Docker images automatically built from bioconda\n",
    "* Most bioinformatics tools are available\n",
    "* Can search at https://bioconda.github.io/search.html?q=\n",
    "\n",
    "![](media/biocontainers.png)"
   ]
  },
  {
   "cell_type": "markdown",
   "metadata": {
    "slideshow": {
     "slide_type": "-"
    }
   },
   "source": [
    "Talk about metagenomics fasta annotation example"
   ]
  },
  {
   "cell_type": "markdown",
   "metadata": {
    "slideshow": {
     "slide_type": "fragment"
    }
   },
   "source": [
    "<div class=\"alert alert-success\" role=\"alert\"><code>apptainer shell docker://quay.io/biocontainers/diamond:2.0.15--hb97b32f_1\n",
    "    \n",
    "</code></div>"
   ]
  },
  {
   "cell_type": "markdown",
   "metadata": {},
   "source": [
    "## Compiling from Scratch\n",
    "\n",
    "* --fakeroot and --writable"
   ]
  },
  {
   "cell_type": "code",
   "execution_count": null,
   "metadata": {
    "slideshow": {
     "slide_type": "slide"
    }
   },
   "outputs": [],
   "source": [
    "cd WelcomeImage\n",
    "apptainer build hello.sif hello.def"
   ]
  },
  {
   "cell_type": "code",
   "execution_count": null,
   "metadata": {},
   "outputs": [],
   "source": [
    "apptainer run hello.sif"
   ]
  },
  {
   "cell_type": "code",
   "execution_count": null,
   "metadata": {
    "slideshow": {
     "slide_type": "slide"
    }
   },
   "outputs": [],
   "source": [
    "ls /vast/projects/alphafold/alphafold/alphafold-2.2.0.0/"
   ]
  },
  {
   "cell_type": "code",
   "execution_count": null,
   "metadata": {
    "slideshow": {
     "slide_type": "slide"
    }
   },
   "outputs": [],
   "source": [
    "cat /vast/projects/alphafold/alphafold/alphafold-2.2.0.0/bin/alphafold"
   ]
  },
  {
   "cell_type": "code",
   "execution_count": null,
   "metadata": {
    "slideshow": {
     "slide_type": "slide"
    }
   },
   "outputs": [],
   "source": [
    "singularity run /vast/projects/alphafold/alphafold/alphafold-2.2.0.0/AlphaFold-2.2.0.0.sif \\\n",
    "    "
   ]
  },
  {
   "cell_type": "markdown",
   "metadata": {
    "slideshow": {
     "slide_type": "slide"
    }
   },
   "source": [
    "## Building Containers"
   ]
  },
  {
   "cell_type": "markdown",
   "metadata": {
    "slideshow": {
     "slide_type": "slide"
    }
   },
   "source": [
    "## Hosting Containers"
   ]
  },
  {
   "cell_type": "markdown",
   "metadata": {
    "slideshow": {
     "slide_type": "subslide"
    }
   },
   "source": [
    "### Create a Repository"
   ]
  },
  {
   "cell_type": "markdown",
   "metadata": {
    "slideshow": {
     "slide_type": "subslide"
    }
   },
   "source": [
    "### Create a Token\n",
    "\n",
    "* Visit https://github.com/settings/tokens\n",
    "* \"Generate a new token (classic)\"\n",
    "* Check `write:packages`\n",
    "* Click \"Generate token\""
   ]
  },
  {
   "cell_type": "markdown",
   "metadata": {
    "slideshow": {
     "slide_type": "subslide"
    }
   },
   "source": [
    "## Login\n",
    "\n",
    "* Run `apptainer remote login --username <YOUR GITHUB USERNAME> docker://ghcr.io`, and then paste in the access token\n",
    "* Run `apptainer push WelcomeImage/hello.cif oras://ghcr.io/<YOUR GITHUB USERNAME>/hello:latest`"
   ]
  },
  {
   "cell_type": "code",
   "execution_count": null,
   "metadata": {
    "slideshow": {
     "slide_type": "fragment"
    }
   },
   "outputs": [],
   "source": [
    "apptainer remote login --username $GITHUB_USERNAME --password $GITHUB_TOKEN docker://ghcr.io"
   ]
  },
  {
   "cell_type": "code",
   "execution_count": null,
   "metadata": {
    "slideshow": {
     "slide_type": "fragment"
    }
   },
   "outputs": [],
   "source": [
    "apptainer push WelcomeImage/hello.cif oras://ghcr.io/$GITHUB_USERNAME/hello:latest"
   ]
  }
 ],
 "metadata": {
  "celltoolbar": "Slideshow",
  "kernelspec": {
   "display_name": "Bash",
   "language": "bash",
   "name": "bash"
  },
  "language_info": {
   "codemirror_mode": "shell",
   "file_extension": ".sh",
   "mimetype": "text/x-sh",
   "name": "bash"
  }
 },
 "nbformat": 4,
 "nbformat_minor": 4
}
